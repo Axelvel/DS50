{
 "cells": [
  {
   "cell_type": "markdown",
   "id": "570fb942",
   "metadata": {},
   "source": [
    "# Decision Tree"
   ]
  },
  {
   "cell_type": "markdown",
   "id": "237ae765",
   "metadata": {},
   "source": [
    "#  1. Importing Required Libraries"
   ]
  },
  {
   "cell_type": "code",
   "execution_count": 254,
   "id": "a1cf4bc5",
   "metadata": {},
   "outputs": [],
   "source": [
    "# Load libraries\n",
    "import pandas as pd\n",
    "import numpy as np\n",
    "from sklearn.tree import DecisionTreeClassifier as classifier # Import Decision Tree Classifier\n",
    "from sklearn.model_selection import train_test_split # Import train_test_split function\n",
    "from sklearn import metrics #Import scikit-learn metrics module for accuracy calculation\n",
    "from sklearn.preprocessing import LabelEncoder\n",
    "import matplotlib.pyplot as plt\n",
    "from sklearn.metrics import accuracy_score\n",
    "from sklearn.tree import DecisionTreeClassifier"
   ]
  },
  {
   "cell_type": "markdown",
   "id": "f03175be",
   "metadata": {},
   "source": [
    "# 2. Loading Data"
   ]
  },
  {
   "cell_type": "code",
   "execution_count": 255,
   "id": "c8a4b5bf",
   "metadata": {},
   "outputs": [],
   "source": [
    "data = pd.read_csv('https://raw.githubusercontent.com/Axelvel/DS50/main/Datasets/Datasets_Region_France_2016_2020.csv')"
   ]
  },
  {
   "cell_type": "raw",
   "id": "ab386164",
   "metadata": {},
   "source": [
    "Then we select a particular region. To select the whole of France, just put this line in the comments."
   ]
  },
  {
   "cell_type": "code",
   "execution_count": 256,
   "id": "dd1b3ccc",
   "metadata": {},
   "outputs": [],
   "source": [
    "# load dataset\n",
    "data =data[data['Regions']=='PACA']\n",
    "# 12 Regions :\n",
    "# Auvergne Rhone-Alpes - Bourgogne Franche-Comte - Bretagne - Centre Val de Loire - Grand Est - Hauts-de-France \n",
    "# Ile-de-France - Normandie - Nouvelle-Aquitaine - Occitanie - PACA - Pays de la Loire\n",
    "\n",
    "#Les noms des colonnes\n",
    "#Regions    Dates    Heures    Electricite    Gaz    Tmin    Tmax    Tmoy    Taux de Co2\n"
   ]
  },
  {
   "cell_type": "raw",
   "id": "a78e0a82",
   "metadata": {},
   "source": [
    "Rows with values Nan or equal to 0 due to inconsistencies in consumption are deleted. Normally, as all the data are cleaned, this is not necessary. However, it allows to have an additional security if one or more omissions remain."
   ]
  },
  {
   "cell_type": "code",
   "execution_count": 257,
   "id": "c9c5e7ed",
   "metadata": {},
   "outputs": [],
   "source": [
    "data.replace(0,np.nan, inplace=True)\n",
    "data.dropna(inplace=True)"
   ]
  },
  {
   "cell_type": "raw",
   "id": "34fb7c83",
   "metadata": {},
   "source": [
    "Dataset display"
   ]
  },
  {
   "cell_type": "code",
   "execution_count": 258,
   "id": "eb95b68f",
   "metadata": {},
   "outputs": [
    {
     "data": {
      "text/html": [
       "<div>\n",
       "<style scoped>\n",
       "    .dataframe tbody tr th:only-of-type {\n",
       "        vertical-align: middle;\n",
       "    }\n",
       "\n",
       "    .dataframe tbody tr th {\n",
       "        vertical-align: top;\n",
       "    }\n",
       "\n",
       "    .dataframe thead th {\n",
       "        text-align: right;\n",
       "    }\n",
       "</style>\n",
       "<table border=\"1\" class=\"dataframe\">\n",
       "  <thead>\n",
       "    <tr style=\"text-align: right;\">\n",
       "      <th></th>\n",
       "      <th>Regions</th>\n",
       "      <th>Dates</th>\n",
       "      <th>Heures</th>\n",
       "      <th>Electricite</th>\n",
       "      <th>Gaz</th>\n",
       "      <th>Tmin</th>\n",
       "      <th>Tmax</th>\n",
       "      <th>Tmoy</th>\n",
       "      <th>Taux de Co2</th>\n",
       "    </tr>\n",
       "  </thead>\n",
       "  <tbody>\n",
       "    <tr>\n",
       "      <th>876960</th>\n",
       "      <td>PACA</td>\n",
       "      <td>01/01/2016</td>\n",
       "      <td>00:00</td>\n",
       "      <td>5858</td>\n",
       "      <td>2226</td>\n",
       "      <td>5.3</td>\n",
       "      <td>12.77</td>\n",
       "      <td>9.03</td>\n",
       "      <td>31</td>\n",
       "    </tr>\n",
       "    <tr>\n",
       "      <th>876961</th>\n",
       "      <td>PACA</td>\n",
       "      <td>01/01/2016</td>\n",
       "      <td>00:30</td>\n",
       "      <td>5477</td>\n",
       "      <td>2227</td>\n",
       "      <td>5.3</td>\n",
       "      <td>12.77</td>\n",
       "      <td>9.03</td>\n",
       "      <td>31</td>\n",
       "    </tr>\n",
       "    <tr>\n",
       "      <th>876962</th>\n",
       "      <td>PACA</td>\n",
       "      <td>01/01/2016</td>\n",
       "      <td>01:00</td>\n",
       "      <td>5278</td>\n",
       "      <td>2205</td>\n",
       "      <td>5.3</td>\n",
       "      <td>12.77</td>\n",
       "      <td>9.03</td>\n",
       "      <td>32</td>\n",
       "    </tr>\n",
       "    <tr>\n",
       "      <th>876963</th>\n",
       "      <td>PACA</td>\n",
       "      <td>01/01/2016</td>\n",
       "      <td>01:30</td>\n",
       "      <td>5262</td>\n",
       "      <td>2212</td>\n",
       "      <td>5.3</td>\n",
       "      <td>12.77</td>\n",
       "      <td>9.03</td>\n",
       "      <td>32</td>\n",
       "    </tr>\n",
       "    <tr>\n",
       "      <th>876964</th>\n",
       "      <td>PACA</td>\n",
       "      <td>01/01/2016</td>\n",
       "      <td>02:00</td>\n",
       "      <td>5154</td>\n",
       "      <td>2209</td>\n",
       "      <td>5.3</td>\n",
       "      <td>12.77</td>\n",
       "      <td>9.03</td>\n",
       "      <td>32</td>\n",
       "    </tr>\n",
       "  </tbody>\n",
       "</table>\n",
       "</div>"
      ],
      "text/plain": [
       "       Regions       Dates Heures  Electricite   Gaz  Tmin   Tmax  Tmoy  \\\n",
       "876960    PACA  01/01/2016  00:00         5858  2226   5.3  12.77  9.03   \n",
       "876961    PACA  01/01/2016  00:30         5477  2227   5.3  12.77  9.03   \n",
       "876962    PACA  01/01/2016  01:00         5278  2205   5.3  12.77  9.03   \n",
       "876963    PACA  01/01/2016  01:30         5262  2212   5.3  12.77  9.03   \n",
       "876964    PACA  01/01/2016  02:00         5154  2209   5.3  12.77  9.03   \n",
       "\n",
       "        Taux de Co2  \n",
       "876960           31  \n",
       "876961           31  \n",
       "876962           32  \n",
       "876963           32  \n",
       "876964           32  "
      ]
     },
     "execution_count": 258,
     "metadata": {},
     "output_type": "execute_result"
    }
   ],
   "source": [
    "data.head()"
   ]
  },
  {
   "cell_type": "raw",
   "id": "a78ac457",
   "metadata": {},
   "source": [
    "Information about our database:"
   ]
  },
  {
   "cell_type": "code",
   "execution_count": 259,
   "id": "84ff1f96",
   "metadata": {},
   "outputs": [
    {
     "name": "stdout",
     "output_type": "stream",
     "text": [
      "<class 'pandas.core.frame.DataFrame'>\n",
      "Int64Index: 87696 entries, 876960 to 964655\n",
      "Data columns (total 9 columns):\n",
      " #   Column       Non-Null Count  Dtype  \n",
      "---  ------       --------------  -----  \n",
      " 0   Regions      87696 non-null  object \n",
      " 1   Dates        87696 non-null  object \n",
      " 2   Heures       87696 non-null  object \n",
      " 3   Electricite  87696 non-null  int64  \n",
      " 4   Gaz          87696 non-null  int64  \n",
      " 5   Tmin         87696 non-null  float64\n",
      " 6   Tmax         87696 non-null  float64\n",
      " 7   Tmoy         87696 non-null  float64\n",
      " 8   Taux de Co2  87696 non-null  int64  \n",
      "dtypes: float64(3), int64(3), object(3)\n",
      "memory usage: 6.7+ MB\n"
     ]
    }
   ],
   "source": [
    "data.info()"
   ]
  },
  {
   "cell_type": "markdown",
   "id": "1b693ee0",
   "metadata": {},
   "source": [
    "# 3. Create label encoder instance"
   ]
  },
  {
   "cell_type": "raw",
   "id": "187aa168",
   "metadata": {},
   "source": [
    "Data encoding Regions, Dates, Times"
   ]
  },
  {
   "cell_type": "code",
   "execution_count": 260,
   "id": "8671c5d5",
   "metadata": {},
   "outputs": [],
   "source": [
    "lb = LabelEncoder() \n",
    "\n",
    "# Create Numerical labels for classes\n",
    "data['Regions'] = lb.fit_transform(data['Regions'] ) \n",
    "data['Dates'] = lb.fit_transform(data['Dates']) \n",
    "data['Heures'] = lb.fit_transform(data['Heures'] )"
   ]
  },
  {
   "cell_type": "code",
   "execution_count": 261,
   "id": "d31f71a7",
   "metadata": {
    "scrolled": true
   },
   "outputs": [
    {
     "data": {
      "text/html": [
       "<div>\n",
       "<style scoped>\n",
       "    .dataframe tbody tr th:only-of-type {\n",
       "        vertical-align: middle;\n",
       "    }\n",
       "\n",
       "    .dataframe tbody tr th {\n",
       "        vertical-align: top;\n",
       "    }\n",
       "\n",
       "    .dataframe thead th {\n",
       "        text-align: right;\n",
       "    }\n",
       "</style>\n",
       "<table border=\"1\" class=\"dataframe\">\n",
       "  <thead>\n",
       "    <tr style=\"text-align: right;\">\n",
       "      <th></th>\n",
       "      <th>Regions</th>\n",
       "      <th>Dates</th>\n",
       "      <th>Heures</th>\n",
       "      <th>Electricite</th>\n",
       "      <th>Gaz</th>\n",
       "      <th>Tmin</th>\n",
       "      <th>Tmax</th>\n",
       "      <th>Tmoy</th>\n",
       "      <th>Taux de Co2</th>\n",
       "    </tr>\n",
       "  </thead>\n",
       "  <tbody>\n",
       "    <tr>\n",
       "      <th>876960</th>\n",
       "      <td>0</td>\n",
       "      <td>0</td>\n",
       "      <td>0</td>\n",
       "      <td>5858</td>\n",
       "      <td>2226</td>\n",
       "      <td>5.3</td>\n",
       "      <td>12.77</td>\n",
       "      <td>9.03</td>\n",
       "      <td>31</td>\n",
       "    </tr>\n",
       "    <tr>\n",
       "      <th>876961</th>\n",
       "      <td>0</td>\n",
       "      <td>0</td>\n",
       "      <td>1</td>\n",
       "      <td>5477</td>\n",
       "      <td>2227</td>\n",
       "      <td>5.3</td>\n",
       "      <td>12.77</td>\n",
       "      <td>9.03</td>\n",
       "      <td>31</td>\n",
       "    </tr>\n",
       "    <tr>\n",
       "      <th>876962</th>\n",
       "      <td>0</td>\n",
       "      <td>0</td>\n",
       "      <td>2</td>\n",
       "      <td>5278</td>\n",
       "      <td>2205</td>\n",
       "      <td>5.3</td>\n",
       "      <td>12.77</td>\n",
       "      <td>9.03</td>\n",
       "      <td>32</td>\n",
       "    </tr>\n",
       "    <tr>\n",
       "      <th>876963</th>\n",
       "      <td>0</td>\n",
       "      <td>0</td>\n",
       "      <td>3</td>\n",
       "      <td>5262</td>\n",
       "      <td>2212</td>\n",
       "      <td>5.3</td>\n",
       "      <td>12.77</td>\n",
       "      <td>9.03</td>\n",
       "      <td>32</td>\n",
       "    </tr>\n",
       "    <tr>\n",
       "      <th>876964</th>\n",
       "      <td>0</td>\n",
       "      <td>0</td>\n",
       "      <td>4</td>\n",
       "      <td>5154</td>\n",
       "      <td>2209</td>\n",
       "      <td>5.3</td>\n",
       "      <td>12.77</td>\n",
       "      <td>9.03</td>\n",
       "      <td>32</td>\n",
       "    </tr>\n",
       "  </tbody>\n",
       "</table>\n",
       "</div>"
      ],
      "text/plain": [
       "        Regions  Dates  Heures  Electricite   Gaz  Tmin   Tmax  Tmoy  \\\n",
       "876960        0      0       0         5858  2226   5.3  12.77  9.03   \n",
       "876961        0      0       1         5477  2227   5.3  12.77  9.03   \n",
       "876962        0      0       2         5278  2205   5.3  12.77  9.03   \n",
       "876963        0      0       3         5262  2212   5.3  12.77  9.03   \n",
       "876964        0      0       4         5154  2209   5.3  12.77  9.03   \n",
       "\n",
       "        Taux de Co2  \n",
       "876960           31  \n",
       "876961           31  \n",
       "876962           32  \n",
       "876963           32  \n",
       "876964           32  "
      ]
     },
     "execution_count": 261,
     "metadata": {},
     "output_type": "execute_result"
    }
   ],
   "source": [
    "#Display of dataset after encoding \n",
    "data.head()"
   ]
  },
  {
   "cell_type": "markdown",
   "id": "707ba387",
   "metadata": {},
   "source": [
    "# Encoder par catégorie l'électricité"
   ]
  },
  {
   "cell_type": "raw",
   "id": "bb68f6f3",
   "metadata": {},
   "source": [
    "Since we are doing classification and not regression, we will have to create categories for electricity consumption.\n",
    "\n",
    "In order to decide together on a scale, it is necessary to determine which bounds make up our dataset."
   ]
  },
  {
   "cell_type": "code",
   "execution_count": 262,
   "id": "356cde53",
   "metadata": {},
   "outputs": [
    {
     "name": "stdout",
     "output_type": "stream",
     "text": [
      "Max électricité :  8331\n",
      "Min électricité :  667\n",
      "Plage de donnée :  7664\n"
     ]
    }
   ],
   "source": [
    "# Valeur maximum de la consommation d'électricité sur la plage sélectionnée\n",
    "max_elec = max(data['Electricite'])\n",
    "print('Max électricité : ', max_elec)\n",
    "\n",
    "# Valeur minimum de la consommation d'électricité sur la plage sélectionnée\n",
    "min_elec = min(data['Electricite'])\n",
    "print('Min électricité : ', min_elec)\n",
    "\n",
    "# Plage de donnée de la consommation d'électricité sur la plage sélectionnée\n",
    "ecart = max_elec - min_elec\n",
    "print('Plage de donnée : ', ecart)"
   ]
  },
  {
   "cell_type": "code",
   "execution_count": 263,
   "id": "1eef11bd",
   "metadata": {},
   "outputs": [
    {
     "name": "stdout",
     "output_type": "stream",
     "text": [
      "[    0.  1000.  2000.  3000.  4000.  5000.  6000.  7000.  8000.  9000.\n",
      " 10000. 11000. 12000. 13000.    inf]\n",
      "[ 1  2  3  4  5  6  7  8  9 10 11 12 13 14]\n"
     ]
    }
   ],
   "source": [
    "bins = np.arange(0, 14000, 1000)\n",
    "bins = np.append(bins, float(\"inf\"))\n",
    "labels = np.arange(1,15,1)\n",
    "data_elec = pd.cut(data['Electricite'], bins=bins, labels=labels)\n",
    "print(bins)\n",
    "print(labels)"
   ]
  },
  {
   "cell_type": "markdown",
   "id": "464bb85f",
   "metadata": {},
   "source": [
    "#  Encoder par catégorie le gaz"
   ]
  },
  {
   "cell_type": "code",
   "execution_count": 264,
   "id": "9110823f",
   "metadata": {},
   "outputs": [
    {
     "name": "stdout",
     "output_type": "stream",
     "text": [
      "Max électricité :  9700\n",
      "Min électricité :  234\n",
      "Plage de donnée :  9466\n"
     ]
    }
   ],
   "source": [
    "# Valeur maximum de la consommation d'électricité sur la plage sélectionnée\n",
    "max_gaz = max(data['Gaz'])\n",
    "print('Max électricité : ', max_gaz)\n",
    "\n",
    "# Valeur minimum de la consommation d'électricité sur la plage sélectionnée\n",
    "min_gaz = min(data['Gaz'])\n",
    "print('Min électricité : ', min_gaz)\n",
    "\n",
    "# Plage de donnée de la consommation d'électricité sur la plage sélectionnée\n",
    "ecart = max_gaz - min_gaz\n",
    "print('Plage de donnée : ', ecart)"
   ]
  },
  {
   "cell_type": "code",
   "execution_count": 265,
   "id": "9a8e0aa9",
   "metadata": {},
   "outputs": [
    {
     "name": "stdout",
     "output_type": "stream",
     "text": [
      "[   0. 1000. 2000. 3000. 4000. 5000. 6000. 7000. 8000. 9000.   inf]\n",
      "[ 1  2  3  4  5  6  7  8  9 10]\n"
     ]
    }
   ],
   "source": [
    "bins = np.arange(0, 10000, 1000)\n",
    "bins = np.append(bins, float(\"inf\"))\n",
    "labels = np.arange(1, 11, 1)\n",
    "data_gaz = pd.cut(data['Gaz'], bins=bins, labels=labels)\n",
    "print(bins)\n",
    "print(labels)"
   ]
  },
  {
   "cell_type": "code",
   "execution_count": 266,
   "id": "61f1d025",
   "metadata": {},
   "outputs": [
    {
     "data": {
      "text/plain": [
       "<AxesSubplot:>"
      ]
     },
     "execution_count": 266,
     "metadata": {},
     "output_type": "execute_result"
    },
    {
     "data": {
      "image/png": "[encoded data removed]",
      "text/plain": [
       "<Figure size 432x288 with 1 Axes>"
      ]
     },
     "metadata": {
      "needs_background": "light"
     },
     "output_type": "display_data"
    }
   ],
   "source": [
    "data['Electricite'].hist()"
   ]
  },
  {
   "cell_type": "code",
   "execution_count": 267,
   "id": "0bd343c0",
   "metadata": {},
   "outputs": [
    {
     "data": {
      "text/plain": [
       "<AxesSubplot:>"
      ]
     },
     "execution_count": 267,
     "metadata": {},
     "output_type": "execute_result"
    },
    {
     "data": {
      "image/png": "[encoded data removed]",
      "text/plain": [
       "<Figure size 432x288 with 1 Axes>"
      ]
     },
     "metadata": {
      "needs_background": "light"
     },
     "output_type": "display_data"
    }
   ],
   "source": [
    "data['Gaz'].hist()"
   ]
  },
  {
   "cell_type": "markdown",
   "id": "17cf754d",
   "metadata": {},
   "source": [
    "# 4. Construction du modèle et calcul des variables comparatives\n"
   ]
  },
  {
   "cell_type": "raw",
   "id": "0cbf492c",
   "metadata": {},
   "source": [
    "Nous allons calculer l'accuracy sur le training set et le test set. Aussi, nous allons calculer le temps que met le modèle pour fit nos données. Nous l'avons fait pour quatre cas particulier afin de déterminer s'il y a une réelle différence dans ces quatre cas.\n",
    "\n",
    "Cas A : calculs pour l'électrcité en prenant en paramètre le gaz\n",
    "\n",
    "Cas B : calculs pour l'électrcité en ne prenant pas en paramètre le gaz\n",
    "\n",
    "Cas C : calculs pour le gaz en prenant en paramètre l'électricité\n",
    "\n",
    "Cas D : calculs pour le gaz en ne prenant pas en paramètre l'électricité"
   ]
  },
  {
   "cell_type": "markdown",
   "id": "fbd32523",
   "metadata": {},
   "source": [
    "# Cas A : calculs pour l'électrcité en prenant en paramètre le gaz"
   ]
  },
  {
   "cell_type": "raw",
   "id": "dc196bb8",
   "metadata": {},
   "source": [
    "First, we will calculate for electricity taking into account the gas."
   ]
  },
  {
   "cell_type": "code",
   "execution_count": 268,
   "id": "a1d687f4",
   "metadata": {},
   "outputs": [],
   "source": [
    "#split dataset in features and target variable\n",
    "\n",
    "feature_cols = ['Regions','Dates', 'Heures', 'Tmin', 'Tmoy','Taux de Co2']\n",
    "Xe = data[feature_cols] # Features  \n",
    "ye = data_elec # Target variable"
   ]
  },
  {
   "cell_type": "code",
   "execution_count": 269,
   "id": "668af647",
   "metadata": {},
   "outputs": [],
   "source": [
    "## Split dataset into training set and test set\n",
    "X_train, X_test, y_train, y_test = train_test_split(Xe, ye, test_size=0.2, random_state = 42) # 80% training and 20% test"
   ]
  },
  {
   "cell_type": "code",
   "execution_count": 270,
   "id": "f8716a86",
   "metadata": {},
   "outputs": [
    {
     "name": "stdout",
     "output_type": "stream",
     "text": [
      "Wall time: 184 ms\n"
     ]
    }
   ],
   "source": [
    "# Create Decision Tree classifer object\n",
    "clf = DecisionTreeClassifier(random_state=0,criterion='gini')\n",
    "\n",
    "# Train Decision Tree Classifer\n",
    "%time clf = clf.fit(X_train,y_train)\n",
    "\n",
    "#Predict the response for test dataset\n",
    "pred_test =clf.predict(X_test)\n",
    "pred_train = clf.predict(X_train)\n"
   ]
  },
  {
   "cell_type": "raw",
   "id": "fa514762",
   "metadata": {},
   "source": [
    "Si nous faisons une prédiction sur l'ensemble de test, nous obtenons une moyenne d'erreur très faible :"
   ]
  },
  {
   "cell_type": "code",
   "execution_count": 271,
   "id": "369a7bf0",
   "metadata": {},
   "outputs": [
    {
     "name": "stdout",
     "output_type": "stream",
     "text": [
      "Moyenne des erreurs : 0.12 degrés\n"
     ]
    }
   ],
   "source": [
    "predictions = clf.predict(X_test)\n",
    "\n",
    "# Calcul de la valeur absolue de l'erreur\n",
    "errors = abs(predictions - y_test.astype(np.int8))\n",
    "\n",
    "print('Moyenne des erreurs :', round(np.mean(errors), 2), 'degrés')"
   ]
  },
  {
   "cell_type": "code",
   "execution_count": 272,
   "id": "c354df15",
   "metadata": {},
   "outputs": [
    {
     "name": "stdout",
     "output_type": "stream",
     "text": [
      "Accuracy Score on test data:  100.0\n",
      "Accuracy Score on test data:  88.05017103762827\n"
     ]
    }
   ],
   "source": [
    "#Evaluating Model\n",
    "\n",
    "# Model Accuracy, how often is the classifier correct?\n",
    "\n",
    "print('Accuracy Score on test data: ',accuracy_score(y_train, pred_train)*100)\n",
    "print('Accuracy Score on test data: ', accuracy_score(y_test,pred_test )*100)"
   ]
  },
  {
   "cell_type": "markdown",
   "id": "55992e2d",
   "metadata": {},
   "source": [
    "# Cas B : calculs pour l'électrcité en ne prenant pas en paramètre le gaz"
   ]
  },
  {
   "cell_type": "code",
   "execution_count": 273,
   "id": "19efe9d4",
   "metadata": {},
   "outputs": [],
   "source": [
    "#split dataset in features and target variable\n",
    "\n",
    "feature_cols = ['Regions','Dates', 'Heures','Gaz', 'Tmin', 'Tmoy','Taux de Co2']\n",
    "Xe = data[feature_cols] # Features  \n",
    "ye = data_elec # Target variable"
   ]
  },
  {
   "cell_type": "code",
   "execution_count": 274,
   "id": "5451e44e",
   "metadata": {},
   "outputs": [],
   "source": [
    "\n",
    "## Split dataset into training set and test set\n",
    "X_train, X_test, y_train, y_test = train_test_split(Xe, ye, test_size=0.2, random_state = 42) # 80% training and 20% test"
   ]
  },
  {
   "cell_type": "code",
   "execution_count": 275,
   "id": "758a8623",
   "metadata": {},
   "outputs": [
    {
     "name": "stdout",
     "output_type": "stream",
     "text": [
      "Wall time: 269 ms\n"
     ]
    }
   ],
   "source": [
    "# Create Decision Tree classifer object\n",
    "clf = DecisionTreeClassifier(random_state=0,criterion='gini')\n",
    "\n",
    "# Train Decision Tree Classifer\n",
    "%time clf = clf.fit(X_train,y_train)\n",
    "\n",
    "#Predict the response for test dataset\n",
    "pred_test =clf.predict(X_test)\n",
    "pred_train = clf.predict(X_train)\n"
   ]
  },
  {
   "cell_type": "code",
   "execution_count": 276,
   "id": "c91b2c74",
   "metadata": {},
   "outputs": [
    {
     "name": "stdout",
     "output_type": "stream",
     "text": [
      "Moyenne des erreurs : 0.12 degrés\n"
     ]
    }
   ],
   "source": [
    "predictions = clf.predict(X_test)\n",
    "\n",
    "# Calcul de la valeur absolue de l'erreur\n",
    "errors = abs(predictions - y_test.astype(np.int8))\n",
    "print('Moyenne des erreurs :', round(np.mean(errors), 2), 'degrés')"
   ]
  },
  {
   "cell_type": "code",
   "execution_count": 277,
   "id": "4f67d59d",
   "metadata": {},
   "outputs": [
    {
     "name": "stdout",
     "output_type": "stream",
     "text": [
      "Accuracy Score on test data:  100.0\n",
      "Accuracy Score on test data:  87.61117445838084\n"
     ]
    }
   ],
   "source": [
    "#Evaluating Model\n",
    "\n",
    "# Model Accuracy, how often is the classifier correct?\n",
    "\n",
    "print('Accuracy Score on test data: ',accuracy_score(y_train, pred_train)*100)\n",
    "print('Accuracy Score on test data: ', accuracy_score(y_test,pred_test )*100)"
   ]
  },
  {
   "cell_type": "markdown",
   "id": "43a7dd33",
   "metadata": {},
   "source": [
    "# Cas C : calculs pour le gaz en prenant en paramètre l'électricité"
   ]
  },
  {
   "cell_type": "code",
   "execution_count": 278,
   "id": "be0305fb",
   "metadata": {},
   "outputs": [],
   "source": [
    "#split dataset in features and target variable\n",
    "\n",
    "feature_cols = ['Regions','Dates', 'Heures','Electricite', 'Tmin', 'Tmax','Tmoy','Taux de Co2']\n",
    "\n",
    "Xg = data[feature_cols] # Features  \n",
    "yg = data_gaz # Target variable"
   ]
  },
  {
   "cell_type": "code",
   "execution_count": 279,
   "id": "913bec7f",
   "metadata": {},
   "outputs": [],
   "source": [
    "## Split dataset into training set and test set\n",
    "X_train, X_test, y_train, y_test = train_test_split(Xg, yg, test_size=0.2, random_state = 42) # 80% training and 20% test"
   ]
  },
  {
   "cell_type": "code",
   "execution_count": 280,
   "id": "d5860004",
   "metadata": {},
   "outputs": [
    {
     "name": "stdout",
     "output_type": "stream",
     "text": [
      "Wall time: 260 ms\n"
     ]
    }
   ],
   "source": [
    "# Create Decision Tree classifer object\n",
    "clf = DecisionTreeClassifier(random_state=0,criterion='gini')\n",
    "\n",
    "# Train Decision Tree Classifer\n",
    "%time clf = clf.fit(X_train,y_train)\n",
    "\n",
    "#Predict the response for test dataset\n",
    "pred_test =clf.predict(X_test)\n",
    "pred_train = clf.predict(X_train)\n"
   ]
  },
  {
   "cell_type": "code",
   "execution_count": 281,
   "id": "65474f56",
   "metadata": {},
   "outputs": [
    {
     "name": "stdout",
     "output_type": "stream",
     "text": [
      "Moyenne des erreurs : 0.19 degrés\n"
     ]
    }
   ],
   "source": [
    "predictions = clf.predict(X_test)\n",
    "\n",
    "# Calcul de la valeur absolue de l'erreur\n",
    "errors = abs(predictions - y_test.astype(np.int8))\n",
    "print('Moyenne des erreurs :', round(np.mean(errors), 2), 'degrés')"
   ]
  },
  {
   "cell_type": "code",
   "execution_count": 282,
   "id": "9faa2f5d",
   "metadata": {},
   "outputs": [
    {
     "name": "stdout",
     "output_type": "stream",
     "text": [
      "Accuracy Score on test data:  100.0\n",
      "Accuracy Score on test data:  83.85404789053592\n"
     ]
    }
   ],
   "source": [
    "#Evaluating Model\n",
    "\n",
    "# Model Accuracy, how often is the classifier correct?\n",
    "\n",
    "print('Accuracy Score on test data: ',accuracy_score(y_train, pred_train)*100)\n",
    "print('Accuracy Score on test data: ', accuracy_score(y_test,pred_test )*100)"
   ]
  },
  {
   "cell_type": "markdown",
   "id": "7e6f22d0",
   "metadata": {},
   "source": [
    "# Cas D : calculs pour le gaz en ne prenant pas en paramètre l'électricité"
   ]
  },
  {
   "cell_type": "code",
   "execution_count": 283,
   "id": "6b9c8240",
   "metadata": {},
   "outputs": [],
   "source": [
    "#split dataset in features and target variable\n",
    "\n",
    "feature_cols = ['Regions','Dates', 'Heures', 'Tmin', 'Tmax','Tmoy','Taux de Co2']\n",
    "\n",
    "Xg = data[feature_cols] # Features  \n",
    "yg = data_gaz # Target variable"
   ]
  },
  {
   "cell_type": "code",
   "execution_count": 284,
   "id": "69c33902",
   "metadata": {},
   "outputs": [],
   "source": [
    "## Split dataset into training set and test set\n",
    "X_train, X_test, y_train, y_test = train_test_split(Xg, yg, test_size=0.2, random_state = 42) # 80% training and 20% test"
   ]
  },
  {
   "cell_type": "code",
   "execution_count": 285,
   "id": "4e66802d",
   "metadata": {},
   "outputs": [
    {
     "name": "stdout",
     "output_type": "stream",
     "text": [
      "Wall time: 184 ms\n"
     ]
    }
   ],
   "source": [
    "# Create Decision Tree classifer object\n",
    "clf = DecisionTreeClassifier(random_state=0,criterion='gini')\n",
    "\n",
    "# Train Decision Tree Classifer\n",
    "%time clf = clf.fit(X_train,y_train)\n",
    "\n",
    "#Predict the response for test dataset\n",
    "pred_test =clf.predict(X_test)\n",
    "pred_train = clf.predict(X_train)\n"
   ]
  },
  {
   "cell_type": "code",
   "execution_count": 286,
   "id": "e6bef78f",
   "metadata": {},
   "outputs": [
    {
     "name": "stdout",
     "output_type": "stream",
     "text": [
      "Moyenne des erreurs : 0.15 degrés\n"
     ]
    }
   ],
   "source": [
    "predictions = clf.predict(X_test)\n",
    "\n",
    "# Calcul de la valeur absolue de l'erreur\n",
    "errors = abs(predictions - y_test.astype(np.int8))\n",
    "print('Moyenne des erreurs :', round(np.mean(errors), 2), 'degrés')"
   ]
  },
  {
   "cell_type": "code",
   "execution_count": 287,
   "id": "2317f384",
   "metadata": {},
   "outputs": [
    {
     "name": "stdout",
     "output_type": "stream",
     "text": [
      "Accuracy Score on test data:  100.0\n",
      "Accuracy Score on test data:  86.48232611174458\n"
     ]
    }
   ],
   "source": [
    "#Evaluating Model\n",
    "\n",
    "# Model Accuracy, how often is the classifier correct?\n",
    "\n",
    "print('Accuracy Score on test data: ',accuracy_score(y_train, pred_train)*100)\n",
    "print('Accuracy Score on test data: ', accuracy_score(y_test,pred_test )*100)"
   ]
  },
  {
   "cell_type": "code",
   "execution_count": 288,
   "id": "b44b6576",
   "metadata": {},
   "outputs": [
    {
     "data": {
      "text/plain": [
       "array([[2336,   87,    9,    2,    0,    1,    0,    0,    0,    0],\n",
       "       [ 109, 1327,   88,   13,    9,    0,    1,    0,    0,    0],\n",
       "       [   7,  105, 2496,  200,   14,    5,    1,    0,    1,    0],\n",
       "       [   3,   13,  201, 2593,  176,   13,    2,    0,    1,    0],\n",
       "       [   3,   11,   16,  179, 1623,  130,   12,    3,    0,    0],\n",
       "       [   0,    2,    6,    7,  117, 1127,  100,    8,    0,    0],\n",
       "       [   1,    0,    1,    3,    8,  104,  922,  127,    4,    0],\n",
       "       [   0,    0,    0,    0,    0,    7,  116, 1584,  130,    1],\n",
       "       [   0,    0,    0,    0,    0,    0,    4,  151, 1033,   26],\n",
       "       [   0,    0,    0,    0,    0,    0,    0,    0,   33,  128]],\n",
       "      dtype=int64)"
      ]
     },
     "execution_count": 288,
     "metadata": {},
     "output_type": "execute_result"
    }
   ],
   "source": [
    "# Making the Confusion Matrix\n",
    "from sklearn.metrics import confusion_matrix\n",
    "cm = confusion_matrix(y_test,pred_test)\n",
    "cm\n"
   ]
  },
  {
   "cell_type": "markdown",
   "id": "145fc0bf",
   "metadata": {},
   "source": [
    "# 5. Interprétation des résultats"
   ]
  },
  {
   "cell_type": "markdown",
   "id": "a74fedd2",
   "metadata": {},
   "source": [
    "# A. Features Importances Electricité"
   ]
  },
  {
   "cell_type": "code",
   "execution_count": 289,
   "id": "7e569755",
   "metadata": {},
   "outputs": [],
   "source": [
    "data_region = data.Regions\n",
    "data_date = data.Dates\n",
    "data_heure = data.Heures\n",
    "data_electricite = data.Electricite\n",
    "data_gaz = data.Gaz\n",
    "data_Tmin = data.Tmin\n",
    "data_Tmoy = data.Tmoy\n",
    "data_Tmax = data.Tmax\n",
    "data_CO2 = data['Taux de Co2']\n",
    "\n",
    "# Encoder des varibles non numériques : Régions, Dates et Heures\n",
    "from sklearn import preprocessing\n",
    "labelEncoder = preprocessing.LabelEncoder()\n",
    "\n",
    "encoded_region = labelEncoder.fit_transform(data_region)\n",
    "encoded_date = labelEncoder.fit_transform(data_date)\n",
    "encoded_heure = labelEncoder.fit_transform(data_heure)"
   ]
  },
  {
   "cell_type": "code",
   "execution_count": 290,
   "id": "0bf67860",
   "metadata": {},
   "outputs": [
    {
     "name": "stdout",
     "output_type": "stream",
     "text": [
      "[    0.  1000.  2000.  3000.  4000.  5000.  6000.  7000.  8000.  9000.\n",
      " 10000. 11000. 12000. 13000.    inf]\n",
      "[ 1  2  3  4  5  6  7  8  9 10 11 12 13 14]\n"
     ]
    }
   ],
   "source": [
    "bins = np.arange(0, 14000, 1000)\n",
    "bins = np.append(bins, float(\"inf\"))\n",
    "labels = np.arange(1, 15, 1)\n",
    "data_electricite = pd.cut(data['Electricite'], bins=bins, labels=labels)\n",
    "print(bins)\n",
    "print(labels)"
   ]
  },
  {
   "cell_type": "code",
   "execution_count": 291,
   "id": "1cd7eab1",
   "metadata": {},
   "outputs": [],
   "source": [
    "features = [list(i) for i in zip (encoded_region, encoded_date, encoded_heure, data_electricite, data_gaz, data_Tmin, data_Tmoy, data_Tmax, data_CO2)]\n",
    "## Split dataset into training set and test set\n",
    "X_train, X_test, y_train, y_test = train_test_split(features,data_electricite, test_size=0.2, random_state = 4) # 80% training and 20% test\n"
   ]
  },
  {
   "cell_type": "code",
   "execution_count": 292,
   "id": "cb48b4d2",
   "metadata": {},
   "outputs": [
    {
     "data": {
      "text/plain": [
       "DecisionTreeClassifier(max_depth=30, min_samples_leaf=50, random_state=0)"
      ]
     },
     "execution_count": 292,
     "metadata": {},
     "output_type": "execute_result"
    }
   ],
   "source": [
    "clf = classifier(random_state=0,min_samples_leaf=50,max_depth=30)\n",
    "\n",
    "clf.fit(X_train,y_train)"
   ]
  },
  {
   "cell_type": "code",
   "execution_count": 293,
   "id": "3f02dd2b",
   "metadata": {},
   "outputs": [
    {
     "data": {
      "text/plain": [
       "array([0.00000000e+00, 0.00000000e+00, 0.00000000e+00, 9.99917850e-01,\n",
       "       0.00000000e+00, 6.15345087e-06, 7.59964042e-05, 0.00000000e+00,\n",
       "       0.00000000e+00])"
      ]
     },
     "execution_count": 293,
     "metadata": {},
     "output_type": "execute_result"
    }
   ],
   "source": [
    "clf.feature_importances_"
   ]
  },
  {
   "cell_type": "code",
   "execution_count": 294,
   "id": "bfb2d41d",
   "metadata": {},
   "outputs": [
    {
     "data": {
      "text/html": [
       "<div>\n",
       "<style scoped>\n",
       "    .dataframe tbody tr th:only-of-type {\n",
       "        vertical-align: middle;\n",
       "    }\n",
       "\n",
       "    .dataframe tbody tr th {\n",
       "        vertical-align: top;\n",
       "    }\n",
       "\n",
       "    .dataframe thead th {\n",
       "        text-align: right;\n",
       "    }\n",
       "</style>\n",
       "<table border=\"1\" class=\"dataframe\">\n",
       "  <thead>\n",
       "    <tr style=\"text-align: right;\">\n",
       "      <th></th>\n",
       "      <th>Importance for electricity</th>\n",
       "    </tr>\n",
       "  </thead>\n",
       "  <tbody>\n",
       "    <tr>\n",
       "      <th>Electricite</th>\n",
       "      <td>0.999918</td>\n",
       "    </tr>\n",
       "    <tr>\n",
       "      <th>Tmax</th>\n",
       "      <td>0.000076</td>\n",
       "    </tr>\n",
       "    <tr>\n",
       "      <th>Tmin</th>\n",
       "      <td>0.000006</td>\n",
       "    </tr>\n",
       "    <tr>\n",
       "      <th>Regions</th>\n",
       "      <td>0.000000</td>\n",
       "    </tr>\n",
       "    <tr>\n",
       "      <th>Dates</th>\n",
       "      <td>0.000000</td>\n",
       "    </tr>\n",
       "    <tr>\n",
       "      <th>Heures</th>\n",
       "      <td>0.000000</td>\n",
       "    </tr>\n",
       "    <tr>\n",
       "      <th>Gaz</th>\n",
       "      <td>0.000000</td>\n",
       "    </tr>\n",
       "    <tr>\n",
       "      <th>Tmoy</th>\n",
       "      <td>0.000000</td>\n",
       "    </tr>\n",
       "    <tr>\n",
       "      <th>Taux de Co2</th>\n",
       "      <td>0.000000</td>\n",
       "    </tr>\n",
       "  </tbody>\n",
       "</table>\n",
       "</div>"
      ],
      "text/plain": [
       "             Importance for electricity\n",
       "Electricite                    0.999918\n",
       "Tmax                           0.000076\n",
       "Tmin                           0.000006\n",
       "Regions                        0.000000\n",
       "Dates                          0.000000\n",
       "Heures                         0.000000\n",
       "Gaz                            0.000000\n",
       "Tmoy                           0.000000\n",
       "Taux de Co2                    0.000000"
      ]
     },
     "execution_count": 294,
     "metadata": {},
     "output_type": "execute_result"
    }
   ],
   "source": [
    "pd.DataFrame(clf.feature_importances_,\n",
    "              index = data.columns, \n",
    "              columns = [\"Importance for electricity\"]).sort_values(\"Importance for electricity\", ascending = False)"
   ]
  },
  {
   "cell_type": "code",
   "execution_count": 295,
   "id": "3c93faee",
   "metadata": {},
   "outputs": [
    {
     "data": {
      "image/png": "[encoded data removed]",
      "text/plain": [
       "<Figure size 432x288 with 1 Axes>"
      ]
     },
     "metadata": {
      "needs_background": "light"
     },
     "output_type": "display_data"
    }
   ],
   "source": [
    "def plot_feature_importance(model):\n",
    "  n_feature = len(data.columns)\n",
    "  plt.barh(np.arange(n_feature), clf.feature_importances_)\n",
    "  plt.yticks(np.arange(n_feature), data.columns)\n",
    "  plt.title('Decision Tree- Feature importance graph for electricity')\n",
    "  plt.xlabel(\"Columns\")\n",
    "  plt.ylabel(\"Feature\")\n",
    "  plt.ylim(-1, n_feature)\n",
    "\n",
    "plot_feature_importance(clf)"
   ]
  },
  {
   "cell_type": "markdown",
   "id": "58aea169",
   "metadata": {},
   "source": [
    "# B. Features Importances Gaz"
   ]
  },
  {
   "cell_type": "code",
   "execution_count": 296,
   "id": "9950b24a",
   "metadata": {},
   "outputs": [],
   "source": [
    "## Split dataset into training set and test set\n",
    "features = [list(i) for i in zip (encoded_region, encoded_date, encoded_heure, data_electricite, data_gaz, data_Tmin, data_Tmoy, data_Tmax, data_CO2)]\n",
    "## Split dataset into training set and test set\n",
    "X_train, X_test, y_train, y_test = train_test_split(features,data_gaz, test_size=0.2, random_state = 4) # 80% training and 20% test\n"
   ]
  },
  {
   "cell_type": "code",
   "execution_count": 297,
   "id": "11b567a2",
   "metadata": {},
   "outputs": [
    {
     "data": {
      "text/plain": [
       "DecisionTreeClassifier(max_depth=30, min_samples_leaf=50, random_state=0)"
      ]
     },
     "execution_count": 297,
     "metadata": {},
     "output_type": "execute_result"
    }
   ],
   "source": [
    "clf = classifier(random_state=0,min_samples_leaf=50,max_depth=30)\n",
    "clf.fit(X_train,y_train)"
   ]
  },
  {
   "cell_type": "code",
   "execution_count": 298,
   "id": "64e37764",
   "metadata": {},
   "outputs": [
    {
     "data": {
      "text/html": [
       "<div>\n",
       "<style scoped>\n",
       "    .dataframe tbody tr th:only-of-type {\n",
       "        vertical-align: middle;\n",
       "    }\n",
       "\n",
       "    .dataframe tbody tr th {\n",
       "        vertical-align: top;\n",
       "    }\n",
       "\n",
       "    .dataframe thead th {\n",
       "        text-align: right;\n",
       "    }\n",
       "</style>\n",
       "<table border=\"1\" class=\"dataframe\">\n",
       "  <thead>\n",
       "    <tr style=\"text-align: right;\">\n",
       "      <th></th>\n",
       "      <th>Features_name</th>\n",
       "      <th>Importance for electricity</th>\n",
       "    </tr>\n",
       "  </thead>\n",
       "  <tbody>\n",
       "    <tr>\n",
       "      <th>0</th>\n",
       "      <td>Regions</td>\n",
       "      <td>0.000000</td>\n",
       "    </tr>\n",
       "    <tr>\n",
       "      <th>1</th>\n",
       "      <td>Dates</td>\n",
       "      <td>0.000606</td>\n",
       "    </tr>\n",
       "    <tr>\n",
       "      <th>2</th>\n",
       "      <td>Heures</td>\n",
       "      <td>0.000894</td>\n",
       "    </tr>\n",
       "    <tr>\n",
       "      <th>3</th>\n",
       "      <td>Electricite</td>\n",
       "      <td>0.000000</td>\n",
       "    </tr>\n",
       "    <tr>\n",
       "      <th>4</th>\n",
       "      <td>Gaz</td>\n",
       "      <td>0.997352</td>\n",
       "    </tr>\n",
       "    <tr>\n",
       "      <th>5</th>\n",
       "      <td>Tmin</td>\n",
       "      <td>0.000446</td>\n",
       "    </tr>\n",
       "    <tr>\n",
       "      <th>6</th>\n",
       "      <td>Tmax</td>\n",
       "      <td>0.000340</td>\n",
       "    </tr>\n",
       "    <tr>\n",
       "      <th>7</th>\n",
       "      <td>Tmoy</td>\n",
       "      <td>0.000148</td>\n",
       "    </tr>\n",
       "    <tr>\n",
       "      <th>8</th>\n",
       "      <td>Taux de Co2</td>\n",
       "      <td>0.000214</td>\n",
       "    </tr>\n",
       "  </tbody>\n",
       "</table>\n",
       "</div>"
      ],
      "text/plain": [
       "  Features_name  Importance for electricity\n",
       "0       Regions                    0.000000\n",
       "1         Dates                    0.000606\n",
       "2        Heures                    0.000894\n",
       "3   Electricite                    0.000000\n",
       "4           Gaz                    0.997352\n",
       "5          Tmin                    0.000446\n",
       "6          Tmax                    0.000340\n",
       "7          Tmoy                    0.000148\n",
       "8   Taux de Co2                    0.000214"
      ]
     },
     "execution_count": 298,
     "metadata": {},
     "output_type": "execute_result"
    }
   ],
   "source": [
    "df =pd.DataFrame({'Features_name':data.columns,'Importance for electricity':clf.feature_importances_})\n",
    "df"
   ]
  },
  {
   "cell_type": "code",
   "execution_count": 299,
   "id": "9b953a1c",
   "metadata": {},
   "outputs": [
    {
     "data": {
      "image/png": "[encoded data removed]",
      "text/plain": [
       "<Figure size 432x288 with 1 Axes>"
      ]
     },
     "metadata": {
      "needs_background": "light"
     },
     "output_type": "display_data"
    }
   ],
   "source": [
    "def plot_feature_importance(model):\n",
    "  n_feature = len(data.columns)\n",
    "  plt.barh(np.arange(n_feature), clf.feature_importances_)\n",
    "  plt.yticks(np.arange(n_feature), data.columns)\n",
    "  plt.title('Decision Tree- Feature importance graph for electricity')\n",
    "  plt.xlabel(\"Columns\")\n",
    "  plt.ylabel(\"Feature\")\n",
    "  plt.ylim(-1, n_feature)\n",
    "\n",
    "plot_feature_importance(clf)"
   ]
  },
  {
   "cell_type": "code",
   "execution_count": 300,
   "id": "eb7c1154",
   "metadata": {},
   "outputs": [],
   "source": [
    "\n",
    "\n",
    "path = clf.cost_complexity_pruning_path(X_train, y_train)\n",
    "ccp_alphas, impurities = path.ccp_alphas, path.impurities\n",
    "\n"
   ]
  },
  {
   "cell_type": "code",
   "execution_count": 301,
   "id": "26fa3d82",
   "metadata": {},
   "outputs": [
    {
     "data": {
      "text/plain": [
       "Text(0.5, 1.0, 'Total Impurity vs effective alpha for training set')"
      ]
     },
     "execution_count": 301,
     "metadata": {},
     "output_type": "execute_result"
    },
    {
     "data": {
      "image/png": "[encoded data removed]",
      "text/plain": [
       "<Figure size 576x360 with 1 Axes>"
      ]
     },
     "metadata": {
      "needs_background": "light"
     },
     "output_type": "display_data"
    }
   ],
   "source": [
    "\n",
    "\n",
    "fig, ax = plt.subplots(figsize=(8,5))\n",
    "ax.plot(ccp_alphas[:-1], impurities[:-1], marker='o', drawstyle=\"steps-post\")\n",
    "ax.set_xlabel(\"effective alpha\")\n",
    "ax.set_ylabel(\"total impurity of leaves\")\n",
    "ax.set_title(\"Total Impurity vs effective alpha for training set\")\n",
    "\n"
   ]
  },
  {
   "cell_type": "code",
   "execution_count": 308,
   "id": "de45a233",
   "metadata": {},
   "outputs": [
    {
     "data": {
      "image/png": "[encoded data removed]",
      "text/plain": [
       "<Figure size 1512x1152 with 1 Axes>"
      ]
     },
     "metadata": {
      "needs_background": "light"
     },
     "output_type": "display_data"
    }
   ],
   "source": [
    "from sklearn import tree\n",
    "plt.figure(figsize=(21,16))\n",
    "tree.plot_tree(clf,filled=True)\n",
    "plt.show()"
   ]
  },
  {
   "cell_type": "code",
   "execution_count": 311,
   "id": "749351d2",
   "metadata": {},
   "outputs": [
    {
     "data": {
      "text/plain": [
       "[Text(230.54727636337282, 427.8658064516129, 'X[4] <= 700.5\\ngini = 1.0\\nsamples = 70156\\nvalue = [2, 1, 1 ... 1, 1, 1]'),\n",
       " Text(144.83665832519532, 413.8374193548387, 'X[4] <= 694.5\\ngini = 0.996\\nsamples = 6822\\nvalue = [2, 1, 1 ... 0, 0, 0]'),\n",
       " Text(140.65165832519534, 399.8090322580645, 'X[4] <= 691.5\\ngini = 0.996\\nsamples = 6635\\nvalue = [2, 1, 1 ... 0, 0, 0]'),\n",
       " Text(138.55915832519534, 385.7806451612903, 'X[4] <= 689.5\\ngini = 0.996\\nsamples = 6545\\nvalue = [2, 1, 1 ... 0, 0, 0]'),\n",
       " Text(136.46665832519534, 371.7522580645161, 'X[4] <= 683.5\\ngini = 0.996\\nsamples = 6488\\nvalue = [2, 1, 1 ... 0, 0, 0]'),\n",
       " Text(128.55081665039063, 357.72387096774196, 'X[4] <= 632.5\\ngini = 0.996\\nsamples = 6343\\nvalue = [2, 1, 1 ... 0, 0, 0]'),\n",
       " Text(118.99663330078127, 343.69548387096773, 'X[4] <= 630.5\\ngini = 0.996\\nsamples = 5046\\nvalue = [2, 1, 1 ... 0, 0, 0]'),\n",
       " Text(116.90413330078127, 329.66709677419357, 'X[4] <= 625.5\\ngini = 0.995\\nsamples = 4991\\nvalue = [2, 1, 1 ... 0, 0, 0]'),\n",
       " Text(110.35076660156251, 315.63870967741934, 'X[4] <= 611.5\\ngini = 0.995\\nsamples = 4859\\nvalue = [2, 1, 1 ... 0, 0, 0]'),\n",
       " Text(103.52153320312502, 301.6103225806452, 'X[4] <= 607.5\\ngini = 0.995\\nsamples = 4515\\nvalue = [2, 1, 1 ... 0, 0, 0]'),\n",
       " Text(96.14056640625002, 287.581935483871, 'X[4] <= 589.5\\ngini = 0.995\\nsamples = 4414\\nvalue = [2, 1, 1 ... 0, 0, 0]'),\n",
       " Text(87.6561328125, 273.5535483870968, 'X[4] <= 582.5\\ngini = 0.995\\nsamples = 4007\\nvalue = [2, 1, 1 ... 0, 0, 0]'),\n",
       " Text(76.96476562500001, 259.52516129032256, 'X[4] <= 527.5\\ngini = 0.994\\nsamples = 3849\\nvalue = [2, 1, 1 ... 0, 0, 0]'),\n",
       " Text(61.85953125000001, 245.4967741935484, 'X[4] <= 511.5\\ngini = 0.992\\nsamples = 2593\\nvalue = [2, 1, 1 ... 0, 0, 0]'),\n",
       " Text(54.666562500000005, 231.4683870967742, 'X[4] <= 505.5\\ngini = 0.991\\nsamples = 2134\\nvalue = [2, 1, 1 ... 0, 0, 0]'),\n",
       " Text(48.650625000000005, 217.44, 'X[4] <= 500.5\\ngini = 0.991\\nsamples = 1962\\nvalue = [2, 1, 1 ... 0, 0, 0]'),\n",
       " Text(42.89625, 203.41161290322583, 'X[4] <= 495.5\\ngini = 0.991\\nsamples = 1820\\nvalue = [2, 1, 1 ... 0, 0, 0]'),\n",
       " Text(37.665000000000006, 189.38322580645163, 'X[4] <= 490.5\\ngini = 0.991\\nsamples = 1699\\nvalue = [2, 1, 1 ... 0, 0, 0]'),\n",
       " Text(33.480000000000004, 175.35483870967744, 'X[4] <= 486.5\\ngini = 0.99\\nsamples = 1571\\nvalue = [2, 1, 1 ... 0, 0, 0]'),\n",
       " Text(31.387500000000003, 161.3264516129032, 'X[4] <= 481.5\\ngini = 0.99\\nsamples = 1481\\nvalue = [2, 1, 1 ... 0, 0, 0]'),\n",
       " Text(29.295, 147.29806451612905, 'X[4] <= 461.5\\ngini = 0.99\\nsamples = 1385\\nvalue = [2, 1, 1 ... 0, 0, 0]'),\n",
       " Text(25.110000000000003, 133.26967741935488, 'X[4] <= 458.5\\ngini = 0.988\\nsamples = 1024\\nvalue = [2, 1, 1 ... 0, 0, 0]'),\n",
       " Text(23.017500000000002, 119.24129032258065, 'X[4] <= 438.5\\ngini = 0.987\\nsamples = 971\\nvalue = [2, 1, 1 ... 0, 0, 0]'),\n",
       " Text(18.832500000000003, 105.21290322580649, 'X[4] <= 435.5\\ngini = 0.985\\nsamples = 677\\nvalue = [2, 1, 1 ... 0, 0, 0]'),\n",
       " Text(16.740000000000002, 91.18451612903226, 'X[4] <= 430.5\\ngini = 0.985\\nsamples = 618\\nvalue = [2, 1, 1 ... 0, 0, 0]'),\n",
       " Text(14.6475, 77.1561290322581, 'X[4] <= 426.5\\ngini = 0.984\\nsamples = 540\\nvalue = [2, 1, 1 ... 0, 0, 0]'),\n",
       " Text(12.555000000000001, 63.12774193548387, 'X[4] <= 417.5\\ngini = 0.983\\nsamples = 488\\nvalue = [2, 1, 1 ... 0, 0, 0]'),\n",
       " Text(8.370000000000001, 49.0993548387097, 'X[4] <= 412.5\\ngini = 0.984\\nsamples = 377\\nvalue = [2, 1, 1 ... 0, 0, 0]'),\n",
       " Text(6.277500000000001, 35.07096774193553, 'X[4] <= 406.5\\ngini = 0.983\\nsamples = 324\\nvalue = [2, 1, 1 ... 0, 0, 0]'),\n",
       " Text(4.1850000000000005, 21.04258064516131, 'X[4] <= 399.5\\ngini = 0.983\\nsamples = 273\\nvalue = [2, 1, 1 ... 0, 0, 0]'),\n",
       " Text(2.0925000000000002, 7.014193548387141, 'gini = 0.982\\nsamples = 220\\nvalue = [2, 1, 1 ... 0, 0, 0]'),\n",
       " Text(6.277500000000001, 7.014193548387141, 'gini = 0.849\\nsamples = 53\\nvalue = [0, 0, 0 ... 0, 0, 0]'),\n",
       " Text(8.370000000000001, 21.04258064516131, 'gini = 0.822\\nsamples = 51\\nvalue = [0, 0, 0 ... 0, 0, 0]'),\n",
       " Text(10.462500000000002, 35.07096774193553, 'gini = 0.792\\nsamples = 53\\nvalue = [0, 0, 0 ... 0, 0, 0]'),\n",
       " Text(16.740000000000002, 49.0993548387097, 'X[4] <= 420.5\\ngini = 0.868\\nsamples = 111\\nvalue = [0, 0, 0 ... 0, 0, 0]'),\n",
       " Text(14.6475, 35.07096774193553, 'gini = 0.666\\nsamples = 58\\nvalue = [0, 0, 0 ... 0, 0, 0]'),\n",
       " Text(18.832500000000003, 35.07096774193553, 'gini = 0.822\\nsamples = 53\\nvalue = [0, 0, 0 ... 0, 0, 0]'),\n",
       " Text(16.740000000000002, 63.12774193548387, 'gini = 0.745\\nsamples = 52\\nvalue = [0, 0, 0 ... 0, 0, 0]'),\n",
       " Text(18.832500000000003, 77.1561290322581, 'gini = 0.798\\nsamples = 78\\nvalue = [0, 0, 0 ... 0, 0, 0]'),\n",
       " Text(20.925000000000004, 91.18451612903226, 'gini = 0.652\\nsamples = 59\\nvalue = [0, 0, 0 ... 0, 0, 0]'),\n",
       " Text(27.202500000000004, 105.21290322580649, 'X[4] <= 441.5\\ngini = 0.944\\nsamples = 294\\nvalue = [0, 0, 0 ... 0, 0, 0]'),\n",
       " Text(25.110000000000003, 91.18451612903226, 'gini = 0.664\\nsamples = 69\\nvalue = [0, 0, 0 ... 0, 0, 0]'),\n",
       " Text(29.295, 91.18451612903226, 'X[4] <= 446.5\\ngini = 0.936\\nsamples = 225\\nvalue = [0, 0, 0 ... 0, 0, 0]'),\n",
       " Text(27.202500000000004, 77.1561290322581, 'gini = 0.787\\nsamples = 74\\nvalue = [0, 0, 0 ... 0, 0, 0]'),\n",
       " Text(31.387500000000003, 77.1561290322581, 'X[4] <= 451.5\\ngini = 0.908\\nsamples = 151\\nvalue = [0, 0, 0 ... 0, 0, 0]'),\n",
       " Text(29.295, 63.12774193548387, 'gini = 0.783\\nsamples = 67\\nvalue = [0, 0, 0 ... 0, 0, 0]'),\n",
       " Text(33.480000000000004, 63.12774193548387, 'gini = 0.842\\nsamples = 84\\nvalue = [0, 0, 0 ... 0, 0, 0]'),\n",
       " Text(27.202500000000004, 119.24129032258065, 'gini = 0.651\\nsamples = 53\\nvalue = [0, 0, 0 ... 0, 0, 0]'),\n",
       " Text(33.480000000000004, 133.26967741935488, 'X[4] <= 463.5\\ngini = 0.947\\nsamples = 361\\nvalue = [0, 0, 0 ... 0, 0, 0]'),\n",
       " Text(31.387500000000003, 119.24129032258065, 'gini = 0.497\\nsamples = 50\\nvalue = [0, 0, 0 ... 0, 0, 0]'),\n",
       " Text(35.572500000000005, 119.24129032258065, 'X[4] <= 467.5\\ngini = 0.942\\nsamples = 311\\nvalue = [0, 0, 0 ... 0, 0, 0]'),\n",
       " Text(33.480000000000004, 105.21290322580649, 'gini = 0.746\\nsamples = 83\\nvalue = [0, 0, 0 ... 0, 0, 0]'),\n",
       " Text(37.665000000000006, 105.21290322580649, 'X[4] <= 471.5\\ngini = 0.925\\nsamples = 228\\nvalue = [0, 0, 0 ... 0, 0, 0]'),\n",
       " Text(35.572500000000005, 91.18451612903226, 'gini = 0.73\\nsamples = 74\\nvalue = [0, 0, 0 ... 0, 0, 0]'),\n",
       " Text(39.75750000000001, 91.18451612903226, 'X[4] <= 477.5\\ngini = 0.898\\nsamples = 154\\nvalue = [0, 0, 0 ... 0, 0, 0]'),\n",
       " Text(37.665000000000006, 77.1561290322581, 'gini = 0.831\\nsamples = 92\\nvalue = [0, 0, 0 ... 0, 0, 0]'),\n",
       " Text(41.85000000000001, 77.1561290322581, 'gini = 0.74\\nsamples = 62\\nvalue = [0, 0, 0 ... 0, 0, 0]'),\n",
       " Text(33.480000000000004, 147.29806451612905, 'gini = 0.8\\nsamples = 96\\nvalue = [0, 0, 0 ... 0, 0, 0]'),\n",
       " Text(35.572500000000005, 161.3264516129032, 'gini = 0.745\\nsamples = 90\\nvalue = [0, 0, 0 ... 0, 0, 0]'),\n",
       " Text(41.85000000000001, 175.35483870967744, 'X[4] <= 492.5\\ngini = 0.796\\nsamples = 128\\nvalue = [0, 0, 0 ... 0, 0, 0]'),\n",
       " Text(39.75750000000001, 161.3264516129032, 'gini = 0.499\\nsamples = 54\\nvalue = [0, 0, 0 ... 0, 0, 0]'),\n",
       " Text(43.9425, 161.3264516129032, 'gini = 0.657\\nsamples = 74\\nvalue = [0, 0, 0 ... 0, 0, 0]'),\n",
       " Text(48.127500000000005, 189.38322580645163, 'X[4] <= 497.5\\ngini = 0.785\\nsamples = 121\\nvalue = [0, 0, 0 ... 0, 0, 0]'),\n",
       " Text(46.035000000000004, 175.35483870967744, 'gini = 0.498\\nsamples = 64\\nvalue = [0, 0, 0 ... 0, 0, 0]'),\n",
       " Text(50.220000000000006, 175.35483870967744, 'gini = 0.662\\nsamples = 57\\nvalue = [0, 0, 0 ... 0, 0, 0]'),\n",
       " Text(54.40500000000001, 203.41161290322583, 'X[4] <= 502.5\\ngini = 0.79\\nsamples = 142\\nvalue = [0, 0, 0 ... 0, 0, 0]'),\n",
       " Text(52.31250000000001, 189.38322580645163, 'gini = 0.455\\nsamples = 60\\nvalue = [0, 0, 0 ... 0, 0, 0]'),\n",
       " Text(56.49750000000001, 189.38322580645163, 'gini = 0.661\\nsamples = 82\\nvalue = [0, 0, 0 ... 0, 0, 0]'),\n",
       " Text(60.682500000000005, 217.44, 'X[4] <= 507.5\\ngini = 0.831\\nsamples = 172\\nvalue = [0, 0, 0 ... 0, 0, 0]'),\n",
       " Text(58.59, 203.41161290322583, 'gini = 0.499\\nsamples = 65\\nvalue = [0, 0, 0 ... 0, 0, 0]'),\n",
       " Text(62.775000000000006, 203.41161290322583, 'X[4] <= 509.5\\ngini = 0.748\\nsamples = 107\\nvalue = [0, 0, 0 ... 0, 0, 0]'),\n",
       " Text(60.682500000000005, 189.38322580645163, 'gini = 0.494\\nsamples = 54\\nvalue = [0, 0, 0 ... 0, 0, 0]'),\n",
       " Text(64.8675, 189.38322580645163, 'gini = 0.498\\nsamples = 53\\nvalue = [0, 0, 0 ... 0, 0, 0]'),\n",
       " Text(69.05250000000001, 231.4683870967742, 'X[4] <= 513.5\\ngini = 0.934\\nsamples = 459\\nvalue = [0, 0, 0 ... 0, 0, 0]'),\n",
       " Text(66.96000000000001, 217.44, 'gini = 0.495\\nsamples = 78\\nvalue = [0, 0, 0 ... 0, 0, 0]'),\n",
       " Text(71.14500000000001, 217.44, 'X[4] <= 516.5\\ngini = 0.925\\nsamples = 381\\nvalue = [0, 0, 0 ... 0, 0, 0]'),\n",
       " Text(69.05250000000001, 203.41161290322583, 'gini = 0.663\\nsamples = 99\\nvalue = [0, 0, 0 ... 0, 0, 0]'),\n",
       " Text(73.23750000000001, 203.41161290322583, 'X[4] <= 521.5\\ngini = 0.905\\nsamples = 282\\nvalue = [0, 0, 0 ... 0, 0, 0]'),\n",
       " Text(69.05250000000001, 189.38322580645163, 'X[4] <= 519.5\\ngini = 0.79\\nsamples = 131\\nvalue = [0, 0, 0 ... 0, 0, 0]'),\n",
       " Text(66.96000000000001, 175.35483870967744, 'gini = 0.658\\nsamples = 74\\nvalue = [0, 0, 0 ... 0, 0, 0]'),\n",
       " Text(71.14500000000001, 175.35483870967744, 'gini = 0.465\\nsamples = 57\\nvalue = [0, 0, 0 ... 0, 0, 0]'),\n",
       " Text(77.42250000000001, 189.38322580645163, 'X[4] <= 523.5\\ngini = 0.825\\nsamples = 151\\nvalue = [0, 0, 0 ... 0, 0, 0]'),\n",
       " Text(75.33000000000001, 175.35483870967744, 'gini = 0.493\\nsamples = 52\\nvalue = [0, 0, 0 ... 0, 0, 0]'),\n",
       " Text(79.51500000000001, 175.35483870967744, 'gini = 0.734\\nsamples = 99\\nvalue = [0, 0, 0 ... 0, 0, 0]'),\n",
       " Text(92.07000000000001, 245.4967741935484, 'X[4] <= 530.5\\ngini = 0.981\\nsamples = 1256\\nvalue = [0, 0, 0 ... 0, 0, 0]'),\n",
       " Text(89.9775, 231.4683870967742, 'gini = 0.663\\nsamples = 84\\nvalue = [0, 0, 0 ... 0, 0, 0]'),\n",
       " Text(94.16250000000001, 231.4683870967742, 'X[4] <= 539.5\\ngini = 0.979\\nsamples = 1172\\nvalue = [0, 0, 0 ... 0, 0, 0]'),\n",
       " Text(89.9775, 217.44, 'X[4] <= 537.5\\ngini = 0.887\\nsamples = 268\\nvalue = [0, 0, 0 ... 0, 0, 0]'),\n",
       " Text(87.885, 203.41161290322583, 'X[4] <= 535.5\\ngini = 0.856\\nsamples = 198\\nvalue = [0, 0, 0 ... 0, 0, 0]'),\n",
       " Text(85.7925, 189.38322580645163, 'X[4] <= 533.5\\ngini = 0.797\\nsamples = 140\\nvalue = [0, 0, 0 ... 0, 0, 0]'),\n",
       " Text(83.70000000000002, 175.35483870967744, 'gini = 0.666\\nsamples = 77\\nvalue = [0, 0, 0 ... 0, 0, 0]'),\n",
       " Text(87.885, 175.35483870967744, 'gini = 0.499\\nsamples = 63\\nvalue = [0, 0, 0 ... 0, 0, 0]'),\n",
       " Text(89.9775, 189.38322580645163, 'gini = 0.499\\nsamples = 58\\nvalue = [0, 0, 0 ... 0, 0, 0]'),\n",
       " Text(92.07000000000001, 203.41161290322583, 'gini = 0.498\\nsamples = 70\\nvalue = [0, 0, 0 ... 0, 0, 0]'),\n",
       " Text(98.34750000000001, 217.44, 'X[4] <= 541.5\\ngini = 0.975\\nsamples = 904\\nvalue = [0, 0, 0 ... 0, 0, 0]'),\n",
       " Text(96.25500000000001, 203.41161290322583, 'gini = 0.499\\nsamples = 54\\nvalue = [0, 0, 0 ... 0, 0, 0]'),\n",
       " Text(100.44000000000001, 203.41161290322583, 'X[4] <= 544.5\\ngini = 0.974\\nsamples = 850\\nvalue = [0, 0, 0 ... 0, 0, 0]'),\n",
       " Text(98.34750000000001, 189.38322580645163, 'gini = 0.662\\nsamples = 83\\nvalue = [0, 0, 0 ... 0, 0, 0]'),\n",
       " Text(102.53250000000001, 189.38322580645163, 'X[4] <= 547.5\\ngini = 0.972\\nsamples = 767\\nvalue = [0, 0, 0 ... 0, 0, 0]'),\n",
       " Text(100.44000000000001, 175.35483870967744, 'gini = 0.648\\nsamples = 77\\nvalue = [0, 0, 0 ... 0, 0, 0]'),\n",
       " Text(104.62500000000001, 175.35483870967744, 'X[4] <= 554.5\\ngini = 0.97\\nsamples = 690\\nvalue = [0, 0, 0 ... 0, 0, 0]'),\n",
       " Text(100.44000000000001, 161.3264516129032, 'X[4] <= 552.5\\ngini = 0.854\\nsamples = 156\\nvalue = [0, 0, 0 ... 0, 0, 0]'),\n",
       " Text(98.34750000000001, 147.29806451612905, 'X[1] <= 684.5\\ngini = 0.795\\nsamples = 105\\nvalue = [0, 0, 0 ... 0, 0, 0]'),\n",
       " Text(96.25500000000001, 133.26967741935488, 'gini = 0.77\\nsamples = 50\\nvalue = [0, 0, 0 ... 0, 0, 0]'),\n",
       " Text(100.44000000000001, 133.26967741935488, 'gini = 0.768\\nsamples = 55\\nvalue = [0, 0, 0 ... 0, 0, 0]'),\n",
       " Text(102.53250000000001, 147.29806451612905, 'gini = 0.498\\nsamples = 51\\nvalue = [0, 0, 0 ... 0, 0, 0]'),\n",
       " Text(108.81000000000002, 161.3264516129032, 'X[4] <= 579.5\\ngini = 0.963\\nsamples = 534\\nvalue = [0, 0, 0 ... 0, 0, 0]'),\n",
       " Text(106.71750000000002, 147.29806451612905, 'X[4] <= 575.5\\ngini = 0.958\\nsamples = 471\\nvalue = [0, 0, 0 ... 0, 0, 0]'),\n",
       " Text(104.62500000000001, 133.26967741935488, 'X[4] <= 569.5\\ngini = 0.95\\nsamples = 394\\nvalue = [0, 0, 0 ... 0, 0, 0]'),\n",
       " Text(100.44000000000001, 119.24129032258065, 'X[4] <= 566.5\\ngini = 0.931\\nsamples = 258\\nvalue = [0, 0, 0 ... 0, 0, 0]'),\n",
       " Text(98.34750000000001, 105.21290322580649, 'X[4] <= 557.5\\ngini = 0.915\\nsamples = 201\\nvalue = [0, 0, 0 ... 0, 0, 0]'),\n",
       " Text(96.25500000000001, 91.18451612903226, 'gini = 0.656\\nsamples = 53\\nvalue = [0, 0, 0 ... 0, 0, 0]'),\n",
       " Text(100.44000000000001, 91.18451612903226, 'X[4] <= 563.5\\ngini = 0.887\\nsamples = 148\\nvalue = [0, 0, 0 ... 0, 0, 0]'),\n",
       " Text(98.34750000000001, 77.1561290322581, 'gini = 0.829\\nsamples = 97\\nvalue = [0, 0, 0 ... 0, 0, 0]'),\n",
       " Text(102.53250000000001, 77.1561290322581, 'gini = 0.664\\nsamples = 51\\nvalue = [0, 0, 0 ... 0, 0, 0]'),\n",
       " Text(102.53250000000001, 105.21290322580649, 'gini = 0.655\\nsamples = 57\\nvalue = [0, 0, 0 ... 0, 0, 0]'),\n",
       " Text(108.81000000000002, 119.24129032258065, 'X[4] <= 571.5\\ngini = 0.83\\nsamples = 136\\nvalue = [0, 0, 0 ... 0, 0, 0]'),\n",
       " Text(106.71750000000002, 105.21290322580649, 'gini = 0.496\\nsamples = 53\\nvalue = [0, 0, 0 ... 0, 0, 0]'),\n",
       " Text(110.90250000000002, 105.21290322580649, 'gini = 0.749\\nsamples = 83\\nvalue = [0, 0, 0 ... 0, 0, 0]'),\n",
       " Text(108.81000000000002, 133.26967741935488, 'gini = 0.73\\nsamples = 77\\nvalue = [0, 0, 0 ... 0, 0, 0]'),\n",
       " Text(110.90250000000002, 147.29806451612905, 'gini = 0.659\\nsamples = 63\\nvalue = [0, 0, 0 ... 0, 0, 0]'),\n",
       " Text(98.34750000000001, 259.52516129032256, 'X[4] <= 585.5\\ngini = 0.853\\nsamples = 158\\nvalue = [0, 0, 0 ... 0, 0, 0]'),\n",
       " Text(96.25500000000001, 245.4967741935484, 'gini = 0.655\\nsamples = 71\\nvalue = [0, 0, 0 ... 0, 0, 0]'),\n",
       " Text(100.44000000000001, 245.4967741935484, 'gini = 0.744\\nsamples = 87\\nvalue = [0, 0, 0 ... 0, 0, 0]'),\n",
       " Text(104.62500000000001, 273.5535483870968, 'X[4] <= 592.5\\ngini = 0.942\\nsamples = 407\\nvalue = [0, 0, 0 ... 0, 0, 0]'),\n",
       " Text(102.53250000000001, 259.52516129032256, 'gini = 0.657\\nsamples = 83\\nvalue = [0, 0, 0 ... 0, 0, 0]'),\n",
       " Text(106.71750000000002, 259.52516129032256, 'X[4] <= 603.5\\ngini = 0.931\\nsamples = 324\\nvalue = [0, 0, 0 ... 0, 0, 0]'),\n",
       " Text(104.62500000000001, 245.4967741935484, 'X[4] <= 596.5\\ngini = 0.907\\nsamples = 238\\nvalue = [0, 0, 0 ... 0, 0, 0]'),\n",
       " Text(102.53250000000001, 231.4683870967742, 'gini = 0.746\\nsamples = 89\\nvalue = [0, 0, 0 ... 0, 0, 0]'),\n",
       " Text(106.71750000000002, 231.4683870967742, 'X[4] <= 599.5\\ngini = 0.853\\nsamples = 149\\nvalue = [0, 0, 0 ... 0, 0, 0]'),\n",
       " Text(104.62500000000001, 217.44, 'gini = 0.662\\nsamples = 64\\nvalue = [0, 0, 0 ... 0, 0, 0]'),\n",
       " Text(108.81000000000002, 217.44, 'gini = 0.74\\nsamples = 85\\nvalue = [0, 0, 0 ... 0, 0, 0]'),\n",
       " Text(108.81000000000002, 245.4967741935484, 'gini = 0.735\\nsamples = 86\\nvalue = [0, 0, 0 ... 0, 0, 0]'),\n",
       " Text(110.90250000000002, 287.581935483871, 'X[4] <= 609.5\\ngini = 0.747\\nsamples = 101\\nvalue = [0, 0, 0 ... 0, 0, 0]'),\n",
       " Text(108.81000000000002, 273.5535483870968, 'gini = 0.487\\nsamples = 50\\nvalue = [0, 0, 0 ... 0, 0, 0]'),\n",
       " Text(112.99500000000002, 273.5535483870968, 'gini = 0.5\\nsamples = 51\\nvalue = [0, 0, 0 ... 0, 0, 0]'),\n",
       " Text(117.18, 301.6103225806452, 'X[4] <= 613.5\\ngini = 0.923\\nsamples = 344\\nvalue = [0, 0, 0 ... 0, 0, 0]'),\n",
       " Text(115.08750000000002, 287.581935483871, 'gini = 0.433\\nsamples = 63\\nvalue = [0, 0, 0 ... 0, 0, 0]'),\n",
       " Text(119.27250000000001, 287.581935483871, 'X[4] <= 615.5\\ngini = 0.913\\nsamples = 281\\nvalue = [0, 0, 0 ... 0, 0, 0]'),\n",
       " Text(117.18, 273.5535483870968, 'gini = 0.463\\nsamples = 55\\nvalue = [0, 0, 0 ... 0, 0, 0]'),\n",
       " Text(121.36500000000001, 273.5535483870968, 'X[4] <= 621.5\\ngini = 0.897\\nsamples = 226\\nvalue = [0, 0, 0 ... 0, 0, 0]'),\n",
       " Text(117.18, 259.52516129032256, 'X[4] <= 618.5\\ngini = 0.831\\nsamples = 125\\nvalue = [0, 0, 0 ... 0, 0, 0]'),\n",
       " Text(115.08750000000002, 245.4967741935484, 'gini = 0.662\\nsamples = 67\\nvalue = [0, 0, 0 ... 0, 0, 0]'),\n",
       " Text(119.27250000000001, 245.4967741935484, 'gini = 0.664\\nsamples = 58\\nvalue = [0, 0, 0 ... 0, 0, 0]'),\n",
       " Text(125.55000000000001, 259.52516129032256, 'X[6] <= 17.945\\ngini = 0.746\\nsamples = 101\\nvalue = [0, 0, 0 ... 0, 0, 0]'),\n",
       " Text(123.45750000000001, 245.4967741935484, 'gini = 0.744\\nsamples = 51\\nvalue = [0, 0, 0 ... 0, 0, 0]'),\n",
       " Text(127.64250000000001, 245.4967741935484, 'gini = 0.73\\nsamples = 50\\nvalue = [0, 0, 0 ... 0, 0, 0]'),\n",
       " Text(123.45750000000001, 315.63870967741934, 'X[4] <= 627.5\\ngini = 0.799\\nsamples = 132\\nvalue = [0, 0, 0 ... 0, 0, 0]'),\n",
       " Text(121.36500000000001, 301.6103225806452, 'gini = 0.5\\nsamples = 55\\nvalue = [0, 0, 0 ... 0, 0, 0]'),\n",
       " Text(125.55000000000001, 301.6103225806452, 'gini = 0.665\\nsamples = 77\\nvalue = [0, 0, 0 ... 0, 0, 0]'),\n",
       " Text(121.08913330078127, 329.66709677419357, 'gini = 0.492\\nsamples = 55\\nvalue = [0, 0, 0 ... 0, 0, 0]'),\n",
       " Text(138.10500000000002, 343.69548387096773, 'X[4] <= 635.5\\ngini = 0.979\\nsamples = 1297\\nvalue = [0, 0, 0 ... 0, 0, 0]'),\n",
       " Text(136.01250000000002, 329.66709677419357, 'gini = 0.666\\nsamples = 97\\nvalue = [0, 0, 0 ... 0, 0, 0]'),\n",
       " Text(140.19750000000002, 329.66709677419357, 'X[4] <= 637.5\\ngini = 0.978\\nsamples = 1200\\nvalue = [0, 0, 0 ... 0, 0, 0]'),\n",
       " Text(138.10500000000002, 315.63870967741934, 'gini = 0.462\\nsamples = 58\\nvalue = [0, 0, 0 ... 0, 0, 0]'),\n",
       " Text(142.29000000000002, 315.63870967741934, 'X[4] <= 640.5\\ngini = 0.977\\nsamples = 1142\\nvalue = [0, 0, 0 ... 0, 0, 0]'),\n",
       " Text(140.19750000000002, 301.6103225806452, 'gini = 0.662\\nsamples = 86\\nvalue = [0, 0, 0 ... 0, 0, 0]'),\n",
       " Text(144.38250000000002, 301.6103225806452, 'X[4] <= 652.5\\ngini = 0.975\\nsamples = 1056\\nvalue = [0, 0, 0 ... 0, 0, 0]'),\n",
       " Text(140.19750000000002, 287.581935483871, 'X[4] <= 650.5\\ngini = 0.913\\nsamples = 321\\nvalue = [0, 0, 0 ... 0, 0, 0]'),\n",
       " Text(138.10500000000002, 273.5535483870968, 'X[4] <= 646.5\\ngini = 0.896\\nsamples = 253\\nvalue = [0, 0, 0 ... 0, 0, 0]'),\n",
       " Text(133.92000000000002, 259.52516129032256, 'X[4] <= 644.5\\ngini = 0.825\\nsamples = 147\\nvalue = [0, 0, 0 ... 0, 0, 0]'),\n",
       " Text(131.82750000000001, 245.4967741935484, 'gini = 0.743\\nsamples = 93\\nvalue = [0, 0, 0 ... 0, 0, 0]'),\n",
       " Text(136.01250000000002, 245.4967741935484, 'gini = 0.466\\nsamples = 54\\nvalue = [0, 0, 0 ... 0, 0, 0]'),\n",
       " Text(142.29000000000002, 259.52516129032256, 'X[4] <= 648.5\\ngini = 0.742\\nsamples = 106\\nvalue = [0, 0, 0 ... 0, 0, 0]'),\n",
       " Text(140.19750000000002, 245.4967741935484, 'gini = 0.49\\nsamples = 56\\nvalue = [0, 0, 0 ... 0, 0, 0]'),\n",
       " Text(144.38250000000002, 245.4967741935484, 'gini = 0.48\\nsamples = 50\\nvalue = [0, 0, 0 ... 0, 0, 0]'),\n",
       " Text(142.29000000000002, 273.5535483870968, 'gini = 0.498\\nsamples = 68\\nvalue = [0, 0, 0 ... 0, 0, 0]'),\n",
       " Text(148.56750000000002, 287.581935483871, 'X[4] <= 655.5\\ngini = 0.966\\nsamples = 735\\nvalue = [0, 0, 0 ... 0, 0, 0]'),\n",
       " Text(146.47500000000002, 273.5535483870968, 'gini = 0.646\\nsamples = 90\\nvalue = [0, 0, 0 ... 0, 0, 0]'),\n",
       " Text(150.66000000000003, 273.5535483870968, 'X[4] <= 658.5\\ngini = 0.962\\nsamples = 645\\nvalue = [0, 0, 0 ... 0, 0, 0]'),\n",
       " Text(148.56750000000002, 259.52516129032256, 'gini = 0.663\\nsamples = 91\\nvalue = [0, 0, 0 ... 0, 0, 0]'),\n",
       " Text(152.75250000000003, 259.52516129032256, 'X[4] <= 660.5\\ngini = 0.958\\nsamples = 554\\nvalue = [0, 0, 0 ... 0, 0, 0]'),\n",
       " Text(150.66000000000003, 245.4967741935484, 'gini = 0.492\\nsamples = 62\\nvalue = [0, 0, 0 ... 0, 0, 0]'),\n",
       " Text(154.84500000000003, 245.4967741935484, 'X[4] <= 669.5\\ngini = 0.955\\nsamples = 492\\nvalue = [0, 0, 0 ... 0, 0, 0]'),\n",
       " Text(150.66000000000003, 231.4683870967742, 'X[4] <= 667.5\\ngini = 0.884\\nsamples = 206\\nvalue = [0, 0, 0 ... 0, 0, 0]'),\n",
       " Text(148.56750000000002, 217.44, 'X[4] <= 664.5\\ngini = 0.853\\nsamples = 151\\nvalue = [0, 0, 0 ... 0, 0, 0]'),\n",
       " Text(146.47500000000002, 203.41161290322583, 'gini = 0.745\\nsamples = 78\\nvalue = [0, 0, 0 ... 0, 0, 0]'),\n",
       " Text(150.66000000000003, 203.41161290322583, 'gini = 0.66\\nsamples = 73\\nvalue = [0, 0, 0 ... 0, 0, 0]'),\n",
       " Text(152.75250000000003, 217.44, 'gini = 0.487\\nsamples = 55\\nvalue = [0, 0, 0 ... 0, 0, 0]'),\n",
       " Text(159.03000000000003, 231.4683870967742, 'X[4] <= 680.5\\ngini = 0.927\\nsamples = 286\\nvalue = [0, 0, 0 ... 0, 0, 0]'),\n",
       " Text(156.93750000000003, 217.44, 'X[4] <= 673.5\\ngini = 0.908\\nsamples = 226\\nvalue = [0, 0, 0 ... 0, 0, 0]'),\n",
       " Text(154.84500000000003, 203.41161290322583, 'gini = 0.747\\nsamples = 85\\nvalue = [0, 0, 0 ... 0, 0, 0]'),\n",
       " Text(159.03000000000003, 203.41161290322583, 'X[4] <= 677.5\\ngini = 0.856\\nsamples = 141\\nvalue = [0, 0, 0 ... 0, 0, 0]'),\n",
       " Text(156.93750000000003, 189.38322580645163, 'gini = 0.748\\nsamples = 78\\nvalue = [0, 0, 0 ... 0, 0, 0]'),\n",
       " Text(161.12250000000003, 189.38322580645163, 'gini = 0.665\\nsamples = 63\\nvalue = [0, 0, 0 ... 0, 0, 0]'),\n",
       " Text(161.12250000000003, 217.44, 'gini = 0.639\\nsamples = 60\\nvalue = [0, 0, 0 ... 0, 0, 0]'),\n",
       " Text(144.38250000000002, 357.72387096774196, 'X[4] <= 686.5\\ngini = 0.818\\nsamples = 145\\nvalue = [0, 0, 0 ... 0, 0, 0]'),\n",
       " Text(142.29000000000002, 343.69548387096773, 'gini = 0.63\\nsamples = 79\\nvalue = [0, 0, 0 ... 0, 0, 0]'),\n",
       " Text(146.47500000000002, 343.69548387096773, 'gini = 0.652\\nsamples = 66\\nvalue = [0, 0, 0 ... 0, 0, 0]'),\n",
       " Text(140.65165832519534, 371.7522580645161, 'gini = 0.492\\nsamples = 57\\nvalue = [0, 0, 0 ... 0, 0, 0]'),\n",
       " Text(142.74415832519534, 385.7806451612903, 'gini = 0.664\\nsamples = 90\\nvalue = [0, 0, 0 ... 0, 0, 0]'),\n",
       " Text(149.02165832519532, 399.8090322580645, 'X[4] <= 696.5\\ngini = 0.828\\nsamples = 187\\nvalue = [0, 0, 0 ... 0, 0, 0]'),\n",
       " Text(146.92915832519532, 385.7806451612903, 'gini = 0.499\\nsamples = 74\\nvalue = [0, 0, 0 ... 0, 0, 0]'),\n",
       " Text(151.11415832519532, 385.7806451612903, 'X[4] <= 698.5\\ngini = 0.743\\nsamples = 113\\nvalue = [0, 0, 0 ... 0, 0, 0]'),\n",
       " Text(149.02165832519532, 371.7522580645161, 'gini = 0.481\\nsamples = 57\\nvalue = [0, 0, 0 ... 0, 0, 0]'),\n",
       " Text(153.20665832519532, 371.7522580645161, 'gini = 0.49\\nsamples = 56\\nvalue = [0, 0, 0 ... 0, 0, 0]'),\n",
       " Text(316.25789440155035, 413.8374193548387, 'X[4] <= 714.5\\ngini = 1.0\\nsamples = 63334\\nvalue = [0, 0, 0 ... 1, 1, 1]'),\n",
       " Text(311.02664440155036, 399.8090322580645, 'X[4] <= 712.5\\ngini = 0.925\\nsamples = 341\\nvalue = [0, 0, 0 ... 0, 0, 0]'),\n",
       " Text(308.9341444015503, 385.7806451612903, 'X[4] <= 710.5\\ngini = 0.914\\nsamples = 277\\nvalue = [0, 0, 0 ... 0, 0, 0]'),\n",
       " Text(306.84164440155035, 371.7522580645161, 'X[4] <= 703.5\\ngini = 0.896\\nsamples = 224\\nvalue = [0, 0, 0 ... 0, 0, 0]'),\n",
       " Text(304.7491444015503, 357.72387096774196, 'gini = 0.664\\nsamples = 70\\nvalue = [0, 0, 0 ... 0, 0, 0]'),\n",
       " Text(308.9341444015503, 357.72387096774196, 'X[4] <= 706.5\\ngini = 0.849\\nsamples = 154\\nvalue = [0, 0, 0 ... 0, 0, 0]'),\n",
       " Text(306.84164440155035, 343.69548387096773, 'gini = 0.635\\nsamples = 63\\nvalue = [0, 0, 0 ... 0, 0, 0]'),\n",
       " Text(311.02664440155036, 343.69548387096773, 'gini = 0.742\\nsamples = 91\\nvalue = [0, 0, 0 ... 0, 0, 0]'),\n",
       " Text(311.02664440155036, 371.7522580645161, 'gini = 0.5\\nsamples = 53\\nvalue = [0, 0, 0 ... 0, 0, 0]'),\n",
       " Text(313.11914440155033, 385.7806451612903, 'gini = 0.498\\nsamples = 64\\nvalue = [0, 0, 0 ... 0, 0, 0]'),\n",
       " Text(321.48914440155033, 399.8090322580645, 'X[4] <= 718.5\\ngini = 1.0\\nsamples = 62993\\nvalue = [0, 0, 0 ... 1, 1, 1]'),\n",
       " Text(319.3966444015503, 385.7806451612903, 'gini = 0.748\\nsamples = 87\\nvalue = [0, 0, 0 ... 0, 0, 0]'),\n",
       " Text(323.5816444015503, 385.7806451612903, 'X[4] <= 728.5\\ngini = 1.0\\nsamples = 62906\\nvalue = [0, 0, 0 ... 1, 1, 1]'),\n",
       " Text(319.3966444015503, 371.7522580645161, 'X[4] <= 725.5\\ngini = 0.893\\nsamples = 161\\nvalue = [0, 0, 0 ... 0, 0, 0]'),\n",
       " Text(317.30414440155033, 357.72387096774196, 'X[2] <= 27.5\\ngini = 0.854\\nsamples = 105\\nvalue = [0, 0, 0 ... 0, 0, 0]'),\n",
       " Text(315.2116444015503, 343.69548387096773, 'gini = 0.838\\nsamples = 55\\nvalue = [0, 0, 0 ... 0, 0, 0]'),\n",
       " Text(319.3966444015503, 343.69548387096773, 'gini = 0.836\\nsamples = 50\\nvalue = [0, 0, 0 ... 0, 0, 0]'),\n",
       " Text(321.48914440155033, 357.72387096774196, 'gini = 0.631\\nsamples = 56\\nvalue = [0, 0, 0 ... 0, 0, 0]'),\n",
       " Text(327.7666444015503, 371.7522580645161, 'X[4] <= 732.5\\ngini = 1.0\\nsamples = 62745\\nvalue = [0, 0, 0 ... 1, 1, 1]'),\n",
       " Text(325.67414440155034, 357.72387096774196, 'gini = 0.742\\nsamples = 66\\nvalue = [0, 0, 0 ... 0, 0, 0]'),\n",
       " Text(329.85914440155034, 357.72387096774196, 'X[4] <= 741.5\\ngini = 1.0\\nsamples = 62679\\nvalue = [0, 0, 0 ... 1, 1, 1]'),\n",
       " Text(324.62789440155035, 343.69548387096773, 'X[4] <= 737.5\\ngini = 0.882\\nsamples = 134\\nvalue = [0, 0, 0 ... 0, 0, 0]'),\n",
       " Text(322.5353944015503, 329.66709677419357, 'gini = 0.793\\nsamples = 63\\nvalue = [0, 0, 0 ... 0, 0, 0]'),\n",
       " Text(326.7203944015503, 329.66709677419357, 'gini = 0.744\\nsamples = 71\\nvalue = [0, 0, 0 ... 0, 0, 0]'),\n",
       " Text(335.0903944015503, 343.69548387096773, 'X[4] <= 761.5\\ngini = 1.0\\nsamples = 62545\\nvalue = [0, 0, 0 ... 1, 1, 1]'),\n",
       " Text(330.9053944015503, 329.66709677419357, 'X[4] <= 756.5\\ngini = 0.945\\nsamples = 229\\nvalue = [0, 0, 0 ... 0, 0, 0]'),\n",
       " Text(328.81289440155035, 315.63870967741934, 'X[4] <= 751.5\\ngini = 0.93\\nsamples = 148\\nvalue = [0, 0, 0 ... 0, 0, 0]'),\n",
       " Text(326.7203944015503, 301.6103225806452, 'gini = 0.893\\nsamples = 93\\nvalue = [0, 0, 0 ... 0, 0, 0]'),\n",
       " Text(330.9053944015503, 301.6103225806452, 'gini = 0.796\\nsamples = 55\\nvalue = [0, 0, 0 ... 0, 0, 0]'),\n",
       " Text(332.99789440155035, 315.63870967741934, 'gini = 0.792\\nsamples = 81\\nvalue = [0, 0, 0 ... 0, 0, 0]'),\n",
       " Text(339.27539440155033, 329.66709677419357, 'X[4] <= 767.5\\ngini = 1.0\\nsamples = 62316\\nvalue = [0, 0, 0 ... 1, 1, 1]'),\n",
       " Text(337.18289440155036, 315.63870967741934, 'gini = 0.816\\nsamples = 62\\nvalue = [0, 0, 0 ... 0, 0, 0]'),\n",
       " Text(341.36789440155036, 315.63870967741934, 'X[4] <= 775.5\\ngini = 1.0\\nsamples = 62254\\nvalue = [0, 0, 0 ... 1, 1, 1]'),\n",
       " Text(339.27539440155033, 301.6103225806452, 'gini = 0.867\\nsamples = 79\\nvalue = [0, 0, 0 ... 0, 0, 0]'),\n",
       " Text(343.46039440155033, 301.6103225806452, 'X[4] <= 781.5\\ngini = 1.0\\nsamples = 62175\\nvalue = [0, 0, 0 ... 1, 1, 1]'),\n",
       " Text(341.36789440155036, 287.581935483871, 'gini = 0.826\\nsamples = 60\\nvalue = [0, 0, 0 ... 0, 0, 0]'),\n",
       " Text(345.55289440155036, 287.581935483871, 'X[4] <= 3042.5\\ngini = 1.0\\nsamples = 62115\\nvalue = [0, 0, 0 ... 1, 1, 1]'),\n",
       " Text(245.07691040039066, 273.5535483870968, 'X[4] <= 3038.5\\ngini = 0.999\\nsamples = 19693\\nvalue = [0, 0, 0 ... 0, 0, 0]'),\n",
       " Text(242.98441040039066, 259.52516129032256, 'X[4] <= 3034.5\\ngini = 0.999\\nsamples = 19625\\nvalue = [0, 0, 0 ... 0, 0, 0]'),\n",
       " Text(240.89191040039066, 245.4967741935484, 'X[4] <= 3025.5\\ngini = 0.999\\nsamples = 19572\\nvalue = [0, 0, 0 ... 0, 0, 0]'),\n",
       " Text(223.55624267578128, 231.4683870967742, 'X[4] <= 2748.5\\ngini = 0.999\\nsamples = 19453\\nvalue = [0, 0, 0 ... 0, 0, 0]'),\n",
       " Text(195.16240722656252, 217.44, 'X[4] <= 2660.5\\ngini = 0.999\\nsamples = 15796\\nvalue = [0, 0, 0 ... 0, 0, 0]'),\n",
       " Text(173.22793945312503, 203.41161290322583, 'X[4] <= 2649.5\\ngini = 0.999\\nsamples = 14578\\nvalue = [0, 0, 0 ... 0, 0, 0]'),\n",
       " Text(169.04293945312503, 189.38322580645163, 'X[4] <= 2645.5\\ngini = 0.999\\nsamples = 14428\\nvalue = [0, 0, 0 ... 0, 0, 0]'),\n",
       " Text(166.95043945312503, 175.35483870967744, 'X[4] <= 2507.5\\ngini = 0.999\\nsamples = 14377\\nvalue = [0, 0, 0 ... 0, 0, 0]'),\n",
       " Text(149.49931640625002, 161.3264516129032, 'X[4] <= 2436.5\\ngini = 0.999\\nsamples = 12594\\nvalue = [0, 0, 0 ... 0, 0, 0]'),\n",
       " Text(141.5380078125, 147.29806451612905, 'X[4] <= 2429.5\\ngini = 0.999\\nsamples = 11561\\nvalue = [0, 0, 0 ... 0, 0, 0]'),\n",
       " Text(135.03164062500002, 133.26967741935488, 'X[4] <= 2422.5\\ngini = 0.999\\nsamples = 11457\\nvalue = [0, 0, 0 ... 0, 0, 0]'),\n",
       " Text(128.29640625000002, 119.24129032258065, 'X[4] <= 2392.5\\ngini = 0.999\\nsamples = 11356\\nvalue = [0, 0, 0 ... 0, 0, 0]'),\n",
       " Text(121.10343750000001, 105.21290322580649, 'X[4] <= 2388.5\\ngini = 0.999\\nsamples = 10939\\nvalue = [0, 0, 0 ... 0, 0, 0]'),\n",
       " Text(119.01093750000001, 91.18451612903226, 'X[4] <= 2362.5\\ngini = 0.999\\nsamples = 10884\\nvalue = [0, 0, 0 ... 0, 0, 0]'),\n",
       " Text(106.71750000000002, 77.1561290322581, 'X[4] <= 2354.5\\ngini = 0.999\\nsamples = 10623\\nvalue = [0, 0, 0 ... 0, 0, 0]'),\n",
       " Text(104.62500000000001, 63.12774193548387, 'X[4] <= 1037.5\\ngini = 0.999\\nsamples = 10550\\nvalue = [0, 0, 0 ... 0, 0, 0]'),\n",
       " Text(95.73187500000002, 49.0993548387097, 'X[4] <= 1033.5\\ngini = 0.995\\nsamples = 2111\\nvalue = [0, 0, 0 ... 0, 0, 0]'),\n",
       " Text(93.63937500000002, 35.07096774193553, 'X[4] <= 1011.5\\ngini = 0.995\\nsamples = 2054\\nvalue = [0, 0, 0 ... 0, 0, 0]'),\n",
       " Text(89.45437500000001, 21.04258064516131, 'X[4] <= 976.5\\ngini = 0.995\\nsamples = 1841\\nvalue = [0, 0, 0 ... 0, 0, 0]'),\n",
       " Text(87.36187500000001, 7.014193548387141, 'gini = 0.994\\nsamples = 1524\\nvalue = [0, 0, 0 ... 0, 0, 0]'),\n",
       " Text(91.54687500000001, 7.014193548387141, 'gini = 0.968\\nsamples = 317\\nvalue = [0, 0, 0 ... 0, 0, 0]'),\n",
       " Text(97.82437500000002, 21.04258064516131, 'X[4] <= 1015.5\\ngini = 0.95\\nsamples = 213\\nvalue = [0, 0, 0 ... 0, 0, 0]'),\n",
       " Text(95.73187500000002, 7.014193548387141, 'gini = 0.726\\nsamples = 52\\nvalue = [0, 0, 0 ... 0, 0, 0]'),\n",
       " Text(99.91687500000002, 7.014193548387141, 'gini = 0.94\\nsamples = 161\\nvalue = [0, 0, 0 ... 0, 0, 0]'),\n",
       " Text(97.82437500000002, 35.07096774193553, 'gini = 0.742\\nsamples = 57\\nvalue = [0, 0, 0 ... 0, 0, 0]'),\n",
       " Text(113.51812500000001, 49.0993548387097, 'X[4] <= 1067.5\\ngini = 0.999\\nsamples = 8439\\nvalue = [0, 0, 0 ... 0, 0, 0]'),\n",
       " Text(108.28687500000001, 35.07096774193553, 'X[4] <= 1061.5\\ngini = 0.964\\nsamples = 255\\nvalue = [0, 0, 0 ... 0, 0, 0]'),\n",
       " Text(106.19437500000001, 21.04258064516131, 'X[4] <= 1053.5\\ngini = 0.955\\nsamples = 196\\nvalue = [0, 0, 0 ... 0, 0, 0]'),\n",
       " Text(104.101875, 7.014193548387141, 'gini = 0.932\\nsamples = 129\\nvalue = [0, 0, 0 ... 0, 0, 0]'),\n",
       " Text(108.28687500000001, 7.014193548387141, 'gini = 0.864\\nsamples = 67\\nvalue = [0, 0, 0 ... 0, 0, 0]'),\n",
       " Text(110.37937500000001, 21.04258064516131, 'gini = 0.82\\nsamples = 59\\nvalue = [0, 0, 0 ... 0, 0, 0]'),\n",
       " Text(118.74937500000001, 35.07096774193553, 'X[4] <= 2267.5\\ngini = 0.999\\nsamples = 8184\\nvalue = [0, 0, 0 ... 0, 0, 0]'),\n",
       " Text(114.56437500000001, 21.04258064516131, 'X[4] <= 2224.5\\ngini = 0.999\\nsamples = 7539\\nvalue = [0, 0, 0 ... 0, 0, 0]'),\n",
       " Text(112.47187500000001, 7.014193548387141, 'gini = 0.999\\nsamples = 7222\\nvalue = [0, 0, 0 ... 0, 0, 0]'),\n",
       " Text(116.65687500000001, 7.014193548387141, 'gini = 0.973\\nsamples = 317\\nvalue = [0, 0, 0 ... 0, 0, 0]'),\n",
       " Text(122.93437500000002, 21.04258064516131, 'X[4] <= 2274.5\\ngini = 0.987\\nsamples = 645\\nvalue = [0, 0, 0 ... 0, 0, 0]'),\n",
       " Text(120.84187500000002, 7.014193548387141, 'gini = 0.846\\nsamples = 67\\nvalue = [0, 0, 0 ... 0, 0, 0]'),\n",
       " Text(125.02687500000002, 7.014193548387141, 'gini = 0.986\\nsamples = 578\\nvalue = [0, 0, 0 ... 0, 0, 0]'),\n",
       " Text(108.81000000000002, 63.12774193548387, 'gini = 0.871\\nsamples = 73\\nvalue = [0, 0, 0 ... 0, 0, 0]'),\n",
       " Text(131.30437500000002, 77.1561290322581, 'X[4] <= 2367.5\\ngini = 0.958\\nsamples = 261\\nvalue = [0, 0, 0 ... 0, 0, 0]'),\n",
       " Text(129.21187500000002, 63.12774193548387, 'gini = 0.771\\nsamples = 58\\nvalue = [0, 0, 0 ... 0, 0, 0]'),\n",
       " Text(133.39687500000002, 63.12774193548387, 'X[4] <= 2383.5\\ngini = 0.95\\nsamples = 203\\nvalue = [0, 0, 0 ... 0, 0, 0]'),\n",
       " Text(131.30437500000002, 49.0993548387097, 'X[4] <= 2378.5\\ngini = 0.933\\nsamples = 151\\nvalue = [0, 0, 0 ... 0, 0, 0]'),\n",
       " Text(129.21187500000002, 35.07096774193553, 'X[5] <= 10.065\\ngini = 0.902\\nsamples = 100\\nvalue = [0, 0, 0 ... 0, 0, 0]'),\n",
       " Text(127.11937500000002, 21.04258064516131, 'gini = 0.889\\nsamples = 50\\nvalue = [0, 0, 0 ... 0, 0, 0]'),\n",
       " Text(131.30437500000002, 21.04258064516131, 'gini = 0.886\\nsamples = 50\\nvalue = [0, 0, 0 ... 0, 0, 0]'),\n",
       " Text(133.39687500000002, 35.07096774193553, 'gini = 0.795\\nsamples = 51\\nvalue = [0, 0, 0 ... 0, 0, 0]'),\n",
       " Text(135.48937500000002, 49.0993548387097, 'gini = 0.792\\nsamples = 52\\nvalue = [0, 0, 0 ... 0, 0, 0]'),\n",
       " Text(123.19593750000001, 91.18451612903226, 'gini = 0.746\\nsamples = 55\\nvalue = [0, 0, 0 ... 0, 0, 0]'),\n",
       " Text(135.48937500000002, 105.21290322580649, 'X[4] <= 2396.5\\ngini = 0.965\\nsamples = 417\\nvalue = [0, 0, 0 ... 0, 0, 0]'),\n",
       " Text(133.39687500000002, 91.18451612903226, 'gini = 0.736\\nsamples = 59\\nvalue = [0, 0, 0 ... 0, 0, 0]'),\n",
       " Text(137.58187500000003, 91.18451612903226, 'X[4] <= 2401.5\\ngini = 0.96\\nsamples = 358\\nvalue = [0, 0, 0 ... 0, 0, 0]'),\n",
       " Text(135.48937500000002, 77.1561290322581, 'gini = 0.798\\nsamples = 74\\nvalue = [0, 0, 0 ... 0, 0, 0]'),\n",
       " Text(139.67437500000003, 77.1561290322581, 'X[4] <= 2407.5\\ngini = 0.95\\nsamples = 284\\nvalue = [0, 0, 0 ... 0, 0, 0]'),\n",
       " Text(137.58187500000003, 63.12774193548387, 'gini = 0.828\\nsamples = 85\\nvalue = [0, 0, 0 ... 0, 0, 0]'),\n",
       " Text(141.76687500000003, 63.12774193548387, 'X[4] <= 2411.5\\ngini = 0.93\\nsamples = 199\\nvalue = [0, 0, 0 ... 0, 0, 0]'),\n",
       " Text(139.67437500000003, 49.0993548387097, 'gini = 0.738\\nsamples = 58\\nvalue = [0, 0, 0 ... 0, 0, 0]'),\n",
       " Text(143.85937500000003, 49.0993548387097, 'X[4] <= 2415.5\\ngini = 0.905\\nsamples = 141\\nvalue = [0, 0, 0 ... 0, 0, 0]'),\n",
       " Text(141.76687500000003, 35.07096774193553, 'gini = 0.744\\nsamples = 56\\nvalue = [0, 0, 0 ... 0, 0, 0]'),\n",
       " Text(145.95187500000003, 35.07096774193553, 'gini = 0.851\\nsamples = 85\\nvalue = [0, 0, 0 ... 0, 0, 0]'),\n",
       " Text(141.76687500000003, 119.24129032258065, 'X[7] <= 18.9\\ngini = 0.856\\nsamples = 101\\nvalue = [0, 0, 0 ... 0, 0, 0]'),\n",
       " Text(139.67437500000003, 105.21290322580649, 'gini = 0.846\\nsamples = 50\\nvalue = [0, 0, 0 ... 0, 0, 0]'),\n",
       " Text(143.85937500000003, 105.21290322580649, 'gini = 0.844\\nsamples = 51\\nvalue = [0, 0, 0 ... 0, 0, 0]'),\n",
       " Text(148.04437500000003, 133.26967741935488, 'X[4] <= 2432.5\\ngini = 0.852\\nsamples = 104\\nvalue = [0, 0, 0 ... 0, 0, 0]'),\n",
       " Text(145.95187500000003, 119.24129032258065, 'gini = 0.666\\nsamples = 52\\nvalue = [0, 0, 0 ... 0, 0, 0]'),\n",
       " Text(150.13687500000003, 119.24129032258065, 'gini = 0.74\\nsamples = 52\\nvalue = [0, 0, 0 ... 0, 0, 0]'),\n",
       " Text(157.46062500000002, 147.29806451612905, 'X[4] <= 2439.5\\ngini = 0.985\\nsamples = 1033\\nvalue = [0, 0, 0 ... 0, 0, 0]'),\n",
       " Text(155.36812500000002, 133.26967741935488, 'gini = 0.664\\nsamples = 59\\nvalue = [0, 0, 0 ... 0, 0, 0]'),\n",
       " Text(159.55312500000002, 133.26967741935488, 'X[4] <= 2451.5\\ngini = 0.984\\nsamples = 974\\nvalue = [0, 0, 0 ... 0, 0, 0]'),\n",
       " Text(154.321875, 119.24129032258065, 'X[4] <= 2448.5\\ngini = 0.911\\nsamples = 203\\nvalue = [0, 0, 0 ... 0, 0, 0]'),\n",
       " Text(152.229375, 105.21290322580649, 'X[4] <= 2444.5\\ngini = 0.881\\nsamples = 141\\nvalue = [0, 0, 0 ... 0, 0, 0]'),\n",
       " Text(150.13687500000003, 91.18451612903226, 'gini = 0.776\\nsamples = 78\\nvalue = [0, 0, 0 ... 0, 0, 0]'),\n",
       " Text(154.321875, 91.18451612903226, 'gini = 0.745\\nsamples = 63\\nvalue = [0, 0, 0 ... 0, 0, 0]'),\n",
       " Text(156.414375, 105.21290322580649, 'gini = 0.664\\nsamples = 62\\nvalue = [0, 0, 0 ... 0, 0, 0]'),\n",
       " Text(164.784375, 119.24129032258065, 'X[4] <= 2457.5\\ngini = 0.98\\nsamples = 771\\nvalue = [0, 0, 0 ... 0, 0, 0]'),\n",
       " Text(160.599375, 105.21290322580649, 'X[2] <= 25.5\\ngini = 0.823\\nsamples = 115\\nvalue = [0, 0, 0 ... 0, 0, 0]'),\n",
       " Text(158.506875, 91.18451612903226, 'gini = 0.826\\nsamples = 61\\nvalue = [0, 0, 0 ... 0, 0, 0]'),\n",
       " Text(162.691875, 91.18451612903226, 'gini = 0.754\\nsamples = 54\\nvalue = [0, 0, 0 ... 0, 0, 0]'),\n",
       " Text(168.969375, 105.21290322580649, 'X[4] <= 2462.5\\ngini = 0.978\\nsamples = 656\\nvalue = [0, 0, 0 ... 0, 0, 0]'),\n",
       " Text(166.876875, 91.18451612903226, 'gini = 0.797\\nsamples = 89\\nvalue = [0, 0, 0 ... 0, 0, 0]'),\n",
       " Text(171.06187500000001, 91.18451612903226, 'X[4] <= 2465.5\\ngini = 0.976\\nsamples = 567\\nvalue = [0, 0, 0 ... 0, 0, 0]'),\n",
       " Text(168.969375, 77.1561290322581, 'gini = 0.657\\nsamples = 50\\nvalue = [0, 0, 0 ... 0, 0, 0]'),\n",
       " Text(173.15437500000002, 77.1561290322581, 'X[4] <= 2470.5\\ngini = 0.974\\nsamples = 517\\nvalue = [0, 0, 0 ... 0, 0, 0]'),\n",
       " Text(171.06187500000001, 63.12774193548387, 'gini = 0.787\\nsamples = 80\\nvalue = [0, 0, 0 ... 0, 0, 0]'),\n",
       " Text(175.24687500000002, 63.12774193548387, 'X[4] <= 2474.5\\ngini = 0.971\\nsamples = 437\\nvalue = [0, 0, 0 ... 0, 0, 0]'),\n",
       " Text(173.15437500000002, 49.0993548387097, 'gini = 0.742\\nsamples = 56\\nvalue = [0, 0, 0 ... 0, 0, 0]'),\n",
       " Text(177.33937500000002, 49.0993548387097, 'X[4] <= 2500.5\\ngini = 0.968\\nsamples = 381\\nvalue = [0, 0, 0 ... 0, 0, 0]'),\n",
       " Text(175.24687500000002, 35.07096774193553, 'X[4] <= 2478.5\\ngini = 0.959\\nsamples = 289\\nvalue = [0, 0, 0 ... 0, 0, 0]'),\n",
       " Text(173.15437500000002, 21.04258064516131, 'gini = 0.747\\nsamples = 51\\nvalue = [0, 0, 0 ... 0, 0, 0]'),\n",
       " Text(177.33937500000002, 21.04258064516131, 'X[4] <= 2494.5\\ngini = 0.951\\nsamples = 238\\nvalue = [0, 0, 0 ... 0, 0, 0]'),\n",
       " Text(175.24687500000002, 7.014193548387141, 'gini = 0.933\\nsamples = 167\\nvalue = [0, 0, 0 ... 0, 0, 0]'),\n",
       " Text(179.43187500000002, 7.014193548387141, 'gini = 0.822\\nsamples = 71\\nvalue = [0, 0, 0 ... 0, 0, 0]'),\n",
       " Text(179.43187500000002, 35.07096774193553, 'gini = 0.855\\nsamples = 92\\nvalue = [0, 0, 0 ... 0, 0, 0]'),\n",
       " Text(184.4015625, 161.3264516129032, 'X[4] <= 2516.5\\ngini = 0.992\\nsamples = 1783\\nvalue = [0, 0, 0 ... 0, 0, 0]'),\n",
       " Text(179.17031250000002, 147.29806451612905, 'X[4] <= 2513.5\\ngini = 0.884\\nsamples = 150\\nvalue = [0, 0, 0 ... 0, 0, 0]'),\n",
       " Text(177.07781250000002, 133.26967741935488, 'gini = 0.826\\nsamples = 94\\nvalue = [0, 0, 0 ... 0, 0, 0]'),\n",
       " Text(181.26281250000002, 133.26967741935488, 'gini = 0.656\\nsamples = 56\\nvalue = [0, 0, 0 ... 0, 0, 0]'),\n",
       " Text(189.63281250000003, 147.29806451612905, 'X[4] <= 2525.5\\ngini = 0.991\\nsamples = 1633\\nvalue = [0, 0, 0 ... 0, 0, 0]'),\n",
       " Text(185.44781250000003, 133.26967741935488, 'X[4] <= 2522.5\\ngini = 0.885\\nsamples = 148\\nvalue = [0, 0, 0 ... 0, 0, 0]'),\n",
       " Text(183.35531250000003, 119.24129032258065, 'gini = 0.825\\nsamples = 95\\nvalue = [0, 0, 0 ... 0, 0, 0]'),\n",
       " Text(187.54031250000003, 119.24129032258065, 'gini = 0.662\\nsamples = 53\\nvalue = [0, 0, 0 ... 0, 0, 0]'),\n",
       " Text(193.81781250000003, 133.26967741935488, 'X[4] <= 2530.5\\ngini = 0.991\\nsamples = 1485\\nvalue = [0, 0, 0 ... 0, 0, 0]'),\n",
       " Text(191.72531250000003, 119.24129032258065, 'gini = 0.783\\nsamples = 78\\nvalue = [0, 0, 0 ... 0, 0, 0]'),\n",
       " Text(195.91031250000003, 119.24129032258065, 'X[4] <= 2547.5\\ngini = 0.99\\nsamples = 1407\\nvalue = [0, 0, 0 ... 0, 0, 0]'),\n",
       " Text(189.89437500000003, 105.21290322580649, 'X[4] <= 2544.5\\ngini = 0.939\\nsamples = 298\\nvalue = [0, 0, 0 ... 0, 0, 0]'),\n",
       " Text(187.80187500000002, 91.18451612903226, 'X[4] <= 2541.5\\ngini = 0.927\\nsamples = 238\\nvalue = [0, 0, 0 ... 0, 0, 0]'),\n",
       " Text(185.70937500000002, 77.1561290322581, 'X[4] <= 2537.5\\ngini = 0.907\\nsamples = 182\\nvalue = [0, 0, 0 ... 0, 0, 0]'),\n",
       " Text(183.61687500000002, 63.12774193548387, 'X[4] <= 2534.5\\ngini = 0.852\\nsamples = 109\\nvalue = [0, 0, 0 ... 0, 0, 0]'),\n",
       " Text(181.52437500000002, 49.0993548387097, 'gini = 0.743\\nsamples = 59\\nvalue = [0, 0, 0 ... 0, 0, 0]'),\n",
       " Text(185.70937500000002, 49.0993548387097, 'gini = 0.657\\nsamples = 50\\nvalue = [0, 0, 0 ... 0, 0, 0]'),\n",
       " Text(187.80187500000002, 63.12774193548387, 'gini = 0.748\\nsamples = 73\\nvalue = [0, 0, 0 ... 0, 0, 0]'),\n",
       " Text(189.89437500000003, 77.1561290322581, 'gini = 0.66\\nsamples = 56\\nvalue = [0, 0, 0 ... 0, 0, 0]'),\n",
       " Text(191.98687500000003, 91.18451612903226, 'gini = 0.663\\nsamples = 60\\nvalue = [0, 0, 0 ... 0, 0, 0]'),\n",
       " Text(201.92625, 105.21290322580649, 'X[4] <= 2560.5\\ngini = 0.988\\nsamples = 1109\\nvalue = [0, 0, 0 ... 0, 0, 0]'),\n",
       " Text(196.17187500000003, 91.18451612903226, 'X[4] <= 2557.5\\ngini = 0.918\\nsamples = 206\\nvalue = [0, 0, 0 ... 0, 0, 0]'),\n",
       " Text(194.07937500000003, 77.1561290322581, 'X[4] <= 2553.5\\ngini = 0.895\\nsamples = 149\\nvalue = [0, 0, 0 ... 0, 0, 0]'),\n",
       " Text(191.98687500000003, 63.12774193548387, 'gini = 0.828\\nsamples = 84\\nvalue = [0, 0, 0 ... 0, 0, 0]'),\n",
       " Text(196.17187500000003, 63.12774193548387, 'gini = 0.734\\nsamples = 65\\nvalue = [0, 0, 0 ... 0, 0, 0]'),\n",
       " Text(198.26437500000003, 77.1561290322581, 'gini = 0.65\\nsamples = 57\\nvalue = [0, 0, 0 ... 0, 0, 0]'),\n",
       " Text(207.68062500000002, 91.18451612903226, 'X[4] <= 2569.5\\ngini = 0.987\\nsamples = 903\\nvalue = [0, 0, 0 ... 0, 0, 0]'),\n",
       " Text(202.44937500000003, 77.1561290322581, 'X[4] <= 2565.5\\ngini = 0.872\\nsamples = 118\\nvalue = [0, 0, 0 ... 0, 0, 0]'),\n",
       " Text(200.35687500000003, 63.12774193548387, 'gini = 0.779\\nsamples = 64\\nvalue = [0, 0, 0 ... 0, 0, 0]'),\n",
       " Text(204.54187500000003, 63.12774193548387, 'gini = 0.698\\nsamples = 54\\nvalue = [0, 0, 0 ... 0, 0, 0]'),\n",
       " Text(212.91187500000004, 77.1561290322581, 'X[4] <= 2581.5\\ngini = 0.985\\nsamples = 785\\nvalue = [0, 0, 0 ... 0, 0, 0]'),\n",
       " Text(208.72687500000004, 63.12774193548387, 'X[4] <= 2577.5\\ngini = 0.912\\nsamples = 145\\nvalue = [0, 0, 0 ... 0, 0, 0]'),\n",
       " Text(206.63437500000003, 49.0993548387097, 'gini = 0.867\\nsamples = 89\\nvalue = [0, 0, 0 ... 0, 0, 0]'),\n",
       " Text(210.81937500000004, 49.0993548387097, 'gini = 0.744\\nsamples = 56\\nvalue = [0, 0, 0 ... 0, 0, 0]'),\n",
       " Text(217.09687500000004, 63.12774193548387, 'X[4] <= 2586.5\\ngini = 0.983\\nsamples = 640\\nvalue = [0, 0, 0 ... 0, 0, 0]'),\n",
       " Text(215.00437500000004, 49.0993548387097, 'gini = 0.786\\nsamples = 54\\nvalue = [0, 0, 0 ... 0, 0, 0]'),\n",
       " Text(219.189375, 49.0993548387097, 'X[4] <= 2620.5\\ngini = 0.981\\nsamples = 586\\nvalue = [0, 0, 0 ... 0, 0, 0]'),\n",
       " Text(215.00437500000004, 35.07096774193553, 'X[4] <= 2613.5\\ngini = 0.967\\nsamples = 332\\nvalue = [0, 0, 0 ... 0, 0, 0]'),\n",
       " Text(212.91187500000004, 21.04258064516131, 'X[4] <= 2605.5\\ngini = 0.96\\nsamples = 251\\nvalue = [0, 0, 0 ... 0, 0, 0]'),\n",
       " Text(210.81937500000004, 7.014193548387141, 'gini = 0.943\\nsamples = 165\\nvalue = [0, 0, 0 ... 0, 0, 0]'),\n",
       " Text(215.00437500000004, 7.014193548387141, 'gini = 0.864\\nsamples = 86\\nvalue = [0, 0, 0 ... 0, 0, 0]'),\n",
       " Text(217.09687500000004, 21.04258064516131, 'gini = 0.841\\nsamples = 81\\nvalue = [0, 0, 0 ... 0, 0, 0]'),\n",
       " Text(223.37437500000001, 35.07096774193553, 'X[4] <= 2624.5\\ngini = 0.955\\nsamples = 254\\nvalue = [0, 0, 0 ... 0, 0, 0]'),\n",
       " Text(221.281875, 21.04258064516131, 'gini = 0.744\\nsamples = 65\\nvalue = [0, 0, 0 ... 0, 0, 0]'),\n",
       " Text(225.46687500000002, 21.04258064516131, 'X[4] <= 2640.5\\ngini = 0.949\\nsamples = 189\\nvalue = [0, 0, 0 ... 0, 0, 0]'),\n",
       " Text(223.37437500000001, 7.014193548387141, 'gini = 0.933\\nsamples = 136\\nvalue = [0, 0, 0 ... 0, 0, 0]'),\n",
       " Text(227.55937500000002, 7.014193548387141, 'gini = 0.793\\nsamples = 53\\nvalue = [0, 0, 0 ... 0, 0, 0]'),\n",
       " Text(171.13543945312503, 175.35483870967744, 'gini = 0.724\\nsamples = 51\\nvalue = [0, 0, 0 ... 0, 0, 0]'),\n",
       " Text(177.41293945312503, 189.38322580645163, 'X[4] <= 2652.5\\ngini = 0.904\\nsamples = 150\\nvalue = [0, 0, 0 ... 0, 0, 0]'),\n",
       " Text(175.32043945312503, 175.35483870967744, 'gini = 0.662\\nsamples = 54\\nvalue = [0, 0, 0 ... 0, 0, 0]'),\n",
       " Text(179.50543945312504, 175.35483870967744, 'gini = 0.873\\nsamples = 96\\nvalue = [0, 0, 0 ... 0, 0, 0]'),\n",
       " Text(217.09687500000004, 203.41161290322583, 'X[4] <= 2664.5\\ngini = 0.988\\nsamples = 1218\\nvalue = [0, 0, 0 ... 0, 0, 0]'),\n",
       " Text(215.00437500000004, 189.38322580645163, 'gini = 0.732\\nsamples = 68\\nvalue = [0, 0, 0 ... 0, 0, 0]'),\n",
       " Text(219.189375, 189.38322580645163, 'X[4] <= 2676.5\\ngini = 0.987\\nsamples = 1150\\nvalue = [0, 0, 0 ... 0, 0, 0]'),\n",
       " Text(213.95812500000002, 175.35483870967744, 'X[4] <= 2673.5\\ngini = 0.912\\nsamples = 189\\nvalue = [0, 0, 0 ... 0, 0, 0]'),\n",
       " Text(211.86562500000002, 161.3264516129032, 'X[4] <= 2669.5\\ngini = 0.883\\nsamples = 137\\nvalue = [0, 0, 0 ... 0, 0, 0]'),\n",
       " Text(209.77312500000002, 147.29806451612905, 'gini = 0.798\\nsamples = 67\\nvalue = [0, 0, 0 ... 0, 0, 0]'),\n",
       " Text(213.95812500000002, 147.29806451612905, 'gini = 0.737\\nsamples = 70\\nvalue = [0, 0, 0 ... 0, 0, 0]'),\n",
       " Text(216.05062500000003, 161.3264516129032, 'gini = 0.65\\nsamples = 52\\nvalue = [0, 0, 0 ... 0, 0, 0]'),\n",
       " Text(224.42062500000003, 175.35483870967744, 'X[4] <= 2691.5\\ngini = 0.985\\nsamples = 961\\nvalue = [0, 0, 0 ... 0, 0, 0]'),\n",
       " Text(220.23562500000003, 161.3264516129032, 'X[4] <= 2688.5\\ngini = 0.929\\nsamples = 237\\nvalue = [0, 0, 0 ... 0, 0, 0]'),\n",
       " Text(218.14312500000003, 147.29806451612905, 'X[4] <= 2685.5\\ngini = 0.912\\nsamples = 187\\nvalue = [0, 0, 0 ... 0, 0, 0]'),\n",
       " Text(216.05062500000003, 133.26967741935488, 'X[4] <= 2680.5\\ngini = 0.885\\nsamples = 126\\nvalue = [0, 0, 0 ... 0, 0, 0]'),\n",
       " Text(213.95812500000002, 119.24129032258065, 'gini = 0.743\\nsamples = 60\\nvalue = [0, 0, 0 ... 0, 0, 0]'),\n",
       " Text(218.14312500000003, 119.24129032258065, 'gini = 0.794\\nsamples = 66\\nvalue = [0, 0, 0 ... 0, 0, 0]'),\n",
       " Text(220.23562500000003, 133.26967741935488, 'gini = 0.666\\nsamples = 61\\nvalue = [0, 0, 0 ... 0, 0, 0]'),\n",
       " Text(222.32812500000003, 147.29806451612905, 'gini = 0.625\\nsamples = 50\\nvalue = [0, 0, 0 ... 0, 0, 0]'),\n",
       " Text(228.60562500000003, 161.3264516129032, 'X[4] <= 2694.5\\ngini = 0.981\\nsamples = 724\\nvalue = [0, 0, 0 ... 0, 0, 0]'),\n",
       " Text(226.51312500000003, 147.29806451612905, 'gini = 0.644\\nsamples = 52\\nvalue = [0, 0, 0 ... 0, 0, 0]'),\n",
       " Text(230.69812500000003, 147.29806451612905, 'X[4] <= 2699.5\\ngini = 0.98\\nsamples = 672\\nvalue = [0, 0, 0 ... 0, 0, 0]'),\n",
       " Text(228.60562500000003, 133.26967741935488, 'gini = 0.791\\nsamples = 72\\nvalue = [0, 0, 0 ... 0, 0, 0]'),\n",
       " Text(232.79062500000003, 133.26967741935488, 'X[4] <= 2744.5\\ngini = 0.978\\nsamples = 600\\nvalue = [0, 0, 0 ... 0, 0, 0]'),\n",
       " Text(230.69812500000003, 119.24129032258065, 'X[4] <= 2712.5\\ngini = 0.976\\nsamples = 546\\nvalue = [0, 0, 0 ... 0, 0, 0]'),\n",
       " Text(225.46687500000002, 105.21290322580649, 'X[4] <= 2708.5\\ngini = 0.916\\nsamples = 164\\nvalue = [0, 0, 0 ... 0, 0, 0]'),\n",
       " Text(223.37437500000001, 91.18451612903226, 'X[4] <= 2704.5\\ngini = 0.878\\nsamples = 104\\nvalue = [0, 0, 0 ... 0, 0, 0]'),\n",
       " Text(221.281875, 77.1561290322581, 'gini = 0.77\\nsamples = 50\\nvalue = [0, 0, 0 ... 0, 0, 0]'),\n",
       " Text(225.46687500000002, 77.1561290322581, 'gini = 0.744\\nsamples = 54\\nvalue = [0, 0, 0 ... 0, 0, 0]'),\n",
       " Text(227.55937500000002, 91.18451612903226, 'gini = 0.738\\nsamples = 60\\nvalue = [0, 0, 0 ... 0, 0, 0]'),\n",
       " Text(235.92937500000002, 105.21290322580649, 'X[4] <= 2736.5\\ngini = 0.967\\nsamples = 382\\nvalue = [0, 0, 0 ... 0, 0, 0]'),\n",
       " Text(231.74437500000002, 91.18451612903226, 'X[4] <= 2732.5\\ngini = 0.956\\nsamples = 281\\nvalue = [0, 0, 0 ... 0, 0, 0]'),\n",
       " Text(229.65187500000002, 77.1561290322581, 'X[4] <= 2722.5\\ngini = 0.947\\nsamples = 225\\nvalue = [0, 0, 0 ... 0, 0, 0]'),\n",
       " Text(225.46687500000002, 63.12774193548387, 'X[4] <= 2717.5\\ngini = 0.893\\nsamples = 110\\nvalue = [0, 0, 0 ... 0, 0, 0]'),\n",
       " Text(223.37437500000001, 49.0993548387097, 'gini = 0.783\\nsamples = 51\\nvalue = [0, 0, 0 ... 0, 0, 0]'),\n",
       " Text(227.55937500000002, 49.0993548387097, 'gini = 0.792\\nsamples = 59\\nvalue = [0, 0, 0 ... 0, 0, 0]'),\n",
       " Text(233.83687500000002, 63.12774193548387, 'X[4] <= 2726.5\\ngini = 0.893\\nsamples = 115\\nvalue = [0, 0, 0 ... 0, 0, 0]'),\n",
       " Text(231.74437500000002, 49.0993548387097, 'gini = 0.734\\nsamples = 51\\nvalue = [0, 0, 0 ... 0, 0, 0]'),\n",
       " Text(235.92937500000002, 49.0993548387097, 'gini = 0.824\\nsamples = 64\\nvalue = [0, 0, 0 ... 0, 0, 0]'),\n",
       " Text(233.83687500000002, 77.1561290322581, 'gini = 0.747\\nsamples = 56\\nvalue = [0, 0, 0 ... 0, 0, 0]'),\n",
       " Text(240.11437500000002, 91.18451612903226, 'X[1] <= 715.5\\ngini = 0.867\\nsamples = 101\\nvalue = [0, 0, 0 ... 0, 0, 0]'),\n",
       " Text(238.02187500000002, 77.1561290322581, 'gini = 0.85\\nsamples = 50\\nvalue = [0, 0, 0 ... 0, 0, 0]'),\n",
       " Text(242.20687500000003, 77.1561290322581, 'gini = 0.852\\nsamples = 51\\nvalue = [0, 0, 0 ... 0, 0, 0]'),\n",
       " Text(234.88312500000004, 119.24129032258065, 'gini = 0.747\\nsamples = 54\\nvalue = [0, 0, 0 ... 0, 0, 0]'),\n",
       " Text(251.95007812500003, 217.44, 'X[4] <= 2751.5\\ngini = 0.996\\nsamples = 3657\\nvalue = [0, 0, 0 ... 0, 0, 0]'),\n",
       " Text(249.85757812500003, 203.41161290322583, 'gini = 0.666\\nsamples = 74\\nvalue = [0, 0, 0 ... 0, 0, 0]'),\n",
       " Text(254.04257812500003, 203.41161290322583, 'X[4] <= 2760.5\\ngini = 0.996\\nsamples = 3583\\nvalue = [0, 0, 0 ... 0, 0, 0]'),\n",
       " Text(246.39187500000003, 189.38322580645163, 'X[4] <= 2757.5\\ngini = 0.882\\nsamples = 135\\nvalue = [0, 0, 0 ... 0, 0, 0]'),\n",
       " Text(244.29937500000003, 175.35483870967744, 'gini = 0.823\\nsamples = 84\\nvalue = [0, 0, 0 ... 0, 0, 0]'),\n",
       " Text(248.48437500000003, 175.35483870967744, 'gini = 0.652\\nsamples = 51\\nvalue = [0, 0, 0 ... 0, 0, 0]'),\n",
       " Text(261.69328125000004, 189.38322580645163, 'X[4] <= 2773.5\\ngini = 0.996\\nsamples = 3448\\nvalue = [0, 0, 0 ... 0, 0, 0]'),\n",
       " Text(252.66937500000003, 175.35483870967744, 'X[4] <= 2770.5\\ngini = 0.917\\nsamples = 185\\nvalue = [0, 0, 0 ... 0, 0, 0]'),\n",
       " Text(250.57687500000003, 161.3264516129032, 'X[4] <= 2766.5\\ngini = 0.893\\nsamples = 134\\nvalue = [0, 0, 0 ... 0, 0, 0]'),\n",
       " Text(248.48437500000003, 147.29806451612905, 'gini = 0.821\\nsamples = 73\\nvalue = [0, 0, 0 ... 0, 0, 0]'),\n",
       " Text(252.66937500000003, 147.29806451612905, 'gini = 0.741\\nsamples = 61\\nvalue = [0, 0, 0 ... 0, 0, 0]'),\n",
       " Text(254.76187500000003, 161.3264516129032, 'gini = 0.651\\nsamples = 51\\nvalue = [0, 0, 0 ... 0, 0, 0]'),\n",
       " Text(270.7171875, 175.35483870967744, 'X[4] <= 2810.5\\ngini = 0.996\\nsamples = 3263\\nvalue = [0, 0, 0 ... 0, 0, 0]'),\n",
       " Text(261.039375, 161.3264516129032, 'X[4] <= 2803.5\\ngini = 0.971\\nsamples = 518\\nvalue = [0, 0, 0 ... 0, 0, 0]'),\n",
       " Text(256.854375, 147.29806451612905, 'X[4] <= 2799.5\\ngini = 0.964\\nsamples = 402\\nvalue = [0, 0, 0 ... 0, 0, 0]'),\n",
       " Text(254.76187500000003, 133.26967741935488, 'X[4] <= 2794.5\\ngini = 0.959\\nsamples = 336\\nvalue = [0, 0, 0 ... 0, 0, 0]'),\n",
       " Text(252.66937500000003, 119.24129032258065, 'X[4] <= 2787.5\\ngini = 0.949\\nsamples = 264\\nvalue = [0, 0, 0 ... 0, 0, 0]'),\n",
       " Text(250.57687500000003, 105.21290322580649, 'X[4] <= 2782.5\\ngini = 0.923\\nsamples = 173\\nvalue = [0, 0, 0 ... 0, 0, 0]'),\n",
       " Text(248.48437500000003, 91.18451612903226, 'X[4] <= 2777.5\\ngini = 0.88\\nsamples = 109\\nvalue = [0, 0, 0 ... 0, 0, 0]'),\n",
       " Text(246.39187500000003, 77.1561290322581, 'gini = 0.748\\nsamples = 53\\nvalue = [0, 0, 0 ... 0, 0, 0]'),\n",
       " Text(250.57687500000003, 77.1561290322581, 'gini = 0.77\\nsamples = 56\\nvalue = [0, 0, 0 ... 0, 0, 0]'),\n",
       " Text(252.66937500000003, 91.18451612903226, 'gini = 0.79\\nsamples = 64\\nvalue = [0, 0, 0 ... 0, 0, 0]'),\n",
       " Text(254.76187500000003, 105.21290322580649, 'gini = 0.848\\nsamples = 91\\nvalue = [0, 0, 0 ... 0, 0, 0]'),\n",
       " Text(256.854375, 119.24129032258065, 'gini = 0.789\\nsamples = 72\\nvalue = [0, 0, 0 ... 0, 0, 0]'),\n",
       " Text(258.94687500000003, 133.26967741935488, 'gini = 0.74\\nsamples = 66\\nvalue = [0, 0, 0 ... 0, 0, 0]'),\n",
       " Text(265.224375, 147.29806451612905, 'X[4] <= 2806.5\\ngini = 0.85\\nsamples = 116\\nvalue = [0, 0, 0 ... 0, 0, 0]'),\n",
       " Text(263.13187500000004, 133.26967741935488, 'gini = 0.661\\nsamples = 57\\nvalue = [0, 0, 0 ... 0, 0, 0]'),\n",
       " Text(267.31687500000004, 133.26967741935488, 'gini = 0.735\\nsamples = 59\\nvalue = [0, 0, 0 ... 0, 0, 0]'),\n",
       " Text(280.39500000000004, 161.3264516129032, 'X[4] <= 2878.5\\ngini = 0.995\\nsamples = 2745\\nvalue = [0, 0, 0 ... 0, 0, 0]'),\n",
       " Text(273.594375, 147.29806451612905, 'X[4] <= 2874.5\\ngini = 0.984\\nsamples = 938\\nvalue = [0, 0, 0 ... 0, 0, 0]'),\n",
       " Text(271.50187500000004, 133.26967741935488, 'X[4] <= 2857.5\\ngini = 0.984\\nsamples = 865\\nvalue = [0, 0, 0 ... 0, 0, 0]'),\n",
       " Text(266.27062500000005, 119.24129032258065, 'X[4] <= 2845.5\\ngini = 0.978\\nsamples = 618\\nvalue = [0, 0, 0 ... 0, 0, 0]'),\n",
       " Text(262.08562500000005, 105.21290322580649, 'X[4] <= 2817.5\\ngini = 0.97\\nsamples = 458\\nvalue = [0, 0, 0 ... 0, 0, 0]'),\n",
       " Text(259.993125, 91.18451612903226, 'gini = 0.851\\nsamples = 93\\nvalue = [0, 0, 0 ... 0, 0, 0]'),\n",
       " Text(264.178125, 91.18451612903226, 'X[4] <= 2821.5\\ngini = 0.962\\nsamples = 365\\nvalue = [0, 0, 0 ... 0, 0, 0]'),\n",
       " Text(262.08562500000005, 77.1561290322581, 'gini = 0.749\\nsamples = 55\\nvalue = [0, 0, 0 ... 0, 0, 0]'),\n",
       " Text(266.27062500000005, 77.1561290322581, 'X[4] <= 2832.5\\ngini = 0.956\\nsamples = 310\\nvalue = [0, 0, 0 ... 0, 0, 0]'),\n",
       " Text(262.08562500000005, 63.12774193548387, 'X[4] <= 2828.5\\ngini = 0.902\\nsamples = 139\\nvalue = [0, 0, 0 ... 0, 0, 0]'),\n",
       " Text(259.993125, 49.0993548387097, 'gini = 0.846\\nsamples = 87\\nvalue = [0, 0, 0 ... 0, 0, 0]'),\n",
       " Text(264.178125, 49.0993548387097, 'gini = 0.729\\nsamples = 52\\nvalue = [0, 0, 0 ... 0, 0, 0]'),\n",
       " Text(270.45562500000005, 63.12774193548387, 'X[4] <= 2836.5\\ngini = 0.92\\nsamples = 171\\nvalue = [0, 0, 0 ... 0, 0, 0]'),\n",
       " Text(268.363125, 49.0993548387097, 'gini = 0.736\\nsamples = 54\\nvalue = [0, 0, 0 ... 0, 0, 0]'),\n",
       " Text(272.548125, 49.0993548387097, 'X[4] <= 2840.5\\ngini = 0.886\\nsamples = 117\\nvalue = [0, 0, 0 ... 0, 0, 0]'),\n",
       " Text(270.45562500000005, 35.07096774193553, 'gini = 0.748\\nsamples = 55\\nvalue = [0, 0, 0 ... 0, 0, 0]'),\n",
       " Text(274.64062500000006, 35.07096774193553, 'gini = 0.791\\nsamples = 62\\nvalue = [0, 0, 0 ... 0, 0, 0]'),\n",
       " Text(270.45562500000005, 105.21290322580649, 'X[4] <= 2849.5\\ngini = 0.913\\nsamples = 160\\nvalue = [0, 0, 0 ... 0, 0, 0]'),\n",
       " Text(268.363125, 91.18451612903226, 'gini = 0.729\\nsamples = 57\\nvalue = [0, 0, 0 ... 0, 0, 0]'),\n",
       " Text(272.548125, 91.18451612903226, 'X[4] <= 2853.5\\ngini = 0.872\\nsamples = 103\\nvalue = [0, 0, 0 ... 0, 0, 0]'),\n",
       " Text(270.45562500000005, 77.1561290322581, 'gini = 0.743\\nsamples = 52\\nvalue = [0, 0, 0 ... 0, 0, 0]'),\n",
       " Text(274.64062500000006, 77.1561290322581, 'gini = 0.744\\nsamples = 51\\nvalue = [0, 0, 0 ... 0, 0, 0]'),\n",
       " Text(276.73312500000003, 119.24129032258065, 'X[4] <= 2860.5\\ngini = 0.938\\nsamples = 247\\nvalue = [0, 0, 0 ... 0, 0, 0]'),\n",
       " Text(274.64062500000006, 105.21290322580649, 'gini = 0.618\\nsamples = 51\\nvalue = [0, 0, 0 ... 0, 0, 0]'),\n",
       " Text(278.82562500000006, 105.21290322580649, 'X[4] <= 2864.5\\ngini = 0.927\\nsamples = 196\\nvalue = [0, 0, 0 ... 0, 0, 0]'),\n",
       " Text(276.73312500000003, 91.18451612903226, 'gini = 0.741\\nsamples = 58\\nvalue = [0, 0, 0 ... 0, 0, 0]'),\n",
       " Text(280.91812500000003, 91.18451612903226, 'X[4] <= 2870.5\\ngini = 0.898\\nsamples = 138\\nvalue = [0, 0, 0 ... 0, 0, 0]'),\n",
       " Text(278.82562500000006, 77.1561290322581, 'gini = 0.832\\nsamples = 81\\nvalue = [0, 0, 0 ... 0, 0, 0]'),\n",
       " Text(283.01062500000006, 77.1561290322581, 'gini = 0.742\\nsamples = 57\\nvalue = [0, 0, 0 ... 0, 0, 0]'),\n",
       " Text(275.68687500000004, 133.26967741935488, 'gini = 0.744\\nsamples = 73\\nvalue = [0, 0, 0 ... 0, 0, 0]'),\n",
       " Text(287.195625, 147.29806451612905, 'X[4] <= 2882.5\\ngini = 0.993\\nsamples = 1807\\nvalue = [0, 0, 0 ... 0, 0, 0]'),\n",
       " Text(285.10312500000003, 133.26967741935488, 'gini = 0.74\\nsamples = 57\\nvalue = [0, 0, 0 ... 0, 0, 0]'),\n",
       " Text(289.28812500000004, 133.26967741935488, 'X[4] <= 2887.5\\ngini = 0.992\\nsamples = 1750\\nvalue = [0, 0, 0 ... 0, 0, 0]'),\n",
       " Text(287.195625, 119.24129032258065, 'gini = 0.788\\nsamples = 67\\nvalue = [0, 0, 0 ... 0, 0, 0]'),\n",
       " Text(291.380625, 119.24129032258065, 'X[4] <= 2892.5\\ngini = 0.992\\nsamples = 1683\\nvalue = [0, 0, 0 ... 0, 0, 0]'),\n",
       " Text(289.28812500000004, 105.21290322580649, 'gini = 0.793\\nsamples = 69\\nvalue = [0, 0, 0 ... 0, 0, 0]'),\n",
       " Text(293.47312500000004, 105.21290322580649, 'X[4] <= 2901.5\\ngini = 0.992\\nsamples = 1614\\nvalue = [0, 0, 0 ... 0, 0, 0]'),\n",
       " Text(289.28812500000004, 91.18451612903226, 'X[4] <= 2898.5\\ngini = 0.88\\nsamples = 119\\nvalue = [0, 0, 0 ... 0, 0, 0]'),\n",
       " Text(287.195625, 77.1561290322581, 'gini = 0.825\\nsamples = 69\\nvalue = [0, 0, 0 ... 0, 0, 0]'),\n",
       " Text(291.380625, 77.1561290322581, 'gini = 0.655\\nsamples = 50\\nvalue = [0, 0, 0 ... 0, 0, 0]'),\n",
       " Text(297.65812500000004, 91.18451612903226, 'X[4] <= 2907.5\\ngini = 0.991\\nsamples = 1495\\nvalue = [0, 0, 0 ... 0, 0, 0]'),\n",
       " Text(295.565625, 77.1561290322581, 'gini = 0.829\\nsamples = 81\\nvalue = [0, 0, 0 ... 0, 0, 0]'),\n",
       " Text(299.750625, 77.1561290322581, 'X[4] <= 2934.5\\ngini = 0.991\\nsamples = 1414\\nvalue = [0, 0, 0 ... 0, 0, 0]'),\n",
       " Text(293.99625000000003, 63.12774193548387, 'X[4] <= 2931.5\\ngini = 0.96\\nsamples = 339\\nvalue = [0, 0, 0 ... 0, 0, 0]'),\n",
       " Text(291.90375000000006, 49.0993548387097, 'X[4] <= 2927.5\\ngini = 0.955\\nsamples = 289\\nvalue = [0, 0, 0 ... 0, 0, 0]'),\n",
       " Text(289.81125000000003, 35.07096774193553, 'X[4] <= 2921.5\\ngini = 0.946\\nsamples = 230\\nvalue = [0, 0, 0 ... 0, 0, 0]'),\n",
       " Text(287.71875000000006, 21.04258064516131, 'X[4] <= 2913.5\\ngini = 0.924\\nsamples = 156\\nvalue = [0, 0, 0 ... 0, 0, 0]'),\n",
       " Text(285.62625, 7.014193548387141, 'gini = 0.817\\nsamples = 65\\nvalue = [0, 0, 0 ... 0, 0, 0]'),\n",
       " Text(289.81125000000003, 7.014193548387141, 'gini = 0.87\\nsamples = 91\\nvalue = [0, 0, 0 ... 0, 0, 0]'),\n",
       " Text(291.90375000000006, 21.04258064516131, 'gini = 0.819\\nsamples = 74\\nvalue = [0, 0, 0 ... 0, 0, 0]'),\n",
       " Text(293.99625000000003, 35.07096774193553, 'gini = 0.746\\nsamples = 59\\nvalue = [0, 0, 0 ... 0, 0, 0]'),\n",
       " Text(296.08875000000006, 49.0993548387097, 'gini = 0.649\\nsamples = 50\\nvalue = [0, 0, 0 ... 0, 0, 0]'),\n",
       " Text(305.50500000000005, 63.12774193548387, 'X[4] <= 2947.5\\ngini = 0.988\\nsamples = 1075\\nvalue = [0, 0, 0 ... 0, 0, 0]'),\n",
       " Text(300.27375000000006, 49.0993548387097, 'X[4] <= 2943.5\\ngini = 0.92\\nsamples = 177\\nvalue = [0, 0, 0 ... 0, 0, 0]'),\n",
       " Text(298.18125000000003, 35.07096774193553, 'X[4] <= 2939.5\\ngini = 0.883\\nsamples = 118\\nvalue = [0, 0, 0 ... 0, 0, 0]'),\n",
       " Text(296.08875000000006, 21.04258064516131, 'gini = 0.785\\nsamples = 63\\nvalue = [0, 0, 0 ... 0, 0, 0]'),\n",
       " Text(300.27375000000006, 21.04258064516131, 'gini = 0.745\\nsamples = 55\\nvalue = [0, 0, 0 ... 0, 0, 0]'),\n",
       " Text(302.36625000000004, 35.07096774193553, 'gini = 0.743\\nsamples = 59\\nvalue = [0, 0, 0 ... 0, 0, 0]'),\n",
       " Text(310.73625000000004, 49.0993548387097, 'X[4] <= 2958.5\\ngini = 0.986\\nsamples = 898\\nvalue = [0, 0, 0 ... 0, 0, 0]'),\n",
       " Text(306.55125000000004, 35.07096774193553, 'X[4] <= 2954.5\\ngini = 0.898\\nsamples = 144\\nvalue = [0, 0, 0 ... 0, 0, 0]'),\n",
       " Text(304.45875, 21.04258064516131, 'gini = 0.847\\nsamples = 89\\nvalue = [0, 0, 0 ... 0, 0, 0]'),\n",
       " Text(308.64375, 21.04258064516131, 'gini = 0.7\\nsamples = 55\\nvalue = [0, 0, 0 ... 0, 0, 0]'),\n",
       " Text(314.92125000000004, 35.07096774193553, 'X[4] <= 2963.5\\ngini = 0.984\\nsamples = 754\\nvalue = [0, 0, 0 ... 0, 0, 0]'),\n",
       " Text(312.82875, 21.04258064516131, 'gini = 0.777\\nsamples = 69\\nvalue = [0, 0, 0 ... 0, 0, 0]'),\n",
       " Text(317.01375, 21.04258064516131, 'X[4] <= 2968.5\\ngini = 0.983\\nsamples = 685\\nvalue = [0, 0, 0 ... 0, 0, 0]'),\n",
       " Text(314.92125000000004, 7.014193548387141, 'gini = 0.797\\nsamples = 68\\nvalue = [0, 0, 0 ... 0, 0, 0]'),\n",
       " Text(319.10625000000005, 7.014193548387141, 'gini = 0.981\\nsamples = 617\\nvalue = [0, 0, 0 ... 0, 0, 0]'),\n",
       " Text(258.22757812500004, 231.4683870967742, 'X[4] <= 3028.5\\ngini = 0.877\\nsamples = 119\\nvalue = [0, 0, 0 ... 0, 0, 0]'),\n",
       " Text(256.135078125, 217.44, 'gini = 0.666\\nsamples = 56\\nvalue = [0, 0, 0 ... 0, 0, 0]'),\n",
       " Text(260.320078125, 217.44, 'gini = 0.826\\nsamples = 63\\nvalue = [0, 0, 0 ... 0, 0, 0]'),\n",
       " Text(245.07691040039066, 245.4967741935484, 'gini = 0.722\\nsamples = 53\\nvalue = [0, 0, 0 ... 0, 0, 0]'),\n",
       " Text(247.16941040039066, 259.52516129032256, 'gini = 0.74\\nsamples = 68\\nvalue = [0, 0, 0 ... 0, 0, 0]'),\n",
       " Text(446.02887840271, 273.5535483870968, 'X[4] <= 3373.5\\ngini = 1.0\\nsamples = 42422\\nvalue = [0, 0, 0 ... 1, 1, 1]'),\n",
       " Text(420.9572570800782, 259.52516129032256, 'X[4] <= 3368.5\\ngini = 0.997\\nsamples = 4230\\nvalue = [0, 0, 0 ... 0, 0, 0]'),\n",
       " Text(412.9520141601563, 245.4967741935484, 'X[4] <= 3336.5\\ngini = 0.997\\nsamples = 4130\\nvalue = [0, 0, 0 ... 0, 0, 0]'),\n",
       " Text(403.21902832031253, 231.4683870967742, 'X[4] <= 3329.5\\ngini = 0.996\\nsamples = 3688\\nvalue = [0, 0, 0 ... 0, 0, 0]'),\n",
       " Text(396.30805664062507, 217.44, 'X[4] <= 3313.5\\ngini = 0.996\\nsamples = 3588\\nvalue = [0, 0, 0 ... 0, 0, 0]'),\n",
       " Text(388.76361328125006, 203.41161290322583, 'X[4] <= 3294.5\\ngini = 0.996\\nsamples = 3371\\nvalue = [0, 0, 0 ... 0, 0, 0]'),\n",
       " Text(379.9522265625001, 189.38322580645163, 'X[4] <= 3232.5\\ngini = 0.996\\nsamples = 3121\\nvalue = [0, 0, 0 ... 0, 0, 0]'),\n",
       " Text(368.606953125, 175.35483870967744, 'X[4] <= 3188.5\\ngini = 0.994\\nsamples = 2343\\nvalue = [0, 0, 0 ... 0, 0, 0]'),\n",
       " Text(360.56390625000006, 161.3264516129032, 'X[4] <= 3184.5\\ngini = 0.993\\nsamples = 1762\\nvalue = [0, 0, 0 ... 0, 0, 0]'),\n",
       " Text(358.47140625000003, 147.29806451612905, 'X[4] <= 3180.5\\ngini = 0.993\\nsamples = 1709\\nvalue = [0, 0, 0 ... 0, 0, 0]'),\n",
       " Text(356.37890625000006, 133.26967741935488, 'X[4] <= 3176.5\\ngini = 0.992\\nsamples = 1659\\nvalue = [0, 0, 0 ... 0, 0, 0]'),\n",
       " Text(354.28640625, 119.24129032258065, 'X[4] <= 3126.5\\ngini = 0.992\\nsamples = 1608\\nvalue = [0, 0, 0 ... 0, 0, 0]'),\n",
       " Text(346.57031250000006, 105.21290322580649, 'X[4] <= 3117.5\\ngini = 0.987\\nsamples = 977\\nvalue = [0, 0, 0 ... 0, 0, 0]'),\n",
       " Text(340.55437500000005, 91.18451612903226, 'X[4] <= 3091.5\\ngini = 0.986\\nsamples = 858\\nvalue = [0, 0, 0 ... 0, 0, 0]'),\n",
       " Text(334.80000000000007, 77.1561290322581, 'X[4] <= 3047.5\\ngini = 0.978\\nsamples = 546\\nvalue = [0, 0, 0 ... 0, 0, 0]'),\n",
       " Text(332.70750000000004, 63.12774193548387, 'gini = 0.793\\nsamples = 60\\nvalue = [0, 0, 0 ... 0, 0, 0]'),\n",
       " Text(336.89250000000004, 63.12774193548387, 'X[4] <= 3081.5\\ngini = 0.975\\nsamples = 486\\nvalue = [0, 0, 0 ... 0, 0, 0]'),\n",
       " Text(331.66125000000005, 49.0993548387097, 'X[4] <= 3061.5\\ngini = 0.969\\nsamples = 379\\nvalue = [0, 0, 0 ... 0, 0, 0]'),\n",
       " Text(327.47625000000005, 35.07096774193553, 'X[4] <= 3057.5\\ngini = 0.924\\nsamples = 156\\nvalue = [0, 0, 0 ... 0, 0, 0]'),\n",
       " Text(325.38375, 21.04258064516131, 'X[6] <= 19.13\\ngini = 0.893\\nsamples = 101\\nvalue = [0, 0, 0 ... 0, 0, 0]'),\n",
       " Text(323.29125000000005, 7.014193548387141, 'gini = 0.874\\nsamples = 51\\nvalue = [0, 0, 0 ... 0, 0, 0]'),\n",
       " Text(327.47625000000005, 7.014193548387141, 'gini = 0.882\\nsamples = 50\\nvalue = [0, 0, 0 ... 0, 0, 0]'),\n",
       " Text(329.56875, 21.04258064516131, 'gini = 0.745\\nsamples = 55\\nvalue = [0, 0, 0 ... 0, 0, 0]'),\n",
       " Text(335.84625000000005, 35.07096774193553, 'X[4] <= 3065.5\\ngini = 0.948\\nsamples = 223\\nvalue = [0, 0, 0 ... 0, 0, 0]'),\n",
       " Text(333.75375, 21.04258064516131, 'gini = 0.741\\nsamples = 52\\nvalue = [0, 0, 0 ... 0, 0, 0]'),\n",
       " Text(337.93875, 21.04258064516131, 'X[4] <= 3076.5\\ngini = 0.935\\nsamples = 171\\nvalue = [0, 0, 0 ... 0, 0, 0]'),\n",
       " Text(335.84625000000005, 7.014193548387141, 'gini = 0.905\\nsamples = 114\\nvalue = [0, 0, 0 ... 0, 0, 0]'),\n",
       " Text(340.03125000000006, 7.014193548387141, 'gini = 0.795\\nsamples = 57\\nvalue = [0, 0, 0 ... 0, 0, 0]'),\n",
       " Text(342.12375000000003, 49.0993548387097, 'X[8] <= 31.5\\ngini = 0.883\\nsamples = 107\\nvalue = [0, 0, 0 ... 0, 0, 0]'),\n",
       " Text(340.03125000000006, 35.07096774193553, 'gini = 0.883\\nsamples = 55\\nvalue = [0, 0, 0 ... 0, 0, 0]'),\n",
       " Text(344.21625000000006, 35.07096774193553, 'gini = 0.854\\nsamples = 52\\nvalue = [0, 0, 0 ... 0, 0, 0]'),\n",
       " Text(346.30875000000003, 77.1561290322581, 'X[4] <= 3097.5\\ngini = 0.959\\nsamples = 312\\nvalue = [0, 0, 0 ... 0, 0, 0]'),\n",
       " Text(344.21625000000006, 63.12774193548387, 'gini = 0.83\\nsamples = 85\\nvalue = [0, 0, 0 ... 0, 0, 0]'),\n",
       " Text(348.40125000000006, 63.12774193548387, 'X[4] <= 3104.5\\ngini = 0.947\\nsamples = 227\\nvalue = [0, 0, 0 ... 0, 0, 0]'),\n",
       " Text(346.30875000000003, 49.0993548387097, 'gini = 0.844\\nsamples = 82\\nvalue = [0, 0, 0 ... 0, 0, 0]'),\n",
       " Text(350.49375000000003, 49.0993548387097, 'X[4] <= 3110.5\\ngini = 0.92\\nsamples = 145\\nvalue = [0, 0, 0 ... 0, 0, 0]'),\n",
       " Text(348.40125000000006, 35.07096774193553, 'gini = 0.824\\nsamples = 68\\nvalue = [0, 0, 0 ... 0, 0, 0]'),\n",
       " Text(352.58625000000006, 35.07096774193553, 'gini = 0.853\\nsamples = 77\\nvalue = [0, 0, 0 ... 0, 0, 0]'),\n",
       " Text(352.58625000000006, 91.18451612903226, 'X[4] <= 3121.5\\ngini = 0.887\\nsamples = 119\\nvalue = [0, 0, 0 ... 0, 0, 0]'),\n",
       " Text(350.49375000000003, 77.1561290322581, 'gini = 0.747\\nsamples = 56\\nvalue = [0, 0, 0 ... 0, 0, 0]'),\n",
       " Text(354.67875000000004, 77.1561290322581, 'gini = 0.798\\nsamples = 63\\nvalue = [0, 0, 0 ... 0, 0, 0]'),\n",
       " Text(362.00250000000005, 105.21290322580649, 'X[4] <= 3129.5\\ngini = 0.979\\nsamples = 631\\nvalue = [0, 0, 0 ... 0, 0, 0]'),\n",
       " Text(359.91, 91.18451612903226, 'gini = 0.638\\nsamples = 51\\nvalue = [0, 0, 0 ... 0, 0, 0]'),\n",
       " Text(364.095, 91.18451612903226, 'X[4] <= 3138.5\\ngini = 0.978\\nsamples = 580\\nvalue = [0, 0, 0 ... 0, 0, 0]'),\n",
       " Text(358.86375000000004, 77.1561290322581, 'X[4] <= 3134.5\\ngini = 0.887\\nsamples = 126\\nvalue = [0, 0, 0 ... 0, 0, 0]'),\n",
       " Text(356.77125000000007, 63.12774193548387, 'gini = 0.795\\nsamples = 65\\nvalue = [0, 0, 0 ... 0, 0, 0]'),\n",
       " Text(360.95625000000007, 63.12774193548387, 'gini = 0.75\\nsamples = 61\\nvalue = [0, 0, 0 ... 0, 0, 0]'),\n",
       " Text(369.32625, 77.1561290322581, 'X[4] <= 3155.5\\ngini = 0.972\\nsamples = 454\\nvalue = [0, 0, 0 ... 0, 0, 0]'),\n",
       " Text(365.14125000000007, 63.12774193548387, 'X[4] <= 3151.5\\ngini = 0.939\\nsamples = 207\\nvalue = [0, 0, 0 ... 0, 0, 0]'),\n",
       " Text(363.04875000000004, 49.0993548387097, 'X[4] <= 3144.5\\ngini = 0.921\\nsamples = 147\\nvalue = [0, 0, 0 ... 0, 0, 0]'),\n",
       " Text(360.95625000000007, 35.07096774193553, 'gini = 0.83\\nsamples = 68\\nvalue = [0, 0, 0 ... 0, 0, 0]'),\n",
       " Text(365.14125000000007, 35.07096774193553, 'gini = 0.851\\nsamples = 79\\nvalue = [0, 0, 0 ... 0, 0, 0]'),\n",
       " Text(367.23375000000004, 49.0993548387097, 'gini = 0.745\\nsamples = 60\\nvalue = [0, 0, 0 ... 0, 0, 0]'),\n",
       " Text(373.51125, 63.12774193548387, 'X[4] <= 3159.5\\ngini = 0.95\\nsamples = 247\\nvalue = [0, 0, 0 ... 0, 0, 0]'),\n",
       " Text(371.41875000000005, 49.0993548387097, 'gini = 0.744\\nsamples = 58\\nvalue = [0, 0, 0 ... 0, 0, 0]'),\n",
       " Text(375.60375000000005, 49.0993548387097, 'X[4] <= 3163.5\\ngini = 0.939\\nsamples = 189\\nvalue = [0, 0, 0 ... 0, 0, 0]'),\n",
       " Text(373.51125, 35.07096774193553, 'gini = 0.739\\nsamples = 50\\nvalue = [0, 0, 0 ... 0, 0, 0]'),\n",
       " Text(377.69625, 35.07096774193553, 'X[4] <= 3171.5\\ngini = 0.921\\nsamples = 139\\nvalue = [0, 0, 0 ... 0, 0, 0]'),\n",
       " Text(375.60375000000005, 21.04258064516131, 'gini = 0.87\\nsamples = 83\\nvalue = [0, 0, 0 ... 0, 0, 0]'),\n",
       " Text(379.78875000000005, 21.04258064516131, 'gini = 0.797\\nsamples = 56\\nvalue = [0, 0, 0 ... 0, 0, 0]'),\n",
       " Text(358.47140625000003, 119.24129032258065, 'gini = 0.743\\nsamples = 51\\nvalue = [0, 0, 0 ... 0, 0, 0]'),\n",
       " Text(360.56390625000006, 133.26967741935488, 'gini = 0.732\\nsamples = 50\\nvalue = [0, 0, 0 ... 0, 0, 0]'),\n",
       " Text(362.65640625000003, 147.29806451612905, 'gini = 0.745\\nsamples = 53\\nvalue = [0, 0, 0 ... 0, 0, 0]'),\n",
       " Text(376.65000000000003, 161.3264516129032, 'X[4] <= 3191.5\\ngini = 0.976\\nsamples = 581\\nvalue = [0, 0, 0 ... 0, 0, 0]'),\n",
       " Text(374.55750000000006, 147.29806451612905, 'gini = 0.659\\nsamples = 56\\nvalue = [0, 0, 0 ... 0, 0, 0]'),\n",
       " Text(378.74250000000006, 147.29806451612905, 'X[4] <= 3210.5\\ngini = 0.974\\nsamples = 525\\nvalue = [0, 0, 0 ... 0, 0, 0]'),\n",
       " Text(374.55750000000006, 133.26967741935488, 'X[4] <= 3206.5\\ngini = 0.945\\nsamples = 246\\nvalue = [0, 0, 0 ... 0, 0, 0]'),\n",
       " Text(372.46500000000003, 119.24129032258065, 'X[4] <= 3202.5\\ngini = 0.93\\nsamples = 188\\nvalue = [0, 0, 0 ... 0, 0, 0]'),\n",
       " Text(370.37250000000006, 105.21290322580649, 'X[4] <= 3197.5\\ngini = 0.904\\nsamples = 131\\nvalue = [0, 0, 0 ... 0, 0, 0]'),\n",
       " Text(368.28000000000003, 91.18451612903226, 'gini = 0.821\\nsamples = 72\\nvalue = [0, 0, 0 ... 0, 0, 0]'),\n",
       " Text(372.46500000000003, 91.18451612903226, 'gini = 0.793\\nsamples = 59\\nvalue = [0, 0, 0 ... 0, 0, 0]'),\n",
       " Text(374.55750000000006, 105.21290322580649, 'gini = 0.745\\nsamples = 57\\nvalue = [0, 0, 0 ... 0, 0, 0]'),\n",
       " Text(376.65000000000003, 119.24129032258065, 'gini = 0.744\\nsamples = 58\\nvalue = [0, 0, 0 ... 0, 0, 0]'),\n",
       " Text(382.92750000000007, 133.26967741935488, 'X[4] <= 3214.5\\ngini = 0.952\\nsamples = 279\\nvalue = [0, 0, 0 ... 0, 0, 0]'),\n",
       " Text(380.83500000000004, 119.24129032258065, 'gini = 0.749\\nsamples = 62\\nvalue = [0, 0, 0 ... 0, 0, 0]'),\n",
       " Text(385.02000000000004, 119.24129032258065, 'X[4] <= 3221.5\\ngini = 0.942\\nsamples = 217\\nvalue = [0, 0, 0 ... 0, 0, 0]'),\n",
       " Text(382.92750000000007, 105.21290322580649, 'gini = 0.85\\nsamples = 88\\nvalue = [0, 0, 0 ... 0, 0, 0]'),\n",
       " Text(387.11250000000007, 105.21290322580649, 'X[4] <= 3226.5\\ngini = 0.905\\nsamples = 129\\nvalue = [0, 0, 0 ... 0, 0, 0]'),\n",
       " Text(385.02000000000004, 91.18451612903226, 'gini = 0.787\\nsamples = 60\\nvalue = [0, 0, 0 ... 0, 0, 0]'),\n",
       " Text(389.20500000000004, 91.18451612903226, 'gini = 0.829\\nsamples = 69\\nvalue = [0, 0, 0 ... 0, 0, 0]'),\n",
       " Text(391.29750000000007, 175.35483870967744, 'X[4] <= 3236.5\\ngini = 0.982\\nsamples = 778\\nvalue = [0, 0, 0 ... 0, 0, 0]'),\n",
       " Text(389.20500000000004, 161.3264516129032, 'gini = 0.662\\nsamples = 51\\nvalue = [0, 0, 0 ... 0, 0, 0]'),\n",
       " Text(393.39000000000004, 161.3264516129032, 'X[4] <= 3240.5\\ngini = 0.981\\nsamples = 727\\nvalue = [0, 0, 0 ... 0, 0, 0]'),\n",
       " Text(391.29750000000007, 147.29806451612905, 'gini = 0.728\\nsamples = 60\\nvalue = [0, 0, 0 ... 0, 0, 0]'),\n",
       " Text(395.4825000000001, 147.29806451612905, 'X[4] <= 3245.5\\ngini = 0.98\\nsamples = 667\\nvalue = [0, 0, 0 ... 0, 0, 0]'),\n",
       " Text(393.39000000000004, 133.26967741935488, 'gini = 0.77\\nsamples = 69\\nvalue = [0, 0, 0 ... 0, 0, 0]'),\n",
       " Text(397.57500000000005, 133.26967741935488, 'X[4] <= 3257.5\\ngini = 0.978\\nsamples = 598\\nvalue = [0, 0, 0 ... 0, 0, 0]'),\n",
       " Text(393.39000000000004, 119.24129032258065, 'X[4] <= 3253.5\\ngini = 0.907\\nsamples = 152\\nvalue = [0, 0, 0 ... 0, 0, 0]'),\n",
       " Text(391.29750000000007, 105.21290322580649, 'gini = 0.865\\nsamples = 95\\nvalue = [0, 0, 0 ... 0, 0, 0]'),\n",
       " Text(395.4825000000001, 105.21290322580649, 'gini = 0.712\\nsamples = 57\\nvalue = [0, 0, 0 ... 0, 0, 0]'),\n",
       " Text(401.76000000000005, 119.24129032258065, 'X[4] <= 3261.5\\ngini = 0.971\\nsamples = 446\\nvalue = [0, 0, 0 ... 0, 0, 0]'),\n",
       " Text(399.6675000000001, 105.21290322580649, 'gini = 0.745\\nsamples = 57\\nvalue = [0, 0, 0 ... 0, 0, 0]'),\n",
       " Text(403.8525, 105.21290322580649, 'X[4] <= 3270.5\\ngini = 0.967\\nsamples = 389\\nvalue = [0, 0, 0 ... 0, 0, 0]'),\n",
       " Text(399.6675000000001, 91.18451612903226, 'X[4] <= 3266.5\\ngini = 0.867\\nsamples = 106\\nvalue = [0, 0, 0 ... 0, 0, 0]'),\n",
       " Text(397.57500000000005, 77.1561290322581, 'gini = 0.758\\nsamples = 51\\nvalue = [0, 0, 0 ... 0, 0, 0]'),\n",
       " Text(401.76000000000005, 77.1561290322581, 'gini = 0.715\\nsamples = 55\\nvalue = [0, 0, 0 ... 0, 0, 0]'),\n",
       " Text(408.0375, 91.18451612903226, 'X[4] <= 3275.5\\ngini = 0.956\\nsamples = 283\\nvalue = [0, 0, 0 ... 0, 0, 0]'),\n",
       " Text(405.94500000000005, 77.1561290322581, 'gini = 0.794\\nsamples = 68\\nvalue = [0, 0, 0 ... 0, 0, 0]'),\n",
       " Text(410.13000000000005, 77.1561290322581, 'X[4] <= 3280.5\\ngini = 0.945\\nsamples = 215\\nvalue = [0, 0, 0 ... 0, 0, 0]'),\n",
       " Text(408.0375, 63.12774193548387, 'gini = 0.792\\nsamples = 64\\nvalue = [0, 0, 0 ... 0, 0, 0]'),\n",
       " Text(412.2225, 63.12774193548387, 'X[4] <= 3285.5\\ngini = 0.925\\nsamples = 151\\nvalue = [0, 0, 0 ... 0, 0, 0]'),\n",
       " Text(410.13000000000005, 49.0993548387097, 'gini = 0.792\\nsamples = 55\\nvalue = [0, 0, 0 ... 0, 0, 0]'),\n",
       " Text(414.31500000000005, 49.0993548387097, 'gini = 0.883\\nsamples = 96\\nvalue = [0, 0, 0 ... 0, 0, 0]'),\n",
       " Text(397.57500000000005, 189.38322580645163, 'X[4] <= 3298.5\\ngini = 0.944\\nsamples = 250\\nvalue = [0, 0, 0 ... 0, 0, 0]'),\n",
       " Text(395.4825000000001, 175.35483870967744, 'gini = 0.733\\nsamples = 59\\nvalue = [0, 0, 0 ... 0, 0, 0]'),\n",
       " Text(399.6675000000001, 175.35483870967744, 'X[4] <= 3302.5\\ngini = 0.93\\nsamples = 191\\nvalue = [0, 0, 0 ... 0, 0, 0]'),\n",
       " Text(397.57500000000005, 161.3264516129032, 'gini = 0.72\\nsamples = 56\\nvalue = [0, 0, 0 ... 0, 0, 0]'),\n",
       " Text(401.76000000000005, 161.3264516129032, 'X[4] <= 3306.5\\ngini = 0.907\\nsamples = 135\\nvalue = [0, 0, 0 ... 0, 0, 0]'),\n",
       " Text(399.6675000000001, 147.29806451612905, 'gini = 0.748\\nsamples = 50\\nvalue = [0, 0, 0 ... 0, 0, 0]'),\n",
       " Text(403.8525, 147.29806451612905, 'gini = 0.853\\nsamples = 85\\nvalue = [0, 0, 0 ... 0, 0, 0]'),\n",
       " Text(403.8525, 203.41161290322583, 'X[4] <= 3316.5\\ngini = 0.933\\nsamples = 217\\nvalue = [0, 0, 0 ... 0, 0, 0]'),\n",
       " Text(401.76000000000005, 189.38322580645163, 'gini = 0.66\\nsamples = 53\\nvalue = [0, 0, 0 ... 0, 0, 0]'),\n",
       " Text(405.94500000000005, 189.38322580645163, 'X[4] <= 3320.5\\ngini = 0.919\\nsamples = 164\\nvalue = [0, 0, 0 ... 0, 0, 0]'),\n",
       " Text(403.8525, 175.35483870967744, 'gini = 0.74\\nsamples = 54\\nvalue = [0, 0, 0 ... 0, 0, 0]'),\n",
       " Text(408.0375, 175.35483870967744, 'X[4] <= 3324.5\\ngini = 0.882\\nsamples = 110\\nvalue = [0, 0, 0 ... 0, 0, 0]'),\n",
       " Text(405.94500000000005, 161.3264516129032, 'gini = 0.723\\nsamples = 50\\nvalue = [0, 0, 0 ... 0, 0, 0]'),\n",
       " Text(410.13000000000005, 161.3264516129032, 'gini = 0.797\\nsamples = 60\\nvalue = [0, 0, 0 ... 0, 0, 0]'),\n",
       " Text(410.13000000000005, 217.44, 'X[2] <= 21.5\\ngini = 0.848\\nsamples = 100\\nvalue = [0, 0, 0 ... 0, 0, 0]'),\n",
       " Text(408.0375, 203.41161290322583, 'gini = 0.817\\nsamples = 50\\nvalue = [0, 0, 0 ... 0, 0, 0]'),\n",
       " Text(412.2225, 203.41161290322583, 'gini = 0.854\\nsamples = 50\\nvalue = [0, 0, 0 ... 0, 0, 0]'),\n",
       " Text(422.68500000000006, 231.4683870967742, 'X[4] <= 3339.5\\ngini = 0.966\\nsamples = 442\\nvalue = [0, 0, 0 ... 0, 0, 0]'),\n",
       " Text(420.59250000000003, 217.44, 'gini = 0.66\\nsamples = 63\\nvalue = [0, 0, 0 ... 0, 0, 0]'),\n",
       " Text(424.77750000000003, 217.44, 'X[4] <= 3358.5\\ngini = 0.963\\nsamples = 379\\nvalue = [0, 0, 0 ... 0, 0, 0]'),\n",
       " Text(420.59250000000003, 203.41161290322583, 'X[4] <= 3354.5\\ngini = 0.945\\nsamples = 248\\nvalue = [0, 0, 0 ... 0, 0, 0]'),\n",
       " Text(418.50000000000006, 189.38322580645163, 'X[4] <= 3350.5\\ngini = 0.929\\nsamples = 190\\nvalue = [0, 0, 0 ... 0, 0, 0]'),\n",
       " Text(416.4075, 175.35483870967744, 'X[4] <= 3346.5\\ngini = 0.904\\nsamples = 134\\nvalue = [0, 0, 0 ... 0, 0, 0]'),\n",
       " Text(414.31500000000005, 161.3264516129032, 'gini = 0.851\\nsamples = 78\\nvalue = [0, 0, 0 ... 0, 0, 0]'),\n",
       " Text(418.50000000000006, 161.3264516129032, 'gini = 0.739\\nsamples = 56\\nvalue = [0, 0, 0 ... 0, 0, 0]'),\n",
       " Text(420.59250000000003, 175.35483870967744, 'gini = 0.735\\nsamples = 56\\nvalue = [0, 0, 0 ... 0, 0, 0]'),\n",
       " Text(422.68500000000006, 189.38322580645163, 'gini = 0.747\\nsamples = 58\\nvalue = [0, 0, 0 ... 0, 0, 0]'),\n",
       " Text(428.96250000000003, 203.41161290322583, 'X[4] <= 3361.5\\ngini = 0.89\\nsamples = 131\\nvalue = [0, 0, 0 ... 0, 0, 0]'),\n",
       " Text(426.87000000000006, 189.38322580645163, 'gini = 0.653\\nsamples = 55\\nvalue = [0, 0, 0 ... 0, 0, 0]'),\n",
       " Text(431.05500000000006, 189.38322580645163, 'gini = 0.854\\nsamples = 76\\nvalue = [0, 0, 0 ... 0, 0, 0]'),\n",
       " Text(428.96250000000003, 245.4967741935484, 'X[5] <= 16.05\\ngini = 0.79\\nsamples = 100\\nvalue = [0, 0, 0 ... 0, 0, 0]'),\n",
       " Text(426.87000000000006, 231.4683870967742, 'gini = 0.786\\nsamples = 50\\nvalue = [0, 0, 0 ... 0, 0, 0]'),\n",
       " Text(431.05500000000006, 231.4683870967742, 'gini = 0.757\\nsamples = 50\\nvalue = [0, 0, 0 ... 0, 0, 0]'),\n",
       " Text(471.1004997253419, 259.52516129032256, 'X[4] <= 3456.5\\ngini = 1.0\\nsamples = 38192\\nvalue = [0, 0, 0 ... 1, 1, 1]'),\n",
       " Text(451.19531250000006, 245.4967741935484, 'X[4] <= 3452.5\\ngini = 0.987\\nsamples = 1134\\nvalue = [0, 0, 0 ... 0, 0, 0]'),\n",
       " Text(449.1028125, 231.4683870967742, 'X[4] <= 3448.5\\ngini = 0.986\\nsamples = 1068\\nvalue = [0, 0, 0 ... 0, 0, 0]'),\n",
       " Text(447.01031250000005, 217.44, 'X[4] <= 3434.5\\ngini = 0.986\\nsamples = 1006\\nvalue = [0, 0, 0 ... 0, 0, 0]'),\n",
       " Text(440.99437500000005, 203.41161290322583, 'X[4] <= 3417.5\\ngini = 0.982\\nsamples = 816\\nvalue = [0, 0, 0 ... 0, 0, 0]'),\n",
       " Text(435.24000000000007, 189.38322580645163, 'X[4] <= 3405.5\\ngini = 0.976\\nsamples = 579\\nvalue = [0, 0, 0 ... 0, 0, 0]'),\n",
       " Text(430.0087500000001, 175.35483870967744, 'X[4] <= 3391.5\\ngini = 0.967\\nsamples = 406\\nvalue = [0, 0, 0 ... 0, 0, 0]'),\n",
       " Text(425.8237500000001, 161.3264516129032, 'X[4] <= 3385.5\\ngini = 0.94\\nsamples = 222\\nvalue = [0, 0, 0 ... 0, 0, 0]'),\n",
       " Text(423.73125000000005, 147.29806451612905, 'X[4] <= 3380.5\\ngini = 0.911\\nsamples = 129\\nvalue = [0, 0, 0 ... 0, 0, 0]'),\n",
       " Text(421.6387500000001, 133.26967741935488, 'gini = 0.85\\nsamples = 73\\nvalue = [0, 0, 0 ... 0, 0, 0]'),\n",
       " Text(425.8237500000001, 133.26967741935488, 'gini = 0.784\\nsamples = 56\\nvalue = [0, 0, 0 ... 0, 0, 0]'),\n",
       " Text(427.91625000000005, 147.29806451612905, 'gini = 0.829\\nsamples = 93\\nvalue = [0, 0, 0 ... 0, 0, 0]'),\n",
       " Text(434.1937500000001, 161.3264516129032, 'X[4] <= 3396.5\\ngini = 0.925\\nsamples = 184\\nvalue = [0, 0, 0 ... 0, 0, 0]'),\n",
       " Text(432.10125000000005, 147.29806451612905, 'gini = 0.798\\nsamples = 74\\nvalue = [0, 0, 0 ... 0, 0, 0]'),\n",
       " Text(436.28625000000005, 147.29806451612905, 'X[4] <= 3401.5\\ngini = 0.882\\nsamples = 110\\nvalue = [0, 0, 0 ... 0, 0, 0]'),\n",
       " Text(434.1937500000001, 133.26967741935488, 'gini = 0.792\\nsamples = 60\\nvalue = [0, 0, 0 ... 0, 0, 0]'),\n",
       " Text(438.37875, 133.26967741935488, 'gini = 0.73\\nsamples = 50\\nvalue = [0, 0, 0 ... 0, 0, 0]'),\n",
       " Text(440.47125000000005, 175.35483870967744, 'X[4] <= 3408.5\\ngini = 0.913\\nsamples = 173\\nvalue = [0, 0, 0 ... 0, 0, 0]'),\n",
       " Text(438.37875, 161.3264516129032, 'gini = 0.654\\nsamples = 53\\nvalue = [0, 0, 0 ... 0, 0, 0]'),\n",
       " Text(442.56375, 161.3264516129032, 'X[4] <= 3413.5\\ngini = 0.886\\nsamples = 120\\nvalue = [0, 0, 0 ... 0, 0, 0]'),\n",
       " Text(440.47125000000005, 147.29806451612905, 'gini = 0.793\\nsamples = 64\\nvalue = [0, 0, 0 ... 0, 0, 0]'),\n",
       " Text(444.65625000000006, 147.29806451612905, 'gini = 0.746\\nsamples = 56\\nvalue = [0, 0, 0 ... 0, 0, 0]'),\n",
       " Text(446.74875000000003, 189.38322580645163, 'X[4] <= 3420.5\\ngini = 0.936\\nsamples = 237\\nvalue = [0, 0, 0 ... 0, 0, 0]'),\n",
       " Text(444.65625000000006, 175.35483870967744, 'gini = 0.662\\nsamples = 54\\nvalue = [0, 0, 0 ... 0, 0, 0]'),\n",
       " Text(448.84125000000006, 175.35483870967744, 'X[4] <= 3424.5\\ngini = 0.923\\nsamples = 183\\nvalue = [0, 0, 0 ... 0, 0, 0]'),\n",
       " Text(446.74875000000003, 161.3264516129032, 'gini = 0.728\\nsamples = 60\\nvalue = [0, 0, 0 ... 0, 0, 0]'),\n",
       " Text(450.93375000000003, 161.3264516129032, 'X[4] <= 3429.5\\ngini = 0.894\\nsamples = 123\\nvalue = [0, 0, 0 ... 0, 0, 0]'),\n",
       " Text(448.84125000000006, 147.29806451612905, 'gini = 0.785\\nsamples = 61\\nvalue = [0, 0, 0 ... 0, 0, 0]'),\n",
       " Text(453.02625000000006, 147.29806451612905, 'gini = 0.791\\nsamples = 62\\nvalue = [0, 0, 0 ... 0, 0, 0]'),\n",
       " Text(453.02625000000006, 203.41161290322583, 'X[4] <= 3439.5\\ngini = 0.921\\nsamples = 190\\nvalue = [0, 0, 0 ... 0, 0, 0]'),\n",
       " Text(450.93375000000003, 189.38322580645163, 'gini = 0.778\\nsamples = 74\\nvalue = [0, 0, 0 ... 0, 0, 0]'),\n",
       " Text(455.11875000000003, 189.38322580645163, 'X[4] <= 3443.5\\ngini = 0.877\\nsamples = 116\\nvalue = [0, 0, 0 ... 0, 0, 0]'),\n",
       " Text(453.02625000000006, 175.35483870967744, 'gini = 0.72\\nsamples = 53\\nvalue = [0, 0, 0 ... 0, 0, 0]'),\n",
       " Text(457.21125000000006, 175.35483870967744, 'gini = 0.783\\nsamples = 63\\nvalue = [0, 0, 0 ... 0, 0, 0]'),\n",
       " Text(451.19531250000006, 217.44, 'gini = 0.735\\nsamples = 62\\nvalue = [0, 0, 0 ... 0, 0, 0]'),\n",
       " Text(453.28781250000003, 231.4683870967742, 'gini = 0.742\\nsamples = 66\\nvalue = [0, 0, 0 ... 0, 0, 0]'),\n",
       " Text(491.00568695068364, 245.4967741935484, 'X[4] <= 3492.5\\ngini = 1.0\\nsamples = 37058\\nvalue = [0, 0, 0 ... 1, 1, 1]'),\n",
       " Text(471.85875000000004, 231.4683870967742, 'X[4] <= 3488.5\\ngini = 0.971\\nsamples = 481\\nvalue = [0, 0, 0 ... 0, 0, 0]'),\n",
       " Text(469.76625000000007, 217.44, 'X[4] <= 3474.5\\ngini = 0.967\\nsamples = 415\\nvalue = [0, 0, 0 ... 0, 0, 0]'),\n",
       " Text(465.58125000000007, 203.41161290322583, 'X[4] <= 3470.5\\ngini = 0.941\\nsamples = 232\\nvalue = [0, 0, 0 ... 0, 0, 0]'),\n",
       " Text(463.48875000000004, 189.38322580645163, 'X[4] <= 3466.5\\ngini = 0.926\\nsamples = 176\\nvalue = [0, 0, 0 ... 0, 0, 0]'),\n",
       " Text(461.39625000000007, 175.35483870967744, 'X[4] <= 3461.5\\ngini = 0.896\\nsamples = 124\\nvalue = [0, 0, 0 ... 0, 0, 0]'),\n",
       " Text(459.30375000000004, 161.3264516129032, 'gini = 0.789\\nsamples = 62\\nvalue = [0, 0, 0 ... 0, 0, 0]'),\n",
       " Text(463.48875000000004, 161.3264516129032, 'gini = 0.794\\nsamples = 62\\nvalue = [0, 0, 0 ... 0, 0, 0]'),\n",
       " Text(465.58125000000007, 175.35483870967744, 'gini = 0.74\\nsamples = 52\\nvalue = [0, 0, 0 ... 0, 0, 0]'),\n",
       " Text(467.67375000000004, 189.38322580645163, 'gini = 0.726\\nsamples = 56\\nvalue = [0, 0, 0 ... 0, 0, 0]'),\n",
       " Text(473.9512500000001, 203.41161290322583, 'X[4] <= 3478.5\\ngini = 0.926\\nsamples = 183\\nvalue = [0, 0, 0 ... 0, 0, 0]'),\n",
       " Text(471.85875000000004, 189.38322580645163, 'gini = 0.743\\nsamples = 56\\nvalue = [0, 0, 0 ... 0, 0, 0]'),\n",
       " Text(476.04375000000005, 189.38322580645163, 'X[4] <= 3482.5\\ngini = 0.896\\nsamples = 127\\nvalue = [0, 0, 0 ... 0, 0, 0]'),\n",
       " Text(473.9512500000001, 175.35483870967744, 'gini = 0.742\\nsamples = 53\\nvalue = [0, 0, 0 ... 0, 0, 0]'),\n",
       " Text(478.1362500000001, 175.35483870967744, 'gini = 0.826\\nsamples = 74\\nvalue = [0, 0, 0 ... 0, 0, 0]'),\n",
       " Text(473.9512500000001, 217.44, 'gini = 0.742\\nsamples = 66\\nvalue = [0, 0, 0 ... 0, 0, 0]'),\n",
       " Text(510.15262390136724, 231.4683870967742, 'X[4] <= 3581.5\\ngini = 1.0\\nsamples = 36577\\nvalue = [0, 0, 0 ... 1, 1, 1]'),\n",
       " Text(488.59875000000005, 217.44, 'X[4] <= 3577.5\\ngini = 0.988\\nsamples = 1119\\nvalue = [0, 0, 0 ... 0, 0, 0]'),\n",
       " Text(486.5062500000001, 203.41161290322583, 'X[4] <= 3573.5\\ngini = 0.987\\nsamples = 1059\\nvalue = [0, 0, 0 ... 0, 0, 0]'),\n",
       " Text(484.41375000000005, 189.38322580645163, 'X[4] <= 3569.5\\ngini = 0.987\\nsamples = 1006\\nvalue = [0, 0, 0 ... 0, 0, 0]'),\n",
       " Text(482.3212500000001, 175.35483870967744, 'X[4] <= 3554.5\\ngini = 0.986\\nsamples = 953\\nvalue = [0, 0, 0 ... 0, 0, 0]'),\n",
       " Text(476.56687500000004, 161.3264516129032, 'X[4] <= 3540.5\\ngini = 0.983\\nsamples = 765\\nvalue = [0, 0, 0 ... 0, 0, 0]'),\n",
       " Text(471.33562500000005, 147.29806451612905, 'X[4] <= 3530.5\\ngini = 0.978\\nsamples = 581\\nvalue = [0, 0, 0 ... 0, 0, 0]'),\n",
       " Text(467.15062500000005, 133.26967741935488, 'X[4] <= 3496.5\\ngini = 0.973\\nsamples = 456\\nvalue = [0, 0, 0 ... 0, 0, 0]'),\n",
       " Text(465.0581250000001, 119.24129032258065, 'gini = 0.739\\nsamples = 50\\nvalue = [0, 0, 0 ... 0, 0, 0]'),\n",
       " Text(469.2431250000001, 119.24129032258065, 'X[4] <= 3525.5\\ngini = 0.969\\nsamples = 406\\nvalue = [0, 0, 0 ... 0, 0, 0]'),\n",
       " Text(467.15062500000005, 105.21290322580649, 'X[4] <= 3516.5\\ngini = 0.964\\nsamples = 342\\nvalue = [0, 0, 0 ... 0, 0, 0]'),\n",
       " Text(462.96562500000005, 91.18451612903226, 'X[4] <= 3510.5\\ngini = 0.947\\nsamples = 230\\nvalue = [0, 0, 0 ... 0, 0, 0]'),\n",
       " Text(460.8731250000001, 77.1561290322581, 'X[4] <= 3503.5\\ngini = 0.924\\nsamples = 157\\nvalue = [0, 0, 0 ... 0, 0, 0]'),\n",
       " Text(458.78062500000004, 63.12774193548387, 'gini = 0.843\\nsamples = 77\\nvalue = [0, 0, 0 ... 0, 0, 0]'),\n",
       " Text(462.96562500000005, 63.12774193548387, 'gini = 0.853\\nsamples = 80\\nvalue = [0, 0, 0 ... 0, 0, 0]'),\n",
       " Text(465.0581250000001, 77.1561290322581, 'gini = 0.829\\nsamples = 73\\nvalue = [0, 0, 0 ... 0, 0, 0]'),\n",
       " Text(471.33562500000005, 91.18451612903226, 'X[4] <= 3520.5\\ngini = 0.884\\nsamples = 112\\nvalue = [0, 0, 0 ... 0, 0, 0]'),\n",
       " Text(469.2431250000001, 77.1561290322581, 'gini = 0.744\\nsamples = 55\\nvalue = [0, 0, 0 ... 0, 0, 0]'),\n",
       " Text(473.4281250000001, 77.1561290322581, 'gini = 0.792\\nsamples = 57\\nvalue = [0, 0, 0 ... 0, 0, 0]'),\n",
       " Text(471.33562500000005, 105.21290322580649, 'gini = 0.796\\nsamples = 64\\nvalue = [0, 0, 0 ... 0, 0, 0]'),\n",
       " Text(475.52062500000005, 133.26967741935488, 'X[4] <= 3534.5\\ngini = 0.882\\nsamples = 125\\nvalue = [0, 0, 0 ... 0, 0, 0]'),\n",
       " Text(473.4281250000001, 119.24129032258065, 'gini = 0.719\\nsamples = 60\\nvalue = [0, 0, 0 ... 0, 0, 0]'),\n",
       " Text(477.6131250000001, 119.24129032258065, 'gini = 0.802\\nsamples = 65\\nvalue = [0, 0, 0 ... 0, 0, 0]'),\n",
       " Text(481.7981250000001, 147.29806451612905, 'X[4] <= 3544.5\\ngini = 0.925\\nsamples = 184\\nvalue = [0, 0, 0 ... 0, 0, 0]'),\n",
       " Text(479.70562500000005, 133.26967741935488, 'gini = 0.748\\nsamples = 62\\nvalue = [0, 0, 0 ... 0, 0, 0]'),\n",
       " Text(483.89062500000006, 133.26967741935488, 'X[4] <= 3549.5\\ngini = 0.895\\nsamples = 122\\nvalue = [0, 0, 0 ... 0, 0, 0]'),\n",
       " Text(481.7981250000001, 119.24129032258065, 'gini = 0.794\\nsamples = 60\\nvalue = [0, 0, 0 ... 0, 0, 0]'),\n",
       " Text(485.98312500000003, 119.24129032258065, 'gini = 0.787\\nsamples = 62\\nvalue = [0, 0, 0 ... 0, 0, 0]'),\n",
       " Text(488.07562500000006, 161.3264516129032, 'X[4] <= 3558.5\\ngini = 0.929\\nsamples = 188\\nvalue = [0, 0, 0 ... 0, 0, 0]'),\n",
       " Text(485.98312500000003, 147.29806451612905, 'gini = 0.723\\nsamples = 51\\nvalue = [0, 0, 0 ... 0, 0, 0]'),\n",
       " Text(490.16812500000003, 147.29806451612905, 'X[4] <= 3562.5\\ngini = 0.904\\nsamples = 137\\nvalue = [0, 0, 0 ... 0, 0, 0]'),\n",
       " Text(488.07562500000006, 133.26967741935488, 'gini = 0.741\\nsamples = 54\\nvalue = [0, 0, 0 ... 0, 0, 0]'),\n",
       " Text(492.26062500000006, 133.26967741935488, 'gini = 0.848\\nsamples = 83\\nvalue = [0, 0, 0 ... 0, 0, 0]'),\n",
       " Text(486.5062500000001, 175.35483870967744, 'gini = 0.728\\nsamples = 53\\nvalue = [0, 0, 0 ... 0, 0, 0]'),\n",
       " Text(488.59875000000005, 189.38322580645163, 'gini = 0.709\\nsamples = 53\\nvalue = [0, 0, 0 ... 0, 0, 0]'),\n",
       " Text(490.6912500000001, 203.41161290322583, 'gini = 0.705\\nsamples = 60\\nvalue = [0, 0, 0 ... 0, 0, 0]'),\n",
       " Text(531.7064978027345, 217.44, 'X[4] <= 3657.5\\ngini = 1.0\\nsamples = 35458\\nvalue = [0, 0, 0 ... 1, 1, 1]'),\n",
       " Text(517.8937500000001, 203.41161290322583, 'X[4] <= 3644.5\\ngini = 0.986\\nsamples = 915\\nvalue = [0, 0, 0 ... 0, 0, 0]'),\n",
       " Text(513.70875, 189.38322580645163, 'X[4] <= 3637.5\\ngini = 0.983\\nsamples = 746\\nvalue = [0, 0, 0 ... 0, 0, 0]'),\n",
       " Text(511.61625000000004, 175.35483870967744, 'X[4] <= 3625.5\\ngini = 0.981\\nsamples = 654\\nvalue = [0, 0, 0 ... 0, 0, 0]'),\n",
       " Text(505.86187500000005, 161.3264516129032, 'X[4] <= 3606.5\\ngini = 0.975\\nsamples = 499\\nvalue = [0, 0, 0 ... 0, 0, 0]'),\n",
       " Text(500.63062500000007, 147.29806451612905, 'X[4] <= 3595.5\\ngini = 0.955\\nsamples = 271\\nvalue = [0, 0, 0 ... 0, 0, 0]'),\n",
       " Text(496.44562500000006, 133.26967741935488, 'X[4] <= 3590.5\\ngini = 0.92\\nsamples = 147\\nvalue = [0, 0, 0 ... 0, 0, 0]'),\n",
       " Text(494.35312500000003, 119.24129032258065, 'gini = 0.878\\nsamples = 92\\nvalue = [0, 0, 0 ... 0, 0, 0]'),\n",
       " Text(498.53812500000004, 119.24129032258065, 'gini = 0.768\\nsamples = 55\\nvalue = [0, 0, 0 ... 0, 0, 0]'),\n",
       " Text(504.81562500000007, 133.26967741935488, 'X[4] <= 3599.5\\ngini = 0.897\\nsamples = 124\\nvalue = [0, 0, 0 ... 0, 0, 0]'),\n",
       " Text(502.72312500000004, 119.24129032258065, 'gini = 0.744\\nsamples = 56\\nvalue = [0, 0, 0 ... 0, 0, 0]'),\n",
       " Text(506.90812500000004, 119.24129032258065, 'gini = 0.83\\nsamples = 68\\nvalue = [0, 0, 0 ... 0, 0, 0]'),\n",
       " Text(511.09312500000004, 147.29806451612905, 'X[4] <= 3610.5\\ngini = 0.944\\nsamples = 228\\nvalue = [0, 0, 0 ... 0, 0, 0]'),\n",
       " Text(509.00062500000007, 133.26967741935488, 'gini = 0.718\\nsamples = 50\\nvalue = [0, 0, 0 ... 0, 0, 0]'),\n",
       " Text(513.1856250000001, 133.26967741935488, 'X[4] <= 3615.5\\ngini = 0.93\\nsamples = 178\\nvalue = [0, 0, 0 ... 0, 0, 0]'),\n",
       " Text(511.09312500000004, 119.24129032258065, 'gini = 0.786\\nsamples = 63\\nvalue = [0, 0, 0 ... 0, 0, 0]'),\n",
       " Text(515.278125, 119.24129032258065, 'X[4] <= 3620.5\\ngini = 0.897\\nsamples = 115\\nvalue = [0, 0, 0 ... 0, 0, 0]'),\n",
       " Text(513.1856250000001, 105.21290322580649, 'gini = 0.797\\nsamples = 57\\nvalue = [0, 0, 0 ... 0, 0, 0]'),\n",
       " Text(517.370625, 105.21290322580649, 'gini = 0.791\\nsamples = 58\\nvalue = [0, 0, 0 ... 0, 0, 0]'),\n",
       " Text(517.370625, 161.3264516129032, 'X[4] <= 3629.5\\ngini = 0.914\\nsamples = 155\\nvalue = [0, 0, 0 ... 0, 0, 0]'),\n",
       " Text(515.278125, 147.29806451612905, 'gini = 0.746\\nsamples = 58\\nvalue = [0, 0, 0 ... 0, 0, 0]'),\n",
       " Text(519.4631250000001, 147.29806451612905, 'gini = 0.87\\nsamples = 97\\nvalue = [0, 0, 0 ... 0, 0, 0]'),\n",
       " Text(515.8012500000001, 175.35483870967744, 'gini = 0.843\\nsamples = 92\\nvalue = [0, 0, 0 ... 0, 0, 0]'),\n",
       " Text(522.07875, 189.38322580645163, 'X[4] <= 3648.5\\ngini = 0.916\\nsamples = 169\\nvalue = [0, 0, 0 ... 0, 0, 0]'),\n",
       " Text(519.98625, 175.35483870967744, 'gini = 0.694\\nsamples = 51\\nvalue = [0, 0, 0 ... 0, 0, 0]'),\n",
       " Text(524.1712500000001, 175.35483870967744, 'X[4] <= 3653.5\\ngini = 0.884\\nsamples = 118\\nvalue = [0, 0, 0 ... 0, 0, 0]'),\n",
       " Text(522.07875, 161.3264516129032, 'gini = 0.793\\nsamples = 66\\nvalue = [0, 0, 0 ... 0, 0, 0]'),\n",
       " Text(526.2637500000001, 161.3264516129032, 'gini = 0.736\\nsamples = 52\\nvalue = [0, 0, 0 ... 0, 0, 0]'),\n",
       " Text(545.5192456054688, 203.41161290322583, 'X[4] <= 3713.5\\ngini = 1.0\\nsamples = 34543\\nvalue = [0, 0, 0 ... 1, 1, 1]'),\n",
       " Text(534.6337500000001, 189.38322580645163, 'X[4] <= 3707.5\\ngini = 0.98\\nsamples = 629\\nvalue = [0, 0, 0 ... 0, 0, 0]'),\n",
       " Text(532.5412500000001, 175.35483870967744, 'X[4] <= 3700.5\\ngini = 0.977\\nsamples = 547\\nvalue = [0, 0, 0 ... 0, 0, 0]'),\n",
       " Text(530.44875, 161.3264516129032, 'X[4] <= 3692.5\\ngini = 0.974\\nsamples = 462\\nvalue = [0, 0, 0 ... 0, 0, 0]'),\n",
       " Text(528.35625, 147.29806451612905, 'X[4] <= 3684.5\\ngini = 0.968\\nsamples = 367\\nvalue = [0, 0, 0 ... 0, 0, 0]'),\n",
       " Text(526.2637500000001, 133.26967741935488, 'X[4] <= 3679.5\\ngini = 0.958\\nsamples = 277\\nvalue = [0, 0, 0 ... 0, 0, 0]'),\n",
       " Text(524.1712500000001, 119.24129032258065, 'X[4] <= 3674.5\\ngini = 0.948\\nsamples = 217\\nvalue = [0, 0, 0 ... 0, 0, 0]'),\n",
       " Text(522.07875, 105.21290322580649, 'X[4] <= 3663.5\\ngini = 0.935\\nsamples = 162\\nvalue = [0, 0, 0 ... 0, 0, 0]'),\n",
       " Text(519.98625, 91.18451612903226, 'gini = 0.824\\nsamples = 63\\nvalue = [0, 0, 0 ... 0, 0, 0]'),\n",
       " Text(524.1712500000001, 91.18451612903226, 'gini = 0.896\\nsamples = 99\\nvalue = [0, 0, 0 ... 0, 0, 0]'),\n",
       " Text(526.2637500000001, 105.21290322580649, 'gini = 0.752\\nsamples = 55\\nvalue = [0, 0, 0 ... 0, 0, 0]'),\n",
       " Text(528.35625, 119.24129032258065, 'gini = 0.791\\nsamples = 60\\nvalue = [0, 0, 0 ... 0, 0, 0]'),\n",
       " Text(530.44875, 133.26967741935488, 'gini = 0.859\\nsamples = 90\\nvalue = [0, 0, 0 ... 0, 0, 0]'),\n",
       " Text(532.5412500000001, 147.29806451612905, 'gini = 0.862\\nsamples = 95\\nvalue = [0, 0, 0 ... 0, 0, 0]'),\n",
       " Text(534.6337500000001, 161.3264516129032, 'gini = 0.842\\nsamples = 85\\nvalue = [0, 0, 0 ... 0, 0, 0]'),\n",
       " Text(536.72625, 175.35483870967744, 'gini = 0.825\\nsamples = 82\\nvalue = [0, 0, 0 ... 0, 0, 0]'),\n",
       " Text(556.4047412109376, 189.38322580645163, 'X[4] <= 3798.5\\ngini = 1.0\\nsamples = 33914\\nvalue = [0, 0, 0 ... 1, 1, 1]'),\n",
       " Text(546.1425, 175.35483870967744, 'X[4] <= 3794.5\\ngini = 0.987\\nsamples = 978\\nvalue = [0, 0, 0 ... 0, 0, 0]'),\n",
       " Text(544.0500000000001, 161.3264516129032, 'X[4] <= 3780.5\\ngini = 0.987\\nsamples = 920\\nvalue = [0, 0, 0 ... 0, 0, 0]'),\n",
       " Text(539.865, 147.29806451612905, 'X[4] <= 3774.5\\ngini = 0.984\\nsamples = 727\\nvalue = [0, 0, 0 ... 0, 0, 0]'),\n",
       " Text(537.7725, 133.26967741935488, 'X[4] <= 3738.5\\ngini = 0.983\\nsamples = 657\\nvalue = [0, 0, 0 ... 0, 0, 0]'),\n",
       " Text(532.5412500000001, 119.24129032258065, 'X[4] <= 3734.5\\ngini = 0.958\\nsamples = 278\\nvalue = [0, 0, 0 ... 0, 0, 0]'),\n",
       " Text(530.44875, 105.21290322580649, 'X[4] <= 3721.5\\ngini = 0.949\\nsamples = 222\\nvalue = [0, 0, 0 ... 0, 0, 0]'),\n",
       " Text(528.35625, 91.18451612903226, 'gini = 0.872\\nsamples = 88\\nvalue = [0, 0, 0 ... 0, 0, 0]'),\n",
       " Text(532.5412500000001, 91.18451612903226, 'X[4] <= 3726.5\\ngini = 0.917\\nsamples = 134\\nvalue = [0, 0, 0 ... 0, 0, 0]'),\n",
       " Text(530.44875, 77.1561290322581, 'gini = 0.776\\nsamples = 54\\nvalue = [0, 0, 0 ... 0, 0, 0]'),\n",
       " Text(534.6337500000001, 77.1561290322581, 'gini = 0.868\\nsamples = 80\\nvalue = [0, 0, 0 ... 0, 0, 0]'),\n",
       " Text(534.6337500000001, 105.21290322580649, 'gini = 0.749\\nsamples = 56\\nvalue = [0, 0, 0 ... 0, 0, 0]'),\n",
       " Text(543.0037500000001, 119.24129032258065, 'X[4] <= 3748.5\\ngini = 0.97\\nsamples = 379\\nvalue = [0, 0, 0 ... 0, 0, 0]'),\n",
       " Text(538.81875, 105.21290322580649, 'X[4] <= 3744.5\\ngini = 0.89\\nsamples = 115\\nvalue = [0, 0, 0 ... 0, 0, 0]'),\n",
       " Text(536.72625, 91.18451612903226, 'gini = 0.82\\nsamples = 56\\nvalue = [0, 0, 0 ... 0, 0, 0]'),\n",
       " Text(540.9112500000001, 91.18451612903226, 'gini = 0.742\\nsamples = 59\\nvalue = [0, 0, 0 ... 0, 0, 0]'),\n",
       " Text(547.18875, 105.21290322580649, 'X[4] <= 3766.5\\ngini = 0.96\\nsamples = 264\\nvalue = [0, 0, 0 ... 0, 0, 0]'),\n",
       " Text(545.09625, 91.18451612903226, 'X[4] <= 3761.5\\ngini = 0.942\\nsamples = 179\\nvalue = [0, 0, 0 ... 0, 0, 0]'),\n",
       " Text(543.0037500000001, 77.1561290322581, 'X[4] <= 3754.5\\ngini = 0.92\\nsamples = 127\\nvalue = [0, 0, 0 ... 0, 0, 0]'),\n",
       " Text(540.9112500000001, 63.12774193548387, 'gini = 0.829\\nsamples = 64\\nvalue = [0, 0, 0 ... 0, 0, 0]'),\n",
       " Text(545.09625, 63.12774193548387, 'gini = 0.851\\nsamples = 63\\nvalue = [0, 0, 0 ... 0, 0, 0]'),\n",
       " Text(547.18875, 77.1561290322581, 'gini = 0.79\\nsamples = 52\\nvalue = [0, 0, 0 ... 0, 0, 0]'),\n",
       " Text(549.2812500000001, 91.18451612903226, 'gini = 0.868\\nsamples = 85\\nvalue = [0, 0, 0 ... 0, 0, 0]'),\n",
       " Text(541.9575000000001, 133.26967741935488, 'gini = 0.828\\nsamples = 70\\nvalue = [0, 0, 0 ... 0, 0, 0]'),\n",
       " Text(548.235, 147.29806451612905, 'X[4] <= 3783.5\\ngini = 0.924\\nsamples = 193\\nvalue = [0, 0, 0 ... 0, 0, 0]'),\n",
       " Text(546.1425, 133.26967741935488, 'gini = 0.665\\nsamples = 55\\nvalue = [0, 0, 0 ... 0, 0, 0]'),\n",
       " Text(550.3275000000001, 133.26967741935488, 'X[4] <= 3787.5\\ngini = 0.905\\nsamples = 138\\nvalue = [0, 0, 0 ... 0, 0, 0]'),\n",
       " Text(548.235, 119.24129032258065, 'gini = 0.748\\nsamples = 61\\nvalue = [0, 0, 0 ... 0, 0, 0]'),\n",
       " Text(552.4200000000001, 119.24129032258065, 'gini = 0.852\\nsamples = 77\\nvalue = [0, 0, 0 ... 0, 0, 0]'),\n",
       " Text(548.235, 161.3264516129032, 'gini = 0.734\\nsamples = 58\\nvalue = [0, 0, 0 ... 0, 0, 0]'),\n",
       " Text(566.6669824218751, 175.35483870967744, 'X[4] <= 3811.5\\ngini = 1.0\\nsamples = 32936\\nvalue = [0, 0, 0 ... 1, 1, 1]'),\n",
       " Text(554.5125, 161.3264516129032, 'X[4] <= 3807.5\\ngini = 0.918\\nsamples = 150\\nvalue = [0, 0, 0 ... 0, 0, 0]'),\n",
       " Text(552.4200000000001, 147.29806451612905, 'gini = 0.886\\nsamples = 96\\nvalue = [0, 0, 0 ... 0, 0, 0]'),\n",
       " Text(556.605, 147.29806451612905, 'gini = 0.725\\nsamples = 54\\nvalue = [0, 0, 0 ... 0, 0, 0]'),\n",
       " Text(578.82146484375, 161.3264516129032, 'X[4] <= 3844.5\\ngini = 1.0\\nsamples = 32786\\nvalue = [0, 0, 0 ... 1, 1, 1]'),\n",
       " Text(560.7900000000001, 147.29806451612905, 'X[4] <= 3837.5\\ngini = 0.968\\nsamples = 382\\nvalue = [0, 0, 0 ... 0, 0, 0]'),\n",
       " Text(558.6975000000001, 133.26967741935488, 'X[4] <= 3832.5\\ngini = 0.959\\nsamples = 290\\nvalue = [0, 0, 0 ... 0, 0, 0]'),\n",
       " Text(556.605, 119.24129032258065, 'X[4] <= 3816.5\\ngini = 0.95\\nsamples = 230\\nvalue = [0, 0, 0 ... 0, 0, 0]'),\n",
       " Text(554.5125, 105.21290322580649, 'gini = 0.798\\nsamples = 58\\nvalue = [0, 0, 0 ... 0, 0, 0]'),\n",
       " Text(558.6975000000001, 105.21290322580649, 'X[4] <= 3822.5\\ngini = 0.933\\nsamples = 172\\nvalue = [0, 0, 0 ... 0, 0, 0]'),\n",
       " Text(556.605, 91.18451612903226, 'gini = 0.81\\nsamples = 64\\nvalue = [0, 0, 0 ... 0, 0, 0]'),\n",
       " Text(560.7900000000001, 91.18451612903226, 'X[4] <= 3827.5\\ngini = 0.898\\nsamples = 108\\nvalue = [0, 0, 0 ... 0, 0, 0]'),\n",
       " Text(558.6975000000001, 77.1561290322581, 'gini = 0.798\\nsamples = 52\\nvalue = [0, 0, 0 ... 0, 0, 0]'),\n",
       " Text(562.8825, 77.1561290322581, 'gini = 0.794\\nsamples = 56\\nvalue = [0, 0, 0 ... 0, 0, 0]'),\n",
       " Text(560.7900000000001, 119.24129032258065, 'gini = 0.788\\nsamples = 60\\nvalue = [0, 0, 0 ... 0, 0, 0]'),\n",
       " Text(562.8825, 133.26967741935488, 'gini = 0.849\\nsamples = 92\\nvalue = [0, 0, 0 ... 0, 0, 0]'),\n",
       " Text(596.8529296875, 147.29806451612905, 'X[4] <= 3921.5\\ngini = 1.0\\nsamples = 32404\\nvalue = [0, 0, 0 ... 1, 1, 1]'),\n",
       " Text(580.66875, 133.26967741935488, 'X[4] <= 3917.5\\ngini = 0.985\\nsamples = 827\\nvalue = [0, 0, 0 ... 0, 0, 0]'),\n",
       " Text(578.5762500000001, 119.24129032258065, 'X[4] <= 3911.5\\ngini = 0.985\\nsamples = 768\\nvalue = [0, 0, 0 ... 0, 0, 0]'),\n",
       " Text(576.4837500000001, 105.21290322580649, 'X[4] <= 3889.5\\ngini = 0.983\\nsamples = 698\\nvalue = [0, 0, 0 ... 0, 0, 0]'),\n",
       " Text(571.2525, 91.18451612903226, 'X[4] <= 3874.5\\ngini = 0.975\\nsamples = 463\\nvalue = [0, 0, 0 ... 0, 0, 0]'),\n",
       " Text(567.0675000000001, 77.1561290322581, 'X[4] <= 3867.5\\ngini = 0.964\\nsamples = 299\\nvalue = [0, 0, 0 ... 0, 0, 0]'),\n",
       " Text(564.975, 63.12774193548387, 'X[4] <= 3849.5\\ngini = 0.953\\nsamples = 223\\nvalue = [0, 0, 0 ... 0, 0, 0]'),\n",
       " Text(562.8825, 49.0993548387097, 'gini = 0.784\\nsamples = 53\\nvalue = [0, 0, 0 ... 0, 0, 0]'),\n",
       " Text(567.0675000000001, 49.0993548387097, 'X[4] <= 3861.5\\ngini = 0.94\\nsamples = 170\\nvalue = [0, 0, 0 ... 0, 0, 0]'),\n",
       " Text(564.975, 35.07096774193553, 'X[4] <= 3856.5\\ngini = 0.914\\nsamples = 118\\nvalue = [0, 0, 0 ... 0, 0, 0]'),\n",
       " Text(562.8825, 21.04258064516131, 'gini = 0.853\\nsamples = 66\\nvalue = [0, 0, 0 ... 0, 0, 0]'),\n",
       " Text(567.0675000000001, 21.04258064516131, 'gini = 0.792\\nsamples = 52\\nvalue = [0, 0, 0 ... 0, 0, 0]'),\n",
       " Text(569.1600000000001, 35.07096774193553, 'gini = 0.8\\nsamples = 52\\nvalue = [0, 0, 0 ... 0, 0, 0]'),\n",
       " Text(569.1600000000001, 63.12774193548387, 'gini = 0.847\\nsamples = 76\\nvalue = [0, 0, 0 ... 0, 0, 0]'),\n",
       " Text(575.4375000000001, 77.1561290322581, 'X[4] <= 3878.5\\ngini = 0.923\\nsamples = 164\\nvalue = [0, 0, 0 ... 0, 0, 0]'),\n",
       " Text(573.345, 63.12774193548387, 'gini = 0.714\\nsamples = 51\\nvalue = [0, 0, 0 ... 0, 0, 0]'),\n",
       " Text(577.5300000000001, 63.12774193548387, 'X[4] <= 3883.5\\ngini = 0.896\\nsamples = 113\\nvalue = [0, 0, 0 ... 0, 0, 0]'),\n",
       " Text(575.4375000000001, 49.0993548387097, 'gini = 0.774\\nsamples = 56\\nvalue = [0, 0, 0 ... 0, 0, 0]'),\n",
       " Text(579.6225000000001, 49.0993548387097, 'gini = 0.808\\nsamples = 57\\nvalue = [0, 0, 0 ... 0, 0, 0]'),\n",
       " Text(581.715, 91.18451612903226, 'X[4] <= 3893.5\\ngini = 0.949\\nsamples = 235\\nvalue = [0, 0, 0 ... 0, 0, 0]'),\n",
       " Text(579.6225000000001, 77.1561290322581, 'gini = 0.738\\nsamples = 53\\nvalue = [0, 0, 0 ... 0, 0, 0]'),\n",
       " Text(583.8075000000001, 77.1561290322581, 'X[4] <= 3898.5\\ngini = 0.937\\nsamples = 182\\nvalue = [0, 0, 0 ... 0, 0, 0]'),\n",
       " Text(581.715, 63.12774193548387, 'gini = 0.782\\nsamples = 60\\nvalue = [0, 0, 0 ... 0, 0, 0]'),\n",
       " Text(585.9000000000001, 63.12774193548387, 'X[4] <= 3903.5\\ngini = 0.912\\nsamples = 122\\nvalue = [0, 0, 0 ... 0, 0, 0]'),\n",
       " Text(583.8075000000001, 49.0993548387097, 'gini = 0.778\\nsamples = 50\\nvalue = [0, 0, 0 ... 0, 0, 0]'),\n",
       " Text(587.9925000000001, 49.0993548387097, 'gini = 0.856\\nsamples = 72\\nvalue = [0, 0, 0 ... 0, 0, 0]'),\n",
       " Text(580.66875, 105.21290322580649, 'gini = 0.823\\nsamples = 70\\nvalue = [0, 0, 0 ... 0, 0, 0]'),\n",
       " Text(582.76125, 119.24129032258065, 'gini = 0.73\\nsamples = 59\\nvalue = [0, 0, 0 ... 0, 0, 0]'),\n",
       " Text(613.0371093750001, 133.26967741935488, 'X[4] <= 3976.5\\ngini = 1.0\\nsamples = 31577\\nvalue = [0, 0, 0 ... 1, 1, 1]'),\n",
       " Text(603.6862500000001, 119.24129032258065, 'X[4] <= 3965.5\\ngini = 0.98\\nsamples = 559\\nvalue = [0, 0, 0 ... 0, 0, 0]'),\n",
       " Text(598.455, 105.21290322580649, 'X[4] <= 3945.5\\ngini = 0.975\\nsamples = 427\\nvalue = [0, 0, 0 ... 0, 0, 0]'),\n",
       " Text(594.2700000000001, 91.18451612903226, 'X[4] <= 3939.5\\ngini = 0.955\\nsamples = 224\\nvalue = [0, 0, 0 ... 0, 0, 0]'),\n",
       " Text(592.1775000000001, 77.1561290322581, 'X[4] <= 3929.5\\ngini = 0.942\\nsamples = 171\\nvalue = [0, 0, 0 ... 0, 0, 0]'),\n",
       " Text(590.085, 63.12774193548387, 'gini = 0.868\\nsamples = 77\\nvalue = [0, 0, 0 ... 0, 0, 0]'),\n",
       " Text(594.2700000000001, 63.12774193548387, 'gini = 0.896\\nsamples = 94\\nvalue = [0, 0, 0 ... 0, 0, 0]'),\n",
       " Text(596.3625000000001, 77.1561290322581, 'gini = 0.806\\nsamples = 53\\nvalue = [0, 0, 0 ... 0, 0, 0]'),\n",
       " Text(602.6400000000001, 91.18451612903226, 'X[4] <= 3949.5\\ngini = 0.944\\nsamples = 203\\nvalue = [0, 0, 0 ... 0, 0, 0]'),\n",
       " Text(600.5475000000001, 77.1561290322581, 'gini = 0.736\\nsamples = 55\\nvalue = [0, 0, 0 ... 0, 0, 0]'),\n",
       " Text(604.7325000000001, 77.1561290322581, 'X[4] <= 3955.5\\ngini = 0.932\\nsamples = 148\\nvalue = [0, 0, 0 ... 0, 0, 0]'),\n",
       " Text(602.6400000000001, 63.12774193548387, 'gini = 0.816\\nsamples = 60\\nvalue = [0, 0, 0 ... 0, 0, 0]'),\n",
       " Text(606.825, 63.12774193548387, 'gini = 0.893\\nsamples = 88\\nvalue = [0, 0, 0 ... 0, 0, 0]'),\n",
       " Text(608.9175, 105.21290322580649, 'X[4] <= 3969.5\\ngini = 0.901\\nsamples = 132\\nvalue = [0, 0, 0 ... 0, 0, 0]'),\n",
       " Text(606.825, 91.18451612903226, 'gini = 0.723\\nsamples = 52\\nvalue = [0, 0, 0 ... 0, 0, 0]'),\n",
       " Text(611.0100000000001, 91.18451612903226, 'gini = 0.848\\nsamples = 80\\nvalue = [0, 0, 0 ... 0, 0, 0]'),\n",
       " Text(622.38796875, 119.24129032258065, 'X[4] <= 3982.5\\ngini = 1.0\\nsamples = 31018\\nvalue = [0, 0, 0 ... 1, 1, 1]'),\n",
       " Text(620.29546875, 105.21290322580649, 'gini = 0.815\\nsamples = 56\\nvalue = [0, 0, 0 ... 0, 0, 0]'),\n",
       " Text(624.4804687500001, 105.21290322580649, 'X[4] <= 3994.5\\ngini = 1.0\\nsamples = 30962\\nvalue = [0, 0, 0 ... 1, 1, 1]'),\n",
       " Text(615.195, 91.18451612903226, 'X[4] <= 3989.5\\ngini = 0.906\\nsamples = 109\\nvalue = [0, 0, 0 ... 0, 0, 0]'),\n",
       " Text(613.1025000000001, 77.1561290322581, 'gini = 0.832\\nsamples = 53\\nvalue = [0, 0, 0 ... 0, 0, 0]'),\n",
       " Text(617.2875, 77.1561290322581, 'gini = 0.793\\nsamples = 56\\nvalue = [0, 0, 0 ... 0, 0, 0]'),\n",
       " Text(633.7659375000001, 91.18451612903226, 'X[4] <= 4033.5\\ngini = 1.0\\nsamples = 30853\\nvalue = [0, 0, 0 ... 1, 1, 1]'),\n",
       " Text(621.4725000000001, 77.1561290322581, 'X[4] <= 4027.5\\ngini = 0.972\\nsamples = 358\\nvalue = [0, 0, 0 ... 0, 0, 0]'),\n",
       " Text(619.3800000000001, 63.12774193548387, 'X[4] <= 4017.5\\ngini = 0.967\\nsamples = 286\\nvalue = [0, 0, 0 ... 0, 0, 0]'),\n",
       " Text(617.2875, 49.0993548387097, 'X[4] <= 4000.5\\ngini = 0.954\\nsamples = 194\\nvalue = [0, 0, 0 ... 0, 0, 0]'),\n",
       " Text(615.195, 35.07096774193553, 'gini = 0.823\\nsamples = 54\\nvalue = [0, 0, 0 ... 0, 0, 0]'),\n",
       " Text(619.3800000000001, 35.07096774193553, 'X[4] <= 4010.5\\ngini = 0.939\\nsamples = 140\\nvalue = [0, 0, 0 ... 0, 0, 0]'),\n",
       " Text(617.2875, 21.04258064516131, 'gini = 0.895\\nsamples = 78\\nvalue = [0, 0, 0 ... 0, 0, 0]'),\n",
       " Text(621.4725000000001, 21.04258064516131, 'gini = 0.852\\nsamples = 62\\nvalue = [0, 0, 0 ... 0, 0, 0]'),\n",
       " Text(621.4725000000001, 49.0993548387097, 'gini = 0.886\\nsamples = 92\\nvalue = [0, 0, 0 ... 0, 0, 0]'),\n",
       " Text(623.565, 63.12774193548387, 'gini = 0.828\\nsamples = 72\\nvalue = [0, 0, 0 ... 0, 0, 0]'),\n",
       " Text(646.059375, 77.1561290322581, 'X[4] <= 4204.5\\ngini = 1.0\\nsamples = 30495\\nvalue = [0, 0, 0 ... 1, 1, 1]'),\n",
       " Text(637.1662500000001, 63.12774193548387, 'X[4] <= 4198.5\\ngini = 0.994\\nsamples = 1527\\nvalue = [0, 0, 0 ... 0, 0, 0]'),\n",
       " Text(635.0737500000001, 49.0993548387097, 'X[4] <= 4180.5\\ngini = 0.993\\nsamples = 1450\\nvalue = [0, 0, 0 ... 0, 0, 0]'),\n",
       " Text(629.8425000000001, 35.07096774193553, 'X[4] <= 4165.5\\ngini = 0.992\\nsamples = 1271\\nvalue = [0, 0, 0 ... 0, 0, 0]'),\n",
       " Text(625.6575, 21.04258064516131, 'X[4] <= 4157.5\\ngini = 0.992\\nsamples = 1114\\nvalue = [0, 0, 0 ... 0, 0, 0]'),\n",
       " Text(623.565, 7.014193548387141, 'gini = 0.991\\nsamples = 1035\\nvalue = [0, 0, 0 ... 0, 0, 0]'),\n",
       " Text(627.7500000000001, 7.014193548387141, 'gini = 0.861\\nsamples = 79\\nvalue = [0, 0, 0 ... 0, 0, 0]'),\n",
       " Text(634.0275, 21.04258064516131, 'X[4] <= 4169.5\\ngini = 0.927\\nsamples = 157\\nvalue = [0, 0, 0 ... 0, 0, 0]'),\n",
       " Text(631.9350000000001, 7.014193548387141, 'gini = 0.735\\nsamples = 51\\nvalue = [0, 0, 0 ... 0, 0, 0]'),\n",
       " Text(636.1200000000001, 7.014193548387141, 'gini = 0.9\\nsamples = 106\\nvalue = [0, 0, 0 ... 0, 0, 0]'),\n",
       " Text(640.3050000000001, 35.07096774193553, 'X[4] <= 4187.5\\ngini = 0.938\\nsamples = 179\\nvalue = [0, 0, 0 ... 0, 0, 0]'),\n",
       " Text(638.2125000000001, 21.04258064516131, 'gini = 0.851\\nsamples = 80\\nvalue = [0, 0, 0 ... 0, 0, 0]'),\n",
       " Text(642.3975, 21.04258064516131, 'gini = 0.895\\nsamples = 99\\nvalue = [0, 0, 0 ... 0, 0, 0]'),\n",
       " Text(639.2587500000001, 49.0993548387097, 'gini = 0.822\\nsamples = 77\\nvalue = [0, 0, 0 ... 0, 0, 0]'),\n",
       " Text(654.9525000000001, 63.12774193548387, 'X[4] <= 4261.5\\ngini = 1.0\\nsamples = 28968\\nvalue = [0, 0, 0 ... 1, 1, 1]'),\n",
       " Text(650.7675, 49.0993548387097, 'X[4] <= 4257.5\\ngini = 0.981\\nsamples = 519\\nvalue = [0, 0, 0 ... 0, 0, 0]'),\n",
       " Text(648.6750000000001, 35.07096774193553, 'X[4] <= 4247.5\\ngini = 0.979\\nsamples = 465\\nvalue = [0, 0, 0 ... 0, 0, 0]'),\n",
       " Text(646.5825000000001, 21.04258064516131, 'X[4] <= 4238.5\\ngini = 0.974\\nsamples = 367\\nvalue = [0, 0, 0 ... 0, 0, 0]'),\n",
       " Text(644.4900000000001, 7.014193548387141, 'gini = 0.968\\nsamples = 273\\nvalue = [0, 0, 0 ... 0, 0, 0]'),\n",
       " Text(648.6750000000001, 7.014193548387141, 'gini = 0.881\\nsamples = 94\\nvalue = [0, 0, 0 ... 0, 0, 0]'),\n",
       " Text(650.7675, 21.04258064516131, 'gini = 0.891\\nsamples = 98\\nvalue = [0, 0, 0 ... 0, 0, 0]'),\n",
       " Text(652.8600000000001, 35.07096774193553, 'gini = 0.747\\nsamples = 54\\nvalue = [0, 0, 0 ... 0, 0, 0]'),\n",
       " Text(659.1375, 49.0993548387097, 'X[4] <= 4270.5\\ngini = 1.0\\nsamples = 28449\\nvalue = [0, 0, 0 ... 1, 1, 1]'),\n",
       " Text(657.0450000000001, 35.07096774193553, 'gini = 0.883\\nsamples = 85\\nvalue = [0, 0, 0 ... 0, 0, 0]'),\n",
       " Text(661.2300000000001, 35.07096774193553, 'X[4] <= 4451.5\\ngini = 1.0\\nsamples = 28364\\nvalue = [0, 0, 0 ... 1, 1, 1]'),\n",
       " Text(657.0450000000001, 21.04258064516131, 'X[4] <= 4446.5\\ngini = 0.994\\nsamples = 1482\\nvalue = [0, 0, 0 ... 0, 0, 0]'),\n",
       " Text(654.9525000000001, 7.014193548387141, 'gini = 0.994\\nsamples = 1429\\nvalue = [0, 0, 0 ... 0, 0, 0]'),\n",
       " Text(659.1375, 7.014193548387141, 'gini = 0.782\\nsamples = 53\\nvalue = [0, 0, 0 ... 0, 0, 0]'),\n",
       " Text(665.4150000000001, 21.04258064516131, 'X[4] <= 4559.5\\ngini = 1.0\\nsamples = 26882\\nvalue = [0, 0, 0 ... 1, 1, 1]'),\n",
       " Text(663.3225000000001, 7.014193548387141, 'gini = 0.99\\nsamples = 887\\nvalue = [0, 0, 0 ... 0, 0, 0]'),\n",
       " Text(667.5075, 7.014193548387141, 'gini = 1.0\\nsamples = 25995\\nvalue = [0, 0, 0 ... 1, 1, 1]')]"
      ]
     },
     "execution_count": 311,
     "metadata": {},
     "output_type": "execute_result"
    },
    {
     "data": {
      "image/png": "[encoded data removed]",
      "text/plain": [
       "<Figure size 864x576 with 1 Axes>"
      ]
     },
     "metadata": {
      "needs_background": "light"
     },
     "output_type": "display_data"
    }
   ],
   "source": [
    "\n",
    "\n",
    "plt.figure(figsize=(12,8))\n",
    "\n",
    "from sklearn import tree\n",
    "\n",
    "tree.plot_tree(clf.fit(X_train, y_train)) \n",
    "\n"
   ]
  },
  {
   "cell_type": "code",
   "execution_count": null,
   "id": "12802cd9",
   "metadata": {},
   "outputs": [],
   "source": []
  }
 ],
 "metadata": {
  "celltoolbar": "Aucun(e)",
  "kernelspec": {
   "display_name": "Python 3 (ipykernel)",
   "language": "python",
   "name": "python3"
  },
  "language_info": {
   "codemirror_mode": {
    "name": "ipython",
    "version": 3
   },
   "file_extension": ".py",
   "mimetype": "text/x-python",
   "name": "python",
   "nbconvert_exporter": "python",
   "pygments_lexer": "ipython3",
   "version": "3.9.7"
  }
 },
 "nbformat": 4,
 "nbformat_minor": 5
}
